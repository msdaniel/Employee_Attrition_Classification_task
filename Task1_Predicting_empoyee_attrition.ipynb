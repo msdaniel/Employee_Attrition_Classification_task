{
 "cells": [
  {
   "cell_type": "code",
   "execution_count": 1,
   "id": "d82cebc3",
   "metadata": {
    "id": "d82cebc3"
   },
   "outputs": [],
   "source": [
    "import pandas as pd\n",
    "import numpy as np\n",
    "import matplotlib.pyplot as plt\n",
    "import seaborn as sns\n",
    "\n",
    "# To scale the data using z-score \n",
    "from sklearn.preprocessing import StandardScaler\n",
    "\n",
    "from sklearn.model_selection import train_test_split\n",
    "\n",
    "# Algorithms to use\n",
    "from sklearn.linear_model import LogisticRegression\n",
    "\n",
    "from sklearn.svm import SVC\n",
    "\n",
    "from sklearn.tree import DecisionTreeClassifier\n",
    "\n",
    "from sklearn.ensemble import BaggingClassifier\n",
    "\n",
    "from sklearn.ensemble import RandomForestClassifier\n",
    "\n",
    "# Metrics to evaluate the model\n",
    "from sklearn import metrics\n",
    "from sklearn.metrics import confusion_matrix, classification_report, precision_recall_curve,recall_score\n",
    "from sklearn import tree\n",
    "\n",
    "\n",
    "# For tuning the model\n",
    "from sklearn.model_selection import GridSearchCV\n",
    "\n",
    "import tensorflow as tf\n",
    "from tensorflow.keras.models import Sequential\n",
    "from tensorflow.keras.layers import Dense, Dropout, Activation\n",
    "\n",
    "# To ignore warnings\n",
    "import warnings\n",
    "warnings.filterwarnings(\"ignore\")"
   ]
  },
  {
   "cell_type": "code",
   "execution_count": null,
   "id": "z4JD9fKf32kg",
   "metadata": {
    "colab": {
     "base_uri": "https://localhost:8080/"
    },
    "id": "z4JD9fKf32kg",
    "outputId": "6dbdc42e-8b6c-4fae-bc64-d40c56e1d898"
   },
   "outputs": [],
   "source": [
    "# #mount drive\n",
    "# from google.colab import drive\n",
    "# drive.mount('/content/drive')"
   ]
  },
  {
   "cell_type": "markdown",
   "id": "99e61762",
   "metadata": {
    "id": "99e61762"
   },
   "source": [
    "### **Loading the Dataset**"
   ]
  },
  {
   "cell_type": "code",
   "execution_count": 3,
   "id": "b22c106f",
   "metadata": {
    "id": "b22c106f"
   },
   "outputs": [],
   "source": [
    "df=pd.read_csv('HR-Employee-Attrition.tsv',sep='\\t')\n",
    "#reading and loading the dataset\n",
    "#df = pd.read_csv(\"/content/drive/MyDrive/HR_Attrition/HR-Employee-Attrition.tsv\",sep='\\t')"
   ]
  },
  {
   "cell_type": "code",
   "execution_count": 4,
   "id": "4201c910",
   "metadata": {
    "colab": {
     "base_uri": "https://localhost:8080/",
     "height": 369
    },
    "id": "4201c910",
    "outputId": "436babdd-8fae-4902-d4eb-7355e9f91917"
   },
   "outputs": [
    {
     "data": {
      "text/html": [
       "\n",
       "  <div id=\"df-db2cbbc8-685d-4c18-85a9-0875c93b6f68\">\n",
       "    <div class=\"colab-df-container\">\n",
       "      <div>\n",
       "<style scoped>\n",
       "    .dataframe tbody tr th:only-of-type {\n",
       "        vertical-align: middle;\n",
       "    }\n",
       "\n",
       "    .dataframe tbody tr th {\n",
       "        vertical-align: top;\n",
       "    }\n",
       "\n",
       "    .dataframe thead th {\n",
       "        text-align: right;\n",
       "    }\n",
       "</style>\n",
       "<table border=\"1\" class=\"dataframe\">\n",
       "  <thead>\n",
       "    <tr style=\"text-align: right;\">\n",
       "      <th></th>\n",
       "      <th>Age</th>\n",
       "      <th>Attrition</th>\n",
       "      <th>BusinessTravel</th>\n",
       "      <th>DailyRate</th>\n",
       "      <th>Department</th>\n",
       "      <th>DistanceFromHome</th>\n",
       "      <th>Education</th>\n",
       "      <th>EducationField</th>\n",
       "      <th>EmployeeCount</th>\n",
       "      <th>EmployeeNumber</th>\n",
       "      <th>...</th>\n",
       "      <th>RelationshipSatisfaction</th>\n",
       "      <th>StandardHours</th>\n",
       "      <th>StockOptionLevel</th>\n",
       "      <th>TotalWorkingYears</th>\n",
       "      <th>TrainingTimesLastYear</th>\n",
       "      <th>WorkLifeBalance</th>\n",
       "      <th>YearsAtCompany</th>\n",
       "      <th>YearsInCurrentRole</th>\n",
       "      <th>YearsSinceLastPromotion</th>\n",
       "      <th>YearsWithCurrManager</th>\n",
       "    </tr>\n",
       "  </thead>\n",
       "  <tbody>\n",
       "    <tr>\n",
       "      <th>0</th>\n",
       "      <td>41</td>\n",
       "      <td>Yes</td>\n",
       "      <td>Travel_Rarely</td>\n",
       "      <td>1102</td>\n",
       "      <td>Sales</td>\n",
       "      <td>1</td>\n",
       "      <td>2</td>\n",
       "      <td>Life Sciences</td>\n",
       "      <td>1</td>\n",
       "      <td>1</td>\n",
       "      <td>...</td>\n",
       "      <td>1</td>\n",
       "      <td>80</td>\n",
       "      <td>0</td>\n",
       "      <td>8</td>\n",
       "      <td>0</td>\n",
       "      <td>1</td>\n",
       "      <td>6</td>\n",
       "      <td>4</td>\n",
       "      <td>0</td>\n",
       "      <td>5</td>\n",
       "    </tr>\n",
       "    <tr>\n",
       "      <th>1</th>\n",
       "      <td>49</td>\n",
       "      <td>No</td>\n",
       "      <td>Travel_Frequently</td>\n",
       "      <td>279</td>\n",
       "      <td>Research &amp; Development</td>\n",
       "      <td>8</td>\n",
       "      <td>1</td>\n",
       "      <td>Life Sciences</td>\n",
       "      <td>1</td>\n",
       "      <td>2</td>\n",
       "      <td>...</td>\n",
       "      <td>4</td>\n",
       "      <td>80</td>\n",
       "      <td>1</td>\n",
       "      <td>10</td>\n",
       "      <td>3</td>\n",
       "      <td>3</td>\n",
       "      <td>10</td>\n",
       "      <td>7</td>\n",
       "      <td>1</td>\n",
       "      <td>7</td>\n",
       "    </tr>\n",
       "    <tr>\n",
       "      <th>2</th>\n",
       "      <td>37</td>\n",
       "      <td>Yes</td>\n",
       "      <td>Travel_Rarely</td>\n",
       "      <td>1373</td>\n",
       "      <td>Research &amp; Development</td>\n",
       "      <td>2</td>\n",
       "      <td>2</td>\n",
       "      <td>Other</td>\n",
       "      <td>1</td>\n",
       "      <td>4</td>\n",
       "      <td>...</td>\n",
       "      <td>2</td>\n",
       "      <td>80</td>\n",
       "      <td>0</td>\n",
       "      <td>7</td>\n",
       "      <td>3</td>\n",
       "      <td>3</td>\n",
       "      <td>0</td>\n",
       "      <td>0</td>\n",
       "      <td>0</td>\n",
       "      <td>0</td>\n",
       "    </tr>\n",
       "    <tr>\n",
       "      <th>3</th>\n",
       "      <td>33</td>\n",
       "      <td>No</td>\n",
       "      <td>Travel_Frequently</td>\n",
       "      <td>1392</td>\n",
       "      <td>Research &amp; Development</td>\n",
       "      <td>3</td>\n",
       "      <td>4</td>\n",
       "      <td>Life Sciences</td>\n",
       "      <td>1</td>\n",
       "      <td>5</td>\n",
       "      <td>...</td>\n",
       "      <td>3</td>\n",
       "      <td>80</td>\n",
       "      <td>0</td>\n",
       "      <td>8</td>\n",
       "      <td>3</td>\n",
       "      <td>3</td>\n",
       "      <td>8</td>\n",
       "      <td>7</td>\n",
       "      <td>3</td>\n",
       "      <td>0</td>\n",
       "    </tr>\n",
       "    <tr>\n",
       "      <th>4</th>\n",
       "      <td>27</td>\n",
       "      <td>No</td>\n",
       "      <td>Travel_Rarely</td>\n",
       "      <td>591</td>\n",
       "      <td>Research &amp; Development</td>\n",
       "      <td>2</td>\n",
       "      <td>1</td>\n",
       "      <td>Medical</td>\n",
       "      <td>1</td>\n",
       "      <td>7</td>\n",
       "      <td>...</td>\n",
       "      <td>4</td>\n",
       "      <td>80</td>\n",
       "      <td>1</td>\n",
       "      <td>6</td>\n",
       "      <td>3</td>\n",
       "      <td>3</td>\n",
       "      <td>2</td>\n",
       "      <td>2</td>\n",
       "      <td>2</td>\n",
       "      <td>2</td>\n",
       "    </tr>\n",
       "  </tbody>\n",
       "</table>\n",
       "<p>5 rows × 35 columns</p>\n",
       "</div>\n",
       "      <button class=\"colab-df-convert\" onclick=\"convertToInteractive('df-db2cbbc8-685d-4c18-85a9-0875c93b6f68')\"\n",
       "              title=\"Convert this dataframe to an interactive table.\"\n",
       "              style=\"display:none;\">\n",
       "        \n",
       "  <svg xmlns=\"http://www.w3.org/2000/svg\" height=\"24px\"viewBox=\"0 0 24 24\"\n",
       "       width=\"24px\">\n",
       "    <path d=\"M0 0h24v24H0V0z\" fill=\"none\"/>\n",
       "    <path d=\"M18.56 5.44l.94 2.06.94-2.06 2.06-.94-2.06-.94-.94-2.06-.94 2.06-2.06.94zm-11 1L8.5 8.5l.94-2.06 2.06-.94-2.06-.94L8.5 2.5l-.94 2.06-2.06.94zm10 10l.94 2.06.94-2.06 2.06-.94-2.06-.94-.94-2.06-.94 2.06-2.06.94z\"/><path d=\"M17.41 7.96l-1.37-1.37c-.4-.4-.92-.59-1.43-.59-.52 0-1.04.2-1.43.59L10.3 9.45l-7.72 7.72c-.78.78-.78 2.05 0 2.83L4 21.41c.39.39.9.59 1.41.59.51 0 1.02-.2 1.41-.59l7.78-7.78 2.81-2.81c.8-.78.8-2.07 0-2.86zM5.41 20L4 18.59l7.72-7.72 1.47 1.35L5.41 20z\"/>\n",
       "  </svg>\n",
       "      </button>\n",
       "      \n",
       "  <style>\n",
       "    .colab-df-container {\n",
       "      display:flex;\n",
       "      flex-wrap:wrap;\n",
       "      gap: 12px;\n",
       "    }\n",
       "\n",
       "    .colab-df-convert {\n",
       "      background-color: #E8F0FE;\n",
       "      border: none;\n",
       "      border-radius: 50%;\n",
       "      cursor: pointer;\n",
       "      display: none;\n",
       "      fill: #1967D2;\n",
       "      height: 32px;\n",
       "      padding: 0 0 0 0;\n",
       "      width: 32px;\n",
       "    }\n",
       "\n",
       "    .colab-df-convert:hover {\n",
       "      background-color: #E2EBFA;\n",
       "      box-shadow: 0px 1px 2px rgba(60, 64, 67, 0.3), 0px 1px 3px 1px rgba(60, 64, 67, 0.15);\n",
       "      fill: #174EA6;\n",
       "    }\n",
       "\n",
       "    [theme=dark] .colab-df-convert {\n",
       "      background-color: #3B4455;\n",
       "      fill: #D2E3FC;\n",
       "    }\n",
       "\n",
       "    [theme=dark] .colab-df-convert:hover {\n",
       "      background-color: #434B5C;\n",
       "      box-shadow: 0px 1px 3px 1px rgba(0, 0, 0, 0.15);\n",
       "      filter: drop-shadow(0px 1px 2px rgba(0, 0, 0, 0.3));\n",
       "      fill: #FFFFFF;\n",
       "    }\n",
       "  </style>\n",
       "\n",
       "      <script>\n",
       "        const buttonEl =\n",
       "          document.querySelector('#df-db2cbbc8-685d-4c18-85a9-0875c93b6f68 button.colab-df-convert');\n",
       "        buttonEl.style.display =\n",
       "          google.colab.kernel.accessAllowed ? 'block' : 'none';\n",
       "\n",
       "        async function convertToInteractive(key) {\n",
       "          const element = document.querySelector('#df-db2cbbc8-685d-4c18-85a9-0875c93b6f68');\n",
       "          const dataTable =\n",
       "            await google.colab.kernel.invokeFunction('convertToInteractive',\n",
       "                                                     [key], {});\n",
       "          if (!dataTable) return;\n",
       "\n",
       "          const docLinkHtml = 'Like what you see? Visit the ' +\n",
       "            '<a target=\"_blank\" href=https://colab.research.google.com/notebooks/data_table.ipynb>data table notebook</a>'\n",
       "            + ' to learn more about interactive tables.';\n",
       "          element.innerHTML = '';\n",
       "          dataTable['output_type'] = 'display_data';\n",
       "          await google.colab.output.renderOutput(dataTable, element);\n",
       "          const docLink = document.createElement('div');\n",
       "          docLink.innerHTML = docLinkHtml;\n",
       "          element.appendChild(docLink);\n",
       "        }\n",
       "      </script>\n",
       "    </div>\n",
       "  </div>\n",
       "  "
      ],
      "text/plain": [
       "   Age Attrition     BusinessTravel  DailyRate              Department  \\\n",
       "0   41       Yes      Travel_Rarely       1102                   Sales   \n",
       "1   49        No  Travel_Frequently        279  Research & Development   \n",
       "2   37       Yes      Travel_Rarely       1373  Research & Development   \n",
       "3   33        No  Travel_Frequently       1392  Research & Development   \n",
       "4   27        No      Travel_Rarely        591  Research & Development   \n",
       "\n",
       "   DistanceFromHome  Education EducationField  EmployeeCount  EmployeeNumber  \\\n",
       "0                 1          2  Life Sciences              1               1   \n",
       "1                 8          1  Life Sciences              1               2   \n",
       "2                 2          2          Other              1               4   \n",
       "3                 3          4  Life Sciences              1               5   \n",
       "4                 2          1        Medical              1               7   \n",
       "\n",
       "   ...  RelationshipSatisfaction StandardHours  StockOptionLevel  \\\n",
       "0  ...                         1            80                 0   \n",
       "1  ...                         4            80                 1   \n",
       "2  ...                         2            80                 0   \n",
       "3  ...                         3            80                 0   \n",
       "4  ...                         4            80                 1   \n",
       "\n",
       "   TotalWorkingYears  TrainingTimesLastYear WorkLifeBalance  YearsAtCompany  \\\n",
       "0                  8                      0               1               6   \n",
       "1                 10                      3               3              10   \n",
       "2                  7                      3               3               0   \n",
       "3                  8                      3               3               8   \n",
       "4                  6                      3               3               2   \n",
       "\n",
       "  YearsInCurrentRole  YearsSinceLastPromotion  YearsWithCurrManager  \n",
       "0                  4                        0                     5  \n",
       "1                  7                        1                     7  \n",
       "2                  0                        0                     0  \n",
       "3                  7                        3                     0  \n",
       "4                  2                        2                     2  \n",
       "\n",
       "[5 rows x 35 columns]"
      ]
     },
     "execution_count": 4,
     "metadata": {},
     "output_type": "execute_result"
    }
   ],
   "source": [
    "df.head()"
   ]
  },
  {
   "cell_type": "markdown",
   "id": "8392880a",
   "metadata": {
    "id": "8392880a"
   },
   "source": [
    "### **Checking the info of the dataset**"
   ]
  },
  {
   "cell_type": "code",
   "execution_count": 5,
   "id": "e3d8e900",
   "metadata": {
    "colab": {
     "base_uri": "https://localhost:8080/"
    },
    "id": "e3d8e900",
    "outputId": "7abbe0d6-3e34-47d9-b766-f09ae9bc6a40"
   },
   "outputs": [
    {
     "name": "stdout",
     "output_type": "stream",
     "text": [
      "<class 'pandas.core.frame.DataFrame'>\n",
      "RangeIndex: 1470 entries, 0 to 1469\n",
      "Data columns (total 35 columns):\n",
      " #   Column                    Non-Null Count  Dtype \n",
      "---  ------                    --------------  ----- \n",
      " 0   Age                       1470 non-null   int64 \n",
      " 1   Attrition                 1470 non-null   object\n",
      " 2   BusinessTravel            1470 non-null   object\n",
      " 3   DailyRate                 1470 non-null   int64 \n",
      " 4   Department                1470 non-null   object\n",
      " 5   DistanceFromHome          1470 non-null   int64 \n",
      " 6   Education                 1470 non-null   int64 \n",
      " 7   EducationField            1470 non-null   object\n",
      " 8   EmployeeCount             1470 non-null   int64 \n",
      " 9   EmployeeNumber            1470 non-null   int64 \n",
      " 10  EnvironmentSatisfaction   1470 non-null   int64 \n",
      " 11  Gender                    1470 non-null   object\n",
      " 12  HourlyRate                1470 non-null   int64 \n",
      " 13  JobInvolvement            1470 non-null   int64 \n",
      " 14  JobLevel                  1470 non-null   int64 \n",
      " 15  JobRole                   1470 non-null   object\n",
      " 16  JobSatisfaction           1470 non-null   int64 \n",
      " 17  MaritalStatus             1470 non-null   object\n",
      " 18  MonthlyIncome             1470 non-null   int64 \n",
      " 19  MonthlyRate               1470 non-null   int64 \n",
      " 20  NumCompaniesWorked        1470 non-null   int64 \n",
      " 21  Over18                    1470 non-null   object\n",
      " 22  OverTime                  1470 non-null   object\n",
      " 23  PercentSalaryHike         1470 non-null   int64 \n",
      " 24  PerformanceRating         1470 non-null   int64 \n",
      " 25  RelationshipSatisfaction  1470 non-null   int64 \n",
      " 26  StandardHours             1470 non-null   int64 \n",
      " 27  StockOptionLevel          1470 non-null   int64 \n",
      " 28  TotalWorkingYears         1470 non-null   int64 \n",
      " 29  TrainingTimesLastYear     1470 non-null   int64 \n",
      " 30  WorkLifeBalance           1470 non-null   int64 \n",
      " 31  YearsAtCompany            1470 non-null   int64 \n",
      " 32  YearsInCurrentRole        1470 non-null   int64 \n",
      " 33  YearsSinceLastPromotion   1470 non-null   int64 \n",
      " 34  YearsWithCurrManager      1470 non-null   int64 \n",
      "dtypes: int64(26), object(9)\n",
      "memory usage: 402.1+ KB\n"
     ]
    }
   ],
   "source": [
    "# Let us see the info of the data\n",
    "df.info()"
   ]
  },
  {
   "cell_type": "markdown",
   "id": "699df37d",
   "metadata": {
    "id": "699df37d"
   },
   "source": [
    "**Observations:**\n",
    "\n",
    "- There are **1470 observations and 35 columns** in the dataset.\n",
    "- All the columns have 1470 non-null values, i.e., **there are no missing values in the data.**"
   ]
  },
  {
   "cell_type": "markdown",
   "id": "fbbe2385",
   "metadata": {
    "id": "fbbe2385"
   },
   "source": [
    "**Let's check the unique values in each column** "
   ]
  },
  {
   "cell_type": "code",
   "execution_count": 6,
   "id": "fb09b89f",
   "metadata": {
    "colab": {
     "base_uri": "https://localhost:8080/"
    },
    "id": "fb09b89f",
    "outputId": "3f5b897e-1dc9-4d96-db51-610c4e2f8eca"
   },
   "outputs": [
    {
     "data": {
      "text/plain": [
       "Age                           43\n",
       "Attrition                      2\n",
       "BusinessTravel                 3\n",
       "DailyRate                    886\n",
       "Department                     3\n",
       "DistanceFromHome              29\n",
       "Education                      5\n",
       "EducationField                 6\n",
       "EmployeeCount                  1\n",
       "EmployeeNumber              1470\n",
       "EnvironmentSatisfaction        4\n",
       "Gender                         2\n",
       "HourlyRate                    71\n",
       "JobInvolvement                 4\n",
       "JobLevel                       5\n",
       "JobRole                        9\n",
       "JobSatisfaction                4\n",
       "MaritalStatus                  3\n",
       "MonthlyIncome               1349\n",
       "MonthlyRate                 1427\n",
       "NumCompaniesWorked            10\n",
       "Over18                         1\n",
       "OverTime                       2\n",
       "PercentSalaryHike             15\n",
       "PerformanceRating              2\n",
       "RelationshipSatisfaction       4\n",
       "StandardHours                  1\n",
       "StockOptionLevel               4\n",
       "TotalWorkingYears             40\n",
       "TrainingTimesLastYear          7\n",
       "WorkLifeBalance                4\n",
       "YearsAtCompany                37\n",
       "YearsInCurrentRole            19\n",
       "YearsSinceLastPromotion       16\n",
       "YearsWithCurrManager          18\n",
       "dtype: int64"
      ]
     },
     "execution_count": 6,
     "metadata": {},
     "output_type": "execute_result"
    }
   ],
   "source": [
    "# Checking unique values in each column\n",
    "df.nunique()"
   ]
  },
  {
   "cell_type": "markdown",
   "id": "7cbafd0d",
   "metadata": {
    "id": "7cbafd0d"
   },
   "source": [
    "**Observations:**\n",
    "\n",
    "- **Employee number is an identifier** which is unique for each employee and **we can drop this column** as it would not add any value to our analysis.\n",
    "- **EmployeeCount, Over18 and StandardHours have only 1 unique value.** These columns will not add any value to our model hence we can drop them.\n",
    "- EmployeeCount, Over18 and StandardHours have only 1 unique value. We can drop these columns as they will not add any value to our analysis.\n",
    "- On the basis of number of unique values in each column and the data description, we can identify the continuous and categorical columns in the data.\n",
    "\n",
    "**Let's drop the columns mentioned above** and define lists for numerical and categorical columns to explore them separately."
   ]
  },
  {
   "cell_type": "code",
   "execution_count": 7,
   "id": "a2ba4094",
   "metadata": {
    "id": "a2ba4094"
   },
   "outputs": [],
   "source": [
    "# Dropping the columns \n",
    "df=df.drop(['EmployeeNumber','EmployeeCount','Over18','StandardHours'],axis=1)"
   ]
  },
  {
   "cell_type": "code",
   "execution_count": 8,
   "id": "03fed225",
   "metadata": {
    "id": "03fed225"
   },
   "outputs": [],
   "source": [
    "# Creating numerical columns\n",
    "num_cols=['DailyRate','Age','DistanceFromHome','MonthlyIncome','MonthlyRate','PercentSalaryHike','TotalWorkingYears',\n",
    "          'YearsAtCompany','NumCompaniesWorked','HourlyRate',\n",
    "          'YearsInCurrentRole','YearsSinceLastPromotion','YearsWithCurrManager','TrainingTimesLastYear']\n",
    "\n",
    "# Creating categorical variables \n",
    "cat_cols= ['Attrition','OverTime','BusinessTravel', 'Department','Education', 'EducationField','JobSatisfaction','EnvironmentSatisfaction','WorkLifeBalance',\n",
    "           'StockOptionLevel','Gender', 'PerformanceRating', 'JobInvolvement','JobLevel', 'JobRole', 'MaritalStatus','RelationshipSatisfaction']"
   ]
  },
  {
   "cell_type": "markdown",
   "id": "bb6e15aa",
   "metadata": {
    "id": "bb6e15aa"
   },
   "source": [
    "## **Exploratory Data Analysis and Data Preprocessing**"
   ]
  },
  {
   "cell_type": "markdown",
   "id": "d339a2f9",
   "metadata": {
    "id": "d339a2f9"
   },
   "source": [
    "### **Univariate analysis of numerical columns**"
   ]
  },
  {
   "cell_type": "code",
   "execution_count": 9,
   "id": "3c83bc89",
   "metadata": {
    "colab": {
     "base_uri": "https://localhost:8080/",
     "height": 489
    },
    "id": "3c83bc89",
    "outputId": "453d76c3-4982-4e00-d5ce-d13045ff65bc"
   },
   "outputs": [
    {
     "data": {
      "text/html": [
       "\n",
       "  <div id=\"df-80a8a9f6-9f1b-42d4-8f16-af0b0c850e2a\">\n",
       "    <div class=\"colab-df-container\">\n",
       "      <div>\n",
       "<style scoped>\n",
       "    .dataframe tbody tr th:only-of-type {\n",
       "        vertical-align: middle;\n",
       "    }\n",
       "\n",
       "    .dataframe tbody tr th {\n",
       "        vertical-align: top;\n",
       "    }\n",
       "\n",
       "    .dataframe thead th {\n",
       "        text-align: right;\n",
       "    }\n",
       "</style>\n",
       "<table border=\"1\" class=\"dataframe\">\n",
       "  <thead>\n",
       "    <tr style=\"text-align: right;\">\n",
       "      <th></th>\n",
       "      <th>count</th>\n",
       "      <th>mean</th>\n",
       "      <th>std</th>\n",
       "      <th>min</th>\n",
       "      <th>25%</th>\n",
       "      <th>50%</th>\n",
       "      <th>75%</th>\n",
       "      <th>max</th>\n",
       "    </tr>\n",
       "  </thead>\n",
       "  <tbody>\n",
       "    <tr>\n",
       "      <th>DailyRate</th>\n",
       "      <td>1470.0</td>\n",
       "      <td>802.485714</td>\n",
       "      <td>403.509100</td>\n",
       "      <td>102.0</td>\n",
       "      <td>465.0</td>\n",
       "      <td>802.0</td>\n",
       "      <td>1157.00</td>\n",
       "      <td>1499.0</td>\n",
       "    </tr>\n",
       "    <tr>\n",
       "      <th>Age</th>\n",
       "      <td>1470.0</td>\n",
       "      <td>36.923810</td>\n",
       "      <td>9.135373</td>\n",
       "      <td>18.0</td>\n",
       "      <td>30.0</td>\n",
       "      <td>36.0</td>\n",
       "      <td>43.00</td>\n",
       "      <td>60.0</td>\n",
       "    </tr>\n",
       "    <tr>\n",
       "      <th>DistanceFromHome</th>\n",
       "      <td>1470.0</td>\n",
       "      <td>9.192517</td>\n",
       "      <td>8.106864</td>\n",
       "      <td>1.0</td>\n",
       "      <td>2.0</td>\n",
       "      <td>7.0</td>\n",
       "      <td>14.00</td>\n",
       "      <td>29.0</td>\n",
       "    </tr>\n",
       "    <tr>\n",
       "      <th>MonthlyIncome</th>\n",
       "      <td>1470.0</td>\n",
       "      <td>6502.931293</td>\n",
       "      <td>4707.956783</td>\n",
       "      <td>1009.0</td>\n",
       "      <td>2911.0</td>\n",
       "      <td>4919.0</td>\n",
       "      <td>8379.00</td>\n",
       "      <td>19999.0</td>\n",
       "    </tr>\n",
       "    <tr>\n",
       "      <th>MonthlyRate</th>\n",
       "      <td>1470.0</td>\n",
       "      <td>14313.103401</td>\n",
       "      <td>7117.786044</td>\n",
       "      <td>2094.0</td>\n",
       "      <td>8047.0</td>\n",
       "      <td>14235.5</td>\n",
       "      <td>20461.50</td>\n",
       "      <td>26999.0</td>\n",
       "    </tr>\n",
       "    <tr>\n",
       "      <th>PercentSalaryHike</th>\n",
       "      <td>1470.0</td>\n",
       "      <td>15.209524</td>\n",
       "      <td>3.659938</td>\n",
       "      <td>11.0</td>\n",
       "      <td>12.0</td>\n",
       "      <td>14.0</td>\n",
       "      <td>18.00</td>\n",
       "      <td>25.0</td>\n",
       "    </tr>\n",
       "    <tr>\n",
       "      <th>TotalWorkingYears</th>\n",
       "      <td>1470.0</td>\n",
       "      <td>11.279592</td>\n",
       "      <td>7.780782</td>\n",
       "      <td>0.0</td>\n",
       "      <td>6.0</td>\n",
       "      <td>10.0</td>\n",
       "      <td>15.00</td>\n",
       "      <td>40.0</td>\n",
       "    </tr>\n",
       "    <tr>\n",
       "      <th>YearsAtCompany</th>\n",
       "      <td>1470.0</td>\n",
       "      <td>7.008163</td>\n",
       "      <td>6.126525</td>\n",
       "      <td>0.0</td>\n",
       "      <td>3.0</td>\n",
       "      <td>5.0</td>\n",
       "      <td>9.00</td>\n",
       "      <td>40.0</td>\n",
       "    </tr>\n",
       "    <tr>\n",
       "      <th>NumCompaniesWorked</th>\n",
       "      <td>1470.0</td>\n",
       "      <td>2.693197</td>\n",
       "      <td>2.498009</td>\n",
       "      <td>0.0</td>\n",
       "      <td>1.0</td>\n",
       "      <td>2.0</td>\n",
       "      <td>4.00</td>\n",
       "      <td>9.0</td>\n",
       "    </tr>\n",
       "    <tr>\n",
       "      <th>HourlyRate</th>\n",
       "      <td>1470.0</td>\n",
       "      <td>65.891156</td>\n",
       "      <td>20.329428</td>\n",
       "      <td>30.0</td>\n",
       "      <td>48.0</td>\n",
       "      <td>66.0</td>\n",
       "      <td>83.75</td>\n",
       "      <td>100.0</td>\n",
       "    </tr>\n",
       "    <tr>\n",
       "      <th>YearsInCurrentRole</th>\n",
       "      <td>1470.0</td>\n",
       "      <td>4.229252</td>\n",
       "      <td>3.623137</td>\n",
       "      <td>0.0</td>\n",
       "      <td>2.0</td>\n",
       "      <td>3.0</td>\n",
       "      <td>7.00</td>\n",
       "      <td>18.0</td>\n",
       "    </tr>\n",
       "    <tr>\n",
       "      <th>YearsSinceLastPromotion</th>\n",
       "      <td>1470.0</td>\n",
       "      <td>2.187755</td>\n",
       "      <td>3.222430</td>\n",
       "      <td>0.0</td>\n",
       "      <td>0.0</td>\n",
       "      <td>1.0</td>\n",
       "      <td>3.00</td>\n",
       "      <td>15.0</td>\n",
       "    </tr>\n",
       "    <tr>\n",
       "      <th>YearsWithCurrManager</th>\n",
       "      <td>1470.0</td>\n",
       "      <td>4.123129</td>\n",
       "      <td>3.568136</td>\n",
       "      <td>0.0</td>\n",
       "      <td>2.0</td>\n",
       "      <td>3.0</td>\n",
       "      <td>7.00</td>\n",
       "      <td>17.0</td>\n",
       "    </tr>\n",
       "    <tr>\n",
       "      <th>TrainingTimesLastYear</th>\n",
       "      <td>1470.0</td>\n",
       "      <td>2.799320</td>\n",
       "      <td>1.289271</td>\n",
       "      <td>0.0</td>\n",
       "      <td>2.0</td>\n",
       "      <td>3.0</td>\n",
       "      <td>3.00</td>\n",
       "      <td>6.0</td>\n",
       "    </tr>\n",
       "  </tbody>\n",
       "</table>\n",
       "</div>\n",
       "      <button class=\"colab-df-convert\" onclick=\"convertToInteractive('df-80a8a9f6-9f1b-42d4-8f16-af0b0c850e2a')\"\n",
       "              title=\"Convert this dataframe to an interactive table.\"\n",
       "              style=\"display:none;\">\n",
       "        \n",
       "  <svg xmlns=\"http://www.w3.org/2000/svg\" height=\"24px\"viewBox=\"0 0 24 24\"\n",
       "       width=\"24px\">\n",
       "    <path d=\"M0 0h24v24H0V0z\" fill=\"none\"/>\n",
       "    <path d=\"M18.56 5.44l.94 2.06.94-2.06 2.06-.94-2.06-.94-.94-2.06-.94 2.06-2.06.94zm-11 1L8.5 8.5l.94-2.06 2.06-.94-2.06-.94L8.5 2.5l-.94 2.06-2.06.94zm10 10l.94 2.06.94-2.06 2.06-.94-2.06-.94-.94-2.06-.94 2.06-2.06.94z\"/><path d=\"M17.41 7.96l-1.37-1.37c-.4-.4-.92-.59-1.43-.59-.52 0-1.04.2-1.43.59L10.3 9.45l-7.72 7.72c-.78.78-.78 2.05 0 2.83L4 21.41c.39.39.9.59 1.41.59.51 0 1.02-.2 1.41-.59l7.78-7.78 2.81-2.81c.8-.78.8-2.07 0-2.86zM5.41 20L4 18.59l7.72-7.72 1.47 1.35L5.41 20z\"/>\n",
       "  </svg>\n",
       "      </button>\n",
       "      \n",
       "  <style>\n",
       "    .colab-df-container {\n",
       "      display:flex;\n",
       "      flex-wrap:wrap;\n",
       "      gap: 12px;\n",
       "    }\n",
       "\n",
       "    .colab-df-convert {\n",
       "      background-color: #E8F0FE;\n",
       "      border: none;\n",
       "      border-radius: 50%;\n",
       "      cursor: pointer;\n",
       "      display: none;\n",
       "      fill: #1967D2;\n",
       "      height: 32px;\n",
       "      padding: 0 0 0 0;\n",
       "      width: 32px;\n",
       "    }\n",
       "\n",
       "    .colab-df-convert:hover {\n",
       "      background-color: #E2EBFA;\n",
       "      box-shadow: 0px 1px 2px rgba(60, 64, 67, 0.3), 0px 1px 3px 1px rgba(60, 64, 67, 0.15);\n",
       "      fill: #174EA6;\n",
       "    }\n",
       "\n",
       "    [theme=dark] .colab-df-convert {\n",
       "      background-color: #3B4455;\n",
       "      fill: #D2E3FC;\n",
       "    }\n",
       "\n",
       "    [theme=dark] .colab-df-convert:hover {\n",
       "      background-color: #434B5C;\n",
       "      box-shadow: 0px 1px 3px 1px rgba(0, 0, 0, 0.15);\n",
       "      filter: drop-shadow(0px 1px 2px rgba(0, 0, 0, 0.3));\n",
       "      fill: #FFFFFF;\n",
       "    }\n",
       "  </style>\n",
       "\n",
       "      <script>\n",
       "        const buttonEl =\n",
       "          document.querySelector('#df-80a8a9f6-9f1b-42d4-8f16-af0b0c850e2a button.colab-df-convert');\n",
       "        buttonEl.style.display =\n",
       "          google.colab.kernel.accessAllowed ? 'block' : 'none';\n",
       "\n",
       "        async function convertToInteractive(key) {\n",
       "          const element = document.querySelector('#df-80a8a9f6-9f1b-42d4-8f16-af0b0c850e2a');\n",
       "          const dataTable =\n",
       "            await google.colab.kernel.invokeFunction('convertToInteractive',\n",
       "                                                     [key], {});\n",
       "          if (!dataTable) return;\n",
       "\n",
       "          const docLinkHtml = 'Like what you see? Visit the ' +\n",
       "            '<a target=\"_blank\" href=https://colab.research.google.com/notebooks/data_table.ipynb>data table notebook</a>'\n",
       "            + ' to learn more about interactive tables.';\n",
       "          element.innerHTML = '';\n",
       "          dataTable['output_type'] = 'display_data';\n",
       "          await google.colab.output.renderOutput(dataTable, element);\n",
       "          const docLink = document.createElement('div');\n",
       "          docLink.innerHTML = docLinkHtml;\n",
       "          element.appendChild(docLink);\n",
       "        }\n",
       "      </script>\n",
       "    </div>\n",
       "  </div>\n",
       "  "
      ],
      "text/plain": [
       "                          count          mean          std     min     25%  \\\n",
       "DailyRate                1470.0    802.485714   403.509100   102.0   465.0   \n",
       "Age                      1470.0     36.923810     9.135373    18.0    30.0   \n",
       "DistanceFromHome         1470.0      9.192517     8.106864     1.0     2.0   \n",
       "MonthlyIncome            1470.0   6502.931293  4707.956783  1009.0  2911.0   \n",
       "MonthlyRate              1470.0  14313.103401  7117.786044  2094.0  8047.0   \n",
       "PercentSalaryHike        1470.0     15.209524     3.659938    11.0    12.0   \n",
       "TotalWorkingYears        1470.0     11.279592     7.780782     0.0     6.0   \n",
       "YearsAtCompany           1470.0      7.008163     6.126525     0.0     3.0   \n",
       "NumCompaniesWorked       1470.0      2.693197     2.498009     0.0     1.0   \n",
       "HourlyRate               1470.0     65.891156    20.329428    30.0    48.0   \n",
       "YearsInCurrentRole       1470.0      4.229252     3.623137     0.0     2.0   \n",
       "YearsSinceLastPromotion  1470.0      2.187755     3.222430     0.0     0.0   \n",
       "YearsWithCurrManager     1470.0      4.123129     3.568136     0.0     2.0   \n",
       "TrainingTimesLastYear    1470.0      2.799320     1.289271     0.0     2.0   \n",
       "\n",
       "                             50%       75%      max  \n",
       "DailyRate                  802.0   1157.00   1499.0  \n",
       "Age                         36.0     43.00     60.0  \n",
       "DistanceFromHome             7.0     14.00     29.0  \n",
       "MonthlyIncome             4919.0   8379.00  19999.0  \n",
       "MonthlyRate              14235.5  20461.50  26999.0  \n",
       "PercentSalaryHike           14.0     18.00     25.0  \n",
       "TotalWorkingYears           10.0     15.00     40.0  \n",
       "YearsAtCompany               5.0      9.00     40.0  \n",
       "NumCompaniesWorked           2.0      4.00      9.0  \n",
       "HourlyRate                  66.0     83.75    100.0  \n",
       "YearsInCurrentRole           3.0      7.00     18.0  \n",
       "YearsSinceLastPromotion      1.0      3.00     15.0  \n",
       "YearsWithCurrManager         3.0      7.00     17.0  \n",
       "TrainingTimesLastYear        3.0      3.00      6.0  "
      ]
     },
     "execution_count": 9,
     "metadata": {},
     "output_type": "execute_result"
    }
   ],
   "source": [
    "# Checking summary statistics\n",
    "df[num_cols].describe().T"
   ]
  },
  {
   "cell_type": "markdown",
   "id": "0fc40121",
   "metadata": {
    "id": "0fc40121"
   },
   "source": [
    "**Observations:**\n",
    "\n",
    "- **Average employee age is around 37 years**. It has a high range, from 18 years to 60, indicating good age diversity in the organization.\n",
    "- **At least 50% of the employees live within a 7 KM radius** of the organization. However, there are some extreme values, given that the maximum value is 29 km.\n",
    "- **The average monthly income of an employee is around USD 6502.** It has a high range of values from around 1K-20K USD, which is to be expected for any organization's income distribution. There is a big difference between the 3rd quartile value (around USD 8400) and the maximum value (nearly USD 20000), showing that the **company's highest earners have a disproportionately large income** in comparison to the rest of the employees. Again, this is fairly common in most organizations.\n",
    "- **The average salary hike of an employee is around 15%.** At least 50% of employees got a salary hike of 14% or less, with the maximum salary hike being 25%.\n",
    "- The average number of years an employee is associated with the company is 7. \n",
    "- **On average, the number of years since an employee got a promotion is ~2.19**. The majority of employees have been promoted since the last year."
   ]
  },
  {
   "cell_type": "markdown",
   "id": "0dd58eb9",
   "metadata": {
    "id": "0dd58eb9"
   },
   "source": [
    "**Let's explore these variables in some more depth by observing their distributions**"
   ]
  },
  {
   "cell_type": "code",
   "execution_count": 10,
   "id": "c4696821",
   "metadata": {
    "colab": {
     "base_uri": "https://localhost:8080/",
     "height": 825
    },
    "id": "c4696821",
    "outputId": "28de38f0-164f-4515-fba2-3603cc08545f"
   },
   "outputs": [
    {
     "data": {
      "image/png": "[encoded data removed]",
      "text/plain": [
       "<Figure size 1008x1008 with 16 Axes>"
      ]
     },
     "metadata": {
      "needs_background": "light"
     },
     "output_type": "display_data"
    }
   ],
   "source": [
    "# Creating histograms\n",
    "df[num_cols].hist(figsize=(14,14))\n",
    "plt.show()"
   ]
  },
  {
   "cell_type": "markdown",
   "id": "e15cbb07",
   "metadata": {
    "id": "e15cbb07"
   },
   "source": [
    "**Observations:**\n",
    "\n",
    "- **The age distribution is close to a normal distribution** with the majority of employees between the ages of 25 and 50.\n",
    "\n",
    "- **The percentage salary hike is skewed to the right**, implying that employees are obtaining smaller increases.\n",
    "\n",
    "- **MonthlyIncome and TotalWorkingYears are skewed to the right**, indicating that the majority of workers are in entry / mid-level positions in the organization.\n",
    "\n",
    "- **DistanceFromHome also has a right skewed distribution**, meaning most employees live close to work but there are a few that live further away.\n",
    "\n",
    "- **On average, an employee has worked at 2.5 companies.** Most employees have worked at only 1 company.\n",
    "\n",
    "- **The YearsAtCompany variable distribution shows a good proportion of workers with 10+ years**, indicating a significant number of loyal employees at the organization. \n",
    "\n",
    "- **The YearsInCurrentRole distribution has three peaks at 0, 2, and 7.** There are a few employees that have even stayed in the same role for 15 years and more.\n",
    "\n",
    "- **The YearsSinceLastPromotion variable distribution indicates that some employees have not received a promotion in 10-15 years and are still working in the organization.** These employees are assumed to be high work-experience employees in upper-management roles, such as co-founders, C-suite employees etc.\n",
    "\n",
    "- The distributions of DailyRate, HourlyRate and MonthlyRate appear to be uniform and do not provide much information. It could be that daily rate refers to the income earned per extra day worked while hourly rate could refer to the same concept applied for extra hours worked per day. Since these rates tend to be broadly similar for multiple employees in the same department, that explains the uniform distribution they show. "
   ]
  },
  {
   "cell_type": "code",
   "execution_count": 11,
   "id": "7ae82bce",
   "metadata": {
    "colab": {
     "base_uri": "https://localhost:8080/"
    },
    "id": "7ae82bce",
    "outputId": "471ea575-2086-4c6a-e589-b53fa4e789ea"
   },
   "outputs": [
    {
     "data": {
      "text/plain": [
       "array([868, 375, 144,  83])"
      ]
     },
     "execution_count": 11,
     "metadata": {},
     "output_type": "execute_result"
    }
   ],
   "source": [
    "df['JobInvolvement'].value_counts(normalize=False).values"
   ]
  },
  {
   "cell_type": "markdown",
   "id": "de2772ba",
   "metadata": {
    "id": "de2772ba"
   },
   "source": [
    "### **Univariate analysis for categorical variables**"
   ]
  },
  {
   "cell_type": "code",
   "execution_count": 12,
   "id": "937d40c9",
   "metadata": {
    "colab": {
     "base_uri": "https://localhost:8080/"
    },
    "id": "937d40c9",
    "outputId": "6a4d1236-0c53-4a60-b806-140801ff0c3a"
   },
   "outputs": [
    {
     "name": "stdout",
     "output_type": "stream",
     "text": [
      "No     1233\n",
      "Yes     237\n",
      "Name: Attrition, dtype: int64\n",
      "****************************************\n",
      "No     1054\n",
      "Yes     416\n",
      "Name: OverTime, dtype: int64\n",
      "****************************************\n",
      "Travel_Rarely        1043\n",
      "Travel_Frequently     277\n",
      "Non-Travel            150\n",
      "Name: BusinessTravel, dtype: int64\n",
      "****************************************\n",
      "Research & Development    961\n",
      "Sales                     446\n",
      "Human Resources            63\n",
      "Name: Department, dtype: int64\n",
      "****************************************\n",
      "3    572\n",
      "4    398\n",
      "2    282\n",
      "1    170\n",
      "5     48\n",
      "Name: Education, dtype: int64\n",
      "****************************************\n",
      "Life Sciences       606\n",
      "Medical             464\n",
      "Marketing           159\n",
      "Technical Degree    132\n",
      "Other                82\n",
      "Human Resources      27\n",
      "Name: EducationField, dtype: int64\n",
      "****************************************\n",
      "4    459\n",
      "3    442\n",
      "1    289\n",
      "2    280\n",
      "Name: JobSatisfaction, dtype: int64\n",
      "****************************************\n",
      "3    453\n",
      "4    446\n",
      "2    287\n",
      "1    284\n",
      "Name: EnvironmentSatisfaction, dtype: int64\n",
      "****************************************\n",
      "3    893\n",
      "2    344\n",
      "4    153\n",
      "1     80\n",
      "Name: WorkLifeBalance, dtype: int64\n",
      "****************************************\n",
      "0    631\n",
      "1    596\n",
      "2    158\n",
      "3     85\n",
      "Name: StockOptionLevel, dtype: int64\n",
      "****************************************\n",
      "Male      882\n",
      "Female    588\n",
      "Name: Gender, dtype: int64\n",
      "****************************************\n",
      "3    1244\n",
      "4     226\n",
      "Name: PerformanceRating, dtype: int64\n",
      "****************************************\n",
      "3    868\n",
      "2    375\n",
      "4    144\n",
      "1     83\n",
      "Name: JobInvolvement, dtype: int64\n",
      "****************************************\n",
      "1    543\n",
      "2    534\n",
      "3    218\n",
      "4    106\n",
      "5     69\n",
      "Name: JobLevel, dtype: int64\n",
      "****************************************\n",
      "Sales Executive              326\n",
      "Research Scientist           292\n",
      "Laboratory Technician        259\n",
      "Manufacturing Director       145\n",
      "Healthcare Representative    131\n",
      "Manager                      102\n",
      "Sales Representative          83\n",
      "Research Director             80\n",
      "Human Resources               52\n",
      "Name: JobRole, dtype: int64\n",
      "****************************************\n",
      "Married     673\n",
      "Single      470\n",
      "Divorced    327\n",
      "Name: MaritalStatus, dtype: int64\n",
      "****************************************\n",
      "3    459\n",
      "4    432\n",
      "2    303\n",
      "1    276\n",
      "Name: RelationshipSatisfaction, dtype: int64\n",
      "****************************************\n"
     ]
    }
   ],
   "source": [
    "# Printing the % sub categories of each category\n",
    "for i in cat_cols:\n",
    "    print(df[i].value_counts(normalize=False))\n",
    "    print('*'*40)"
   ]
  },
  {
   "cell_type": "markdown",
   "id": "4682639e",
   "metadata": {
    "id": "4682639e"
   },
   "source": [
    "**Observations:**\n",
    "\n",
    "- **The employee attrition rate is 16%.**\n",
    "- **Around 28% of the employees are working overtime.** This number appears to be on the higher side, and might indicate a stressed employee work-life.\n",
    "- 71% of the employees have traveled rarely, while around 19% have to travel frequently.\n",
    "- Around 73% of the employees come from an educational background in the Life Sciences and Medical fields. \n",
    "- Over 65% of employees work in the Research & Development department of the organization.\n",
    "- **Nearly 40% of the employees have low (1) or medium-low (2) job satisfaction and environment satisfaction** in the organization, indicating that the morale of the company appears to be somewhat low.\n",
    "- **Over 30% of the employees show low (1) to medium-low (2) job involvement.** \n",
    "- Over 80% of the employees either have none or very less stock options. \n",
    "- **In terms of performance ratings, none of the employees have rated lower than 3 (excellent).** About 85% of employees have a performance rating equal to 3 (excellent), while the remaining have a rating of 4 (outstanding). This could either mean that the majority of employees are top performers, or  the more likely scenario is that the organization could be highly lenient with its performance appraisal process."
   ]
  },
  {
   "cell_type": "markdown",
   "id": "696b758f",
   "metadata": {
    "id": "696b758f"
   },
   "source": [
    "### **Bivariate and Multivariate analysis**\n",
    "We have analyzed different categorical and numerical variables. Let's now check how does attrition rate is related with other categorical variables."
   ]
  },
  {
   "cell_type": "code",
   "execution_count": 13,
   "id": "91c73ff1",
   "metadata": {
    "colab": {
     "base_uri": "https://localhost:8080/",
     "height": 1000
    },
    "id": "91c73ff1",
    "outputId": "5c803cc7-791f-4a83-d37e-017d03b2cf02"
   },
   "outputs": [
    {
     "data": {
      "image/png": "[encoded data removed]",
      "text/plain": [
       "<Figure size 576x288 with 1 Axes>"
      ]
     },
     "metadata": {
      "needs_background": "light"
     },
     "output_type": "display_data"
    },
    {
     "data": {
      "image/png": "[encoded data removed]",
      "text/plain": [
       "<Figure size 576x288 with 1 Axes>"
      ]
     },
     "metadata": {
      "needs_background": "light"
     },
     "output_type": "display_data"
    },
    {
     "data": {
      "image/png": "[encoded data removed]",
      "text/plain": [
       "<Figure size 576x288 with 1 Axes>"
      ]
     },
     "metadata": {
      "needs_background": "light"
     },
     "output_type": "display_data"
    },
    {
     "data": {
      "image/png": "[encoded data removed]",
      "text/plain": [
       "<Figure size 576x288 with 1 Axes>"
      ]
     },
     "metadata": {
      "needs_background": "light"
     },
     "output_type": "display_data"
    },
    {
     "data": {
      "image/png": "[encoded data removed]",
      "text/plain": [
       "<Figure size 576x288 with 1 Axes>"
      ]
     },
     "metadata": {
      "needs_background": "light"
     },
     "output_type": "display_data"
    },
    {
     "data": {
      "image/png": "[encoded data removed]",
      "text/plain": [
       "<Figure size 576x288 with 1 Axes>"
      ]
     },
     "metadata": {
      "needs_background": "light"
     },
     "output_type": "display_data"
    },
    {
     "data": {
      "image/png": "[encoded data removed]",
      "text/plain": [
       "<Figure size 576x288 with 1 Axes>"
      ]
     },
     "metadata": {
      "needs_background": "light"
     },
     "output_type": "display_data"
    },
    {
     "data": {
      "image/png": "[encoded data removed]",
      "text/plain": [
       "<Figure size 576x288 with 1 Axes>"
      ]
     },
     "metadata": {
      "needs_background": "light"
     },
     "output_type": "display_data"
    },
    {
     "data": {
      "image/png": "[encoded data removed]",
      "text/plain": [
       "<Figure size 576x288 with 1 Axes>"
      ]
     },
     "metadata": {
      "needs_background": "light"
     },
     "output_type": "display_data"
    },
    {
     "data": {
      "image/png": "[encoded data removed]",
      "text/plain": [
       "<Figure size 576x288 with 1 Axes>"
      ]
     },
     "metadata": {
      "needs_background": "light"
     },
     "output_type": "display_data"
    },
    {
     "data": {
      "image/png": "[encoded data removed]",
      "text/plain": [
       "<Figure size 576x288 with 1 Axes>"
      ]
     },
     "metadata": {
      "needs_background": "light"
     },
     "output_type": "display_data"
    },
    {
     "data": {
      "image/png": "[encoded data removed]",
      "text/plain": [
       "<Figure size 576x288 with 1 Axes>"
      ]
     },
     "metadata": {
      "needs_background": "light"
     },
     "output_type": "display_data"
    },
    {
     "data": {
      "image/png": "[encoded data removed]",
      "text/plain": [
       "<Figure size 576x288 with 1 Axes>"
      ]
     },
     "metadata": {
      "needs_background": "light"
     },
     "output_type": "display_data"
    },
    {
     "data": {
      "image/png": "[encoded data removed]",
      "text/plain": [
       "<Figure size 576x288 with 1 Axes>"
      ]
     },
     "metadata": {
      "needs_background": "light"
     },
     "output_type": "display_data"
    },
    {
     "data": {
      "image/png": "[encoded data removed]",
      "text/plain": [
       "<Figure size 576x288 with 1 Axes>"
      ]
     },
     "metadata": {
      "needs_background": "light"
     },
     "output_type": "display_data"
    },
    {
     "data": {
      "image/png": "[encoded data removed]",
      "text/plain": [
       "<Figure size 576x288 with 1 Axes>"
      ]
     },
     "metadata": {
      "needs_background": "light"
     },
     "output_type": "display_data"
    }
   ],
   "source": [
    "for i in cat_cols:\n",
    "    if i!='Attrition':\n",
    "        (pd.crosstab(df[i],df['Attrition'],normalize='index')*100).plot(kind='bar',figsize=(8,4),stacked=True)\n",
    "        plt.ylabel('Percentage Attrition %')"
   ]
  },
  {
   "cell_type": "markdown",
   "id": "f069923b",
   "metadata": {
    "id": "f069923b"
   },
   "source": [
    "**Observations:**\n",
    "    \n",
    "- **Employees working overtime have more than a 30% chance of attrition**, \n",
    "which is very high compared to the 10% chance of attrition for employees who do not work extra hours.\n",
    "- As seen earlier, the majority of employees work for the R&D department. The chance of attrition there is ~15%\n",
    "- **Employees working as sales representatives have an attrition rate of around 40%** while HRs and Technicians have an attrition rate of around 25%. The sales and HR departments have higher attrition rates in comparison to an academic department like Research & Development, an observation that makes intuitive sense keeping in mind the differences in those job profiles. The high-pressure and incentive-based nature of Sales and Marketing roles may be contributing to their higher attrition rates.\n",
    "- **The lower the employee's job involvement, the higher their attrition chances appear to be, with 1-rated JobInvolvement employees attriting at 35%.** The reason for this could be that employees with lower job involvement might feel left out or less valued and have already started to explore new options, leading to a higher attrition rate.\n",
    "- **Employees at a lower job level also attrite more,** with 1-rated JobLevel employees showing a nearly 25% chance of attrition. These may be young employees who tend to explore more options in the initial stages of their careers. \n",
    "- **A low work-life balance rating clearly leads employees to attrite**, 30% of those in the 1-rated category show attrition."
   ]
  },
  {
   "cell_type": "markdown",
   "id": "b149a57b",
   "metadata": {
    "id": "b149a57b"
   },
   "source": [
    "**Let's check the relationship between attrition and Numerical variables**"
   ]
  },
  {
   "cell_type": "code",
   "execution_count": 14,
   "id": "55129351",
   "metadata": {
    "colab": {
     "base_uri": "https://localhost:8080/",
     "height": 207
    },
    "id": "55129351",
    "outputId": "a2a08d84-fa7e-4590-b6e4-551a9366bc19"
   },
   "outputs": [
    {
     "data": {
      "text/html": [
       "\n",
       "  <div id=\"df-3115fed7-98cf-4d3b-bbca-39cf3f4489b2\">\n",
       "    <div class=\"colab-df-container\">\n",
       "      <div>\n",
       "<style scoped>\n",
       "    .dataframe tbody tr th:only-of-type {\n",
       "        vertical-align: middle;\n",
       "    }\n",
       "\n",
       "    .dataframe tbody tr th {\n",
       "        vertical-align: top;\n",
       "    }\n",
       "\n",
       "    .dataframe thead th {\n",
       "        text-align: right;\n",
       "    }\n",
       "</style>\n",
       "<table border=\"1\" class=\"dataframe\">\n",
       "  <thead>\n",
       "    <tr style=\"text-align: right;\">\n",
       "      <th></th>\n",
       "      <th>DailyRate</th>\n",
       "      <th>Age</th>\n",
       "      <th>DistanceFromHome</th>\n",
       "      <th>MonthlyIncome</th>\n",
       "      <th>MonthlyRate</th>\n",
       "      <th>PercentSalaryHike</th>\n",
       "      <th>TotalWorkingYears</th>\n",
       "      <th>YearsAtCompany</th>\n",
       "      <th>NumCompaniesWorked</th>\n",
       "      <th>HourlyRate</th>\n",
       "      <th>YearsInCurrentRole</th>\n",
       "      <th>YearsSinceLastPromotion</th>\n",
       "      <th>YearsWithCurrManager</th>\n",
       "      <th>TrainingTimesLastYear</th>\n",
       "    </tr>\n",
       "    <tr>\n",
       "      <th>Attrition</th>\n",
       "      <th></th>\n",
       "      <th></th>\n",
       "      <th></th>\n",
       "      <th></th>\n",
       "      <th></th>\n",
       "      <th></th>\n",
       "      <th></th>\n",
       "      <th></th>\n",
       "      <th></th>\n",
       "      <th></th>\n",
       "      <th></th>\n",
       "      <th></th>\n",
       "      <th></th>\n",
       "      <th></th>\n",
       "    </tr>\n",
       "  </thead>\n",
       "  <tbody>\n",
       "    <tr>\n",
       "      <th>No</th>\n",
       "      <td>812.504461</td>\n",
       "      <td>37.561233</td>\n",
       "      <td>8.915653</td>\n",
       "      <td>6832.739659</td>\n",
       "      <td>14265.779400</td>\n",
       "      <td>15.231144</td>\n",
       "      <td>11.862936</td>\n",
       "      <td>7.369019</td>\n",
       "      <td>2.645580</td>\n",
       "      <td>65.952149</td>\n",
       "      <td>4.484185</td>\n",
       "      <td>2.234388</td>\n",
       "      <td>4.367397</td>\n",
       "      <td>2.832928</td>\n",
       "    </tr>\n",
       "    <tr>\n",
       "      <th>Yes</th>\n",
       "      <td>750.362869</td>\n",
       "      <td>33.607595</td>\n",
       "      <td>10.632911</td>\n",
       "      <td>4787.092827</td>\n",
       "      <td>14559.308017</td>\n",
       "      <td>15.097046</td>\n",
       "      <td>8.244726</td>\n",
       "      <td>5.130802</td>\n",
       "      <td>2.940928</td>\n",
       "      <td>65.573840</td>\n",
       "      <td>2.902954</td>\n",
       "      <td>1.945148</td>\n",
       "      <td>2.852321</td>\n",
       "      <td>2.624473</td>\n",
       "    </tr>\n",
       "  </tbody>\n",
       "</table>\n",
       "</div>\n",
       "      <button class=\"colab-df-convert\" onclick=\"convertToInteractive('df-3115fed7-98cf-4d3b-bbca-39cf3f4489b2')\"\n",
       "              title=\"Convert this dataframe to an interactive table.\"\n",
       "              style=\"display:none;\">\n",
       "        \n",
       "  <svg xmlns=\"http://www.w3.org/2000/svg\" height=\"24px\"viewBox=\"0 0 24 24\"\n",
       "       width=\"24px\">\n",
       "    <path d=\"M0 0h24v24H0V0z\" fill=\"none\"/>\n",
       "    <path d=\"M18.56 5.44l.94 2.06.94-2.06 2.06-.94-2.06-.94-.94-2.06-.94 2.06-2.06.94zm-11 1L8.5 8.5l.94-2.06 2.06-.94-2.06-.94L8.5 2.5l-.94 2.06-2.06.94zm10 10l.94 2.06.94-2.06 2.06-.94-2.06-.94-.94-2.06-.94 2.06-2.06.94z\"/><path d=\"M17.41 7.96l-1.37-1.37c-.4-.4-.92-.59-1.43-.59-.52 0-1.04.2-1.43.59L10.3 9.45l-7.72 7.72c-.78.78-.78 2.05 0 2.83L4 21.41c.39.39.9.59 1.41.59.51 0 1.02-.2 1.41-.59l7.78-7.78 2.81-2.81c.8-.78.8-2.07 0-2.86zM5.41 20L4 18.59l7.72-7.72 1.47 1.35L5.41 20z\"/>\n",
       "  </svg>\n",
       "      </button>\n",
       "      \n",
       "  <style>\n",
       "    .colab-df-container {\n",
       "      display:flex;\n",
       "      flex-wrap:wrap;\n",
       "      gap: 12px;\n",
       "    }\n",
       "\n",
       "    .colab-df-convert {\n",
       "      background-color: #E8F0FE;\n",
       "      border: none;\n",
       "      border-radius: 50%;\n",
       "      cursor: pointer;\n",
       "      display: none;\n",
       "      fill: #1967D2;\n",
       "      height: 32px;\n",
       "      padding: 0 0 0 0;\n",
       "      width: 32px;\n",
       "    }\n",
       "\n",
       "    .colab-df-convert:hover {\n",
       "      background-color: #E2EBFA;\n",
       "      box-shadow: 0px 1px 2px rgba(60, 64, 67, 0.3), 0px 1px 3px 1px rgba(60, 64, 67, 0.15);\n",
       "      fill: #174EA6;\n",
       "    }\n",
       "\n",
       "    [theme=dark] .colab-df-convert {\n",
       "      background-color: #3B4455;\n",
       "      fill: #D2E3FC;\n",
       "    }\n",
       "\n",
       "    [theme=dark] .colab-df-convert:hover {\n",
       "      background-color: #434B5C;\n",
       "      box-shadow: 0px 1px 3px 1px rgba(0, 0, 0, 0.15);\n",
       "      filter: drop-shadow(0px 1px 2px rgba(0, 0, 0, 0.3));\n",
       "      fill: #FFFFFF;\n",
       "    }\n",
       "  </style>\n",
       "\n",
       "      <script>\n",
       "        const buttonEl =\n",
       "          document.querySelector('#df-3115fed7-98cf-4d3b-bbca-39cf3f4489b2 button.colab-df-convert');\n",
       "        buttonEl.style.display =\n",
       "          google.colab.kernel.accessAllowed ? 'block' : 'none';\n",
       "\n",
       "        async function convertToInteractive(key) {\n",
       "          const element = document.querySelector('#df-3115fed7-98cf-4d3b-bbca-39cf3f4489b2');\n",
       "          const dataTable =\n",
       "            await google.colab.kernel.invokeFunction('convertToInteractive',\n",
       "                                                     [key], {});\n",
       "          if (!dataTable) return;\n",
       "\n",
       "          const docLinkHtml = 'Like what you see? Visit the ' +\n",
       "            '<a target=\"_blank\" href=https://colab.research.google.com/notebooks/data_table.ipynb>data table notebook</a>'\n",
       "            + ' to learn more about interactive tables.';\n",
       "          element.innerHTML = '';\n",
       "          dataTable['output_type'] = 'display_data';\n",
       "          await google.colab.output.renderOutput(dataTable, element);\n",
       "          const docLink = document.createElement('div');\n",
       "          docLink.innerHTML = docLinkHtml;\n",
       "          element.appendChild(docLink);\n",
       "        }\n",
       "      </script>\n",
       "    </div>\n",
       "  </div>\n",
       "  "
      ],
      "text/plain": [
       "            DailyRate        Age  DistanceFromHome  MonthlyIncome  \\\n",
       "Attrition                                                           \n",
       "No         812.504461  37.561233          8.915653    6832.739659   \n",
       "Yes        750.362869  33.607595         10.632911    4787.092827   \n",
       "\n",
       "            MonthlyRate  PercentSalaryHike  TotalWorkingYears  YearsAtCompany  \\\n",
       "Attrition                                                                       \n",
       "No         14265.779400          15.231144          11.862936        7.369019   \n",
       "Yes        14559.308017          15.097046           8.244726        5.130802   \n",
       "\n",
       "           NumCompaniesWorked  HourlyRate  YearsInCurrentRole  \\\n",
       "Attrition                                                       \n",
       "No                   2.645580   65.952149            4.484185   \n",
       "Yes                  2.940928   65.573840            2.902954   \n",
       "\n",
       "           YearsSinceLastPromotion  YearsWithCurrManager  \\\n",
       "Attrition                                                  \n",
       "No                        2.234388              4.367397   \n",
       "Yes                       1.945148              2.852321   \n",
       "\n",
       "           TrainingTimesLastYear  \n",
       "Attrition                         \n",
       "No                      2.832928  \n",
       "Yes                     2.624473  "
      ]
     },
     "execution_count": 14,
     "metadata": {},
     "output_type": "execute_result"
    }
   ],
   "source": [
    "# Mean of numerical variables grouped by attrition\n",
    "df.groupby(['Attrition'])[num_cols].mean()"
   ]
  },
  {
   "cell_type": "markdown",
   "id": "31121f00",
   "metadata": {
    "id": "31121f00"
   },
   "source": [
    "**Observations:**\n",
    "- **Employees leaving the company have a nearly 30% lower average income and 30% lesser work experience than those who are not.** These could be the employees looking to explore new options and/or increase their salary with a company switch. \n",
    "- **Employees showing attrition also tend to live 16% further from the office than those who are not**. The longer commute to and from work could mean they have to spend more time/money every day, and this could be leading to job dissatisfaction and wanting to leave the organization."
   ]
  },
  {
   "cell_type": "markdown",
   "id": "738bfebc",
   "metadata": {
    "id": "738bfebc"
   },
   "source": [
    "**We have found out what kind of employees are leaving the company.**\n",
    "\n",
    "### **Let's check the relationship between different numerical variables**"
   ]
  },
  {
   "cell_type": "code",
   "execution_count": 15,
   "id": "e20c4c64",
   "metadata": {
    "colab": {
     "base_uri": "https://localhost:8080/",
     "height": 619
    },
    "id": "e20c4c64",
    "outputId": "50cae770-a075-412a-f38c-c720d39d6ad4"
   },
   "outputs": [
    {
     "data": {
      "text/plain": [
       "<matplotlib.axes._subplots.AxesSubplot at 0x7f8112995a90>"
      ]
     },
     "execution_count": 15,
     "metadata": {},
     "output_type": "execute_result"
    },
    {
     "data": {
      "image/png": "[encoded data removed]",
      "text/plain": [
       "<Figure size 1080x576 with 2 Axes>"
      ]
     },
     "metadata": {
      "needs_background": "light"
     },
     "output_type": "display_data"
    }
   ],
   "source": [
    "# Plotting the correlation between numerical variables\n",
    "plt.figure(figsize=(15,8))\n",
    "sns.heatmap(df[num_cols].corr(),annot=True, fmt='0.2f', cmap='YlGnBu')"
   ]
  },
  {
   "cell_type": "markdown",
   "id": "f398ec0e",
   "metadata": {
    "id": "f398ec0e"
   },
   "source": [
    "**Observations:**\n",
    "\n",
    "- **Total work experience, monthly income, years at company and years with current manager are highly correlated with each other and with employee age** which is easy to understand as these variables show an increase with age for most employees. \n",
    "- Years at company and years in current role are correlated with years since last promotion which means that the company is not giving promotions at the right time."
   ]
  },
  {
   "cell_type": "markdown",
   "id": "95737c4a",
   "metadata": {
    "id": "95737c4a"
   },
   "source": [
    "**Now we have explored our data. Let's build the model**"
   ]
  },
  {
   "cell_type": "markdown",
   "id": "0121f14f",
   "metadata": {
    "id": "0121f14f"
   },
   "source": [
    "## **Model Building - Approach**\n",
    "\n",
    "1. Data preparation.\n",
    "2. Partition the data into a train and test set.\n",
    "3. Build a model on the train data.\n",
    "4. Tune the model if required.\n",
    "5. Test the data on the test set."
   ]
  },
  {
   "cell_type": "markdown",
   "id": "8d67a99c",
   "metadata": {
    "id": "8d67a99c"
   },
   "source": [
    "### **Data preparation**"
   ]
  },
  {
   "cell_type": "markdown",
   "id": "b1a443c6",
   "metadata": {
    "id": "b1a443c6"
   },
   "source": [
    "**Creating dummy variables for categorical Variables**"
   ]
  },
  {
   "cell_type": "code",
   "execution_count": 16,
   "id": "c33fe0e7",
   "metadata": {
    "id": "c33fe0e7"
   },
   "outputs": [],
   "source": [
    "# Creating list of dummy columns\n",
    "to_get_dummies_for = ['BusinessTravel', 'Department','Education', 'EducationField','EnvironmentSatisfaction', 'Gender',  'JobInvolvement','JobLevel', 'JobRole', 'MaritalStatus' ]\n",
    "\n",
    "# Creating dummy variables\n",
    "df = pd.get_dummies(data = df, columns = to_get_dummies_for, drop_first = True)      \n",
    "\n",
    "# Mapping overtime and attrition\n",
    "dict_OverTime = {'Yes': 1, 'No':0}\n",
    "dict_attrition = {'Yes': 1, 'No': 0}\n",
    "\n",
    "\n",
    "df['OverTime'] = df.OverTime.map(dict_OverTime)\n",
    "df['Attrition'] = df.Attrition.map(dict_attrition)"
   ]
  },
  {
   "cell_type": "markdown",
   "id": "8ac461ce",
   "metadata": {
    "id": "8ac461ce"
   },
   "source": [
    "**Separating the independent variables (X) and the dependent variable (Y)**"
   ]
  },
  {
   "cell_type": "code",
   "execution_count": 17,
   "id": "4615c54f",
   "metadata": {
    "id": "4615c54f"
   },
   "outputs": [],
   "source": [
    "# Separating target variable and other variables\n",
    "\n",
    "Y= df.Attrition\n",
    "X= df.drop(columns = ['Attrition'])"
   ]
  },
  {
   "cell_type": "markdown",
   "id": "c25389d6",
   "metadata": {
    "id": "c25389d6"
   },
   "source": [
    "**Splitting the data into 70% train and 30% test set**\n",
    "\n",
    "Some classification problems can exhibit a large imbalance in the distribution of the target classes: for instance there could be several times more negative samples than positive samples. In such cases it is recommended to use the **stratified sampling** technique to ensure that relative class frequencies are approximately preserved in each train and validation fold."
   ]
  },
  {
   "cell_type": "code",
   "execution_count": 18,
   "id": "34e8584b",
   "metadata": {
    "id": "34e8584b"
   },
   "outputs": [],
   "source": [
    "# Splitting the data\n",
    "X_train, X_test, y_train, y_test = train_test_split(X, Y, test_size = 0.3, random_state = 42, stratify = Y)"
   ]
  },
  {
   "cell_type": "markdown",
   "id": "69855f96",
   "metadata": {
    "id": "69855f96"
   },
   "source": [
    "### **Scaling the data**\n",
    "The **Standard Scaler** method is used, which centers and scales the dataset using the Z-Score. It standardizes features by subtracting the mean and scaling it to have unit variance. "
   ]
  },
  {
   "cell_type": "code",
   "execution_count": 19,
   "id": "24672ecf",
   "metadata": {
    "id": "24672ecf"
   },
   "outputs": [],
   "source": [
    "# Scaling the data\n",
    "sc=StandardScaler()\n",
    "\n",
    "# Fit_transform on train data\n",
    "X_train_scaled=sc.fit_transform(X_train)\n",
    "X_train_scaled=pd.DataFrame(X_train_scaled, columns=X.columns)\n",
    "\n",
    "# Transform on test data\n",
    "X_test_scaled=sc.transform(X_test)\n",
    "X_test_scaled=pd.DataFrame(X_test_scaled, columns=X.columns)"
   ]
  },
  {
   "cell_type": "markdown",
   "id": "0a78be20",
   "metadata": {
    "id": "0a78be20"
   },
   "source": [
    "**Also, let's create a function to calculate and print the classification report and confusion matrix**"
   ]
  },
  {
   "cell_type": "code",
   "execution_count": 20,
   "id": "1775f667",
   "metadata": {
    "id": "1775f667"
   },
   "outputs": [],
   "source": [
    "# Creating metric function \n",
    "def metrics_score(actual, predicted):\n",
    "    print(classification_report(actual, predicted))\n",
    "\n",
    "    cm = confusion_matrix(actual, predicted)\n",
    "    plt.figure(figsize=(8,5))\n",
    "    \n",
    "    sns.heatmap(cm, annot=True,  fmt='.2f', xticklabels=['Not Attrite', 'Attrite'], yticklabels=['Not Attrite', 'Attrite'])\n",
    "    plt.ylabel('Actual')\n",
    "    plt.xlabel('Predicted')\n",
    "    plt.show()"
   ]
  },
  {
   "cell_type": "markdown",
   "id": "666841d2",
   "metadata": {
    "id": "666841d2"
   },
   "source": [
    "## **Building the model**\n",
    "\n",
    "We will be building two different models:\n",
    "\n",
    "- **Logistic Regression**\n",
    "- **Neural Network**"
   ]
  },
  {
   "cell_type": "code",
   "execution_count": 21,
   "id": "984306ab",
   "metadata": {
    "colab": {
     "base_uri": "https://localhost:8080/"
    },
    "id": "984306ab",
    "outputId": "6e0a1bc6-7fda-4a5a-a17b-0f5dc01b6028"
   },
   "outputs": [
    {
     "data": {
      "text/plain": [
       "LogisticRegression()"
      ]
     },
     "execution_count": 21,
     "metadata": {},
     "output_type": "execute_result"
    }
   ],
   "source": [
    "# Fitting logistic regression model\n",
    "\n",
    "lg=LogisticRegression()\n",
    "lg.fit(X_train_scaled,y_train)"
   ]
  },
  {
   "cell_type": "code",
   "execution_count": 22,
   "id": "ec95bfa7",
   "metadata": {
    "colab": {
     "base_uri": "https://localhost:8080/",
     "height": 495
    },
    "id": "ec95bfa7",
    "outputId": "2198a8cf-9190-4fa5-f38f-298ead157bc6"
   },
   "outputs": [
    {
     "name": "stdout",
     "output_type": "stream",
     "text": [
      "              precision    recall  f1-score   support\n",
      "\n",
      "           0       0.92      0.98      0.95       863\n",
      "           1       0.82      0.54      0.65       166\n",
      "\n",
      "    accuracy                           0.91      1029\n",
      "   macro avg       0.87      0.76      0.80      1029\n",
      "weighted avg       0.90      0.91      0.90      1029\n",
      "\n"
     ]
    },
    {
     "data": {
      "image/png": "[encoded data removed]",
      "text/plain": [
       "<Figure size 576x360 with 2 Axes>"
      ]
     },
     "metadata": {
      "needs_background": "light"
     },
     "output_type": "display_data"
    }
   ],
   "source": [
    "# Checking the performance on the training data\n",
    "y_pred_train = lg.predict(X_train_scaled)\n",
    "\n",
    "metrics_score(y_train, y_pred_train)"
   ]
  },
  {
   "cell_type": "markdown",
   "id": "ef0a4988",
   "metadata": {
    "id": "ef0a4988"
   },
   "source": [
    "- In classification, the class of interest is considered the positive class. Here, the class of interest is 1 i.e. identifying the employees at risk of attrition.\n",
    "\n",
    "**Reading the confusion matrix (clockwise):**\n",
    "\n",
    "* True Negative (Actual=0, Predicted=0): Model predicts that an employee would not attrite and the employee does not attrite \n",
    "\n",
    "* False Positive (Actual=0, Predicted=1): Model predicts that an employee would attrite but the employee does not attrite\n",
    "\n",
    "* False Negative (Actual=1, Predicted=0): Model predicts that an employee would not attrite but the employee attrites\n",
    "\n",
    "* True Positive (Actual=1, Predicted=1): Model predicts that an employee would attrite and the employee actually attrites"
   ]
  },
  {
   "cell_type": "code",
   "execution_count": 23,
   "id": "e572ca0b",
   "metadata": {
    "colab": {
     "base_uri": "https://localhost:8080/",
     "height": 495
    },
    "id": "e572ca0b",
    "outputId": "6a262990-e51b-4d21-a5db-42f5bdc227e7"
   },
   "outputs": [
    {
     "name": "stdout",
     "output_type": "stream",
     "text": [
      "              precision    recall  f1-score   support\n",
      "\n",
      "           0       0.90      0.97      0.93       370\n",
      "           1       0.73      0.42      0.54        71\n",
      "\n",
      "    accuracy                           0.88       441\n",
      "   macro avg       0.81      0.70      0.73       441\n",
      "weighted avg       0.87      0.88      0.87       441\n",
      "\n"
     ]
    },
    {
     "data": {
      "image/png": "[encoded data removed]",
      "text/plain": [
       "<Figure size 576x360 with 2 Axes>"
      ]
     },
     "metadata": {
      "needs_background": "light"
     },
     "output_type": "display_data"
    }
   ],
   "source": [
    "# Checking the performance on the test dataset\n",
    "y_pred_test = lg.predict(X_test_scaled)\n",
    "\n",
    "metrics_score(y_test, y_pred_test)"
   ]
  },
  {
   "cell_type": "markdown",
   "id": "a30050bf",
   "metadata": {
    "id": "a30050bf"
   },
   "source": [
    "**Observations:**\n",
    "- **We are getting an accuracy of around 91%** on train and  **88%** on test dataset.\n",
    "- However, **the recall for this model is only around 54% for class 1 on train and 42% on test.**\n",
    "- As the recall is low, **this model will not perform well** in differentiating out those employees who have a high chance of leaving the company, meaning it will eventually not help in reducing the attrition rate. \n",
    "- As we can see from the Confusion Matrix, **this model fails to identify the majority of employees who are at risk of attrition.**"
   ]
  },
  {
   "cell_type": "markdown",
   "id": "f9eb8a26",
   "metadata": {
    "id": "f9eb8a26"
   },
   "source": [
    "**Let's check the coefficients and find which variables are leading to attrition and which can help to reduce the attrition**"
   ]
  },
  {
   "cell_type": "code",
   "execution_count": 24,
   "id": "a44bb06a",
   "metadata": {
    "colab": {
     "base_uri": "https://localhost:8080/",
     "height": 1000
    },
    "id": "a44bb06a",
    "outputId": "970dcb62-e769-47de-da62-0ccbf580aa86"
   },
   "outputs": [
    {
     "data": {
      "text/html": [
       "\n",
       "  <div id=\"df-011a6720-c281-4fa0-b835-5b90cc5a6352\">\n",
       "    <div class=\"colab-df-container\">\n",
       "      <div>\n",
       "<style scoped>\n",
       "    .dataframe tbody tr th:only-of-type {\n",
       "        vertical-align: middle;\n",
       "    }\n",
       "\n",
       "    .dataframe tbody tr th {\n",
       "        vertical-align: top;\n",
       "    }\n",
       "\n",
       "    .dataframe thead th {\n",
       "        text-align: right;\n",
       "    }\n",
       "</style>\n",
       "<table border=\"1\" class=\"dataframe\">\n",
       "  <thead>\n",
       "    <tr style=\"text-align: right;\">\n",
       "      <th></th>\n",
       "      <th>0</th>\n",
       "    </tr>\n",
       "  </thead>\n",
       "  <tbody>\n",
       "    <tr>\n",
       "      <th>OverTime</th>\n",
       "      <td>0.939628</td>\n",
       "    </tr>\n",
       "    <tr>\n",
       "      <th>JobRole_Sales Executive</th>\n",
       "      <td>0.930115</td>\n",
       "    </tr>\n",
       "    <tr>\n",
       "      <th>BusinessTravel_Travel_Frequently</th>\n",
       "      <td>0.704887</td>\n",
       "    </tr>\n",
       "    <tr>\n",
       "      <th>YearsSinceLastPromotion</th>\n",
       "      <td>0.567641</td>\n",
       "    </tr>\n",
       "    <tr>\n",
       "      <th>JobLevel_5</th>\n",
       "      <td>0.557689</td>\n",
       "    </tr>\n",
       "    <tr>\n",
       "      <th>NumCompaniesWorked</th>\n",
       "      <td>0.520398</td>\n",
       "    </tr>\n",
       "    <tr>\n",
       "      <th>MaritalStatus_Single</th>\n",
       "      <td>0.475136</td>\n",
       "    </tr>\n",
       "    <tr>\n",
       "      <th>JobRole_Sales Representative</th>\n",
       "      <td>0.449643</td>\n",
       "    </tr>\n",
       "    <tr>\n",
       "      <th>BusinessTravel_Travel_Rarely</th>\n",
       "      <td>0.420045</td>\n",
       "    </tr>\n",
       "    <tr>\n",
       "      <th>DistanceFromHome</th>\n",
       "      <td>0.412302</td>\n",
       "    </tr>\n",
       "    <tr>\n",
       "      <th>Department_Research &amp; Development</th>\n",
       "      <td>0.382533</td>\n",
       "    </tr>\n",
       "    <tr>\n",
       "      <th>JobRole_Laboratory Technician</th>\n",
       "      <td>0.345436</td>\n",
       "    </tr>\n",
       "    <tr>\n",
       "      <th>JobRole_Human Resources</th>\n",
       "      <td>0.292323</td>\n",
       "    </tr>\n",
       "    <tr>\n",
       "      <th>JobLevel_3</th>\n",
       "      <td>0.238740</td>\n",
       "    </tr>\n",
       "    <tr>\n",
       "      <th>JobLevel_4</th>\n",
       "      <td>0.181592</td>\n",
       "    </tr>\n",
       "    <tr>\n",
       "      <th>Gender_Male</th>\n",
       "      <td>0.163510</td>\n",
       "    </tr>\n",
       "    <tr>\n",
       "      <th>MaritalStatus_Married</th>\n",
       "      <td>0.147386</td>\n",
       "    </tr>\n",
       "    <tr>\n",
       "      <th>JobRole_Manager</th>\n",
       "      <td>0.125871</td>\n",
       "    </tr>\n",
       "    <tr>\n",
       "      <th>JobRole_Manufacturing Director</th>\n",
       "      <td>0.121596</td>\n",
       "    </tr>\n",
       "    <tr>\n",
       "      <th>MonthlyRate</th>\n",
       "      <td>0.121300</td>\n",
       "    </tr>\n",
       "    <tr>\n",
       "      <th>Education_3</th>\n",
       "      <td>0.070365</td>\n",
       "    </tr>\n",
       "    <tr>\n",
       "      <th>Department_Sales</th>\n",
       "      <td>0.054308</td>\n",
       "    </tr>\n",
       "    <tr>\n",
       "      <th>PerformanceRating</th>\n",
       "      <td>0.052786</td>\n",
       "    </tr>\n",
       "    <tr>\n",
       "      <th>YearsAtCompany</th>\n",
       "      <td>0.049825</td>\n",
       "    </tr>\n",
       "    <tr>\n",
       "      <th>Education_4</th>\n",
       "      <td>0.014820</td>\n",
       "    </tr>\n",
       "    <tr>\n",
       "      <th>Education_2</th>\n",
       "      <td>0.007390</td>\n",
       "    </tr>\n",
       "    <tr>\n",
       "      <th>Education_5</th>\n",
       "      <td>-0.005330</td>\n",
       "    </tr>\n",
       "    <tr>\n",
       "      <th>HourlyRate</th>\n",
       "      <td>-0.033292</td>\n",
       "    </tr>\n",
       "    <tr>\n",
       "      <th>PercentSalaryHike</th>\n",
       "      <td>-0.110582</td>\n",
       "    </tr>\n",
       "    <tr>\n",
       "      <th>EducationField_Technical Degree</th>\n",
       "      <td>-0.131847</td>\n",
       "    </tr>\n",
       "    <tr>\n",
       "      <th>DailyRate</th>\n",
       "      <td>-0.166247</td>\n",
       "    </tr>\n",
       "    <tr>\n",
       "      <th>TrainingTimesLastYear</th>\n",
       "      <td>-0.177122</td>\n",
       "    </tr>\n",
       "    <tr>\n",
       "      <th>JobRole_Research Scientist</th>\n",
       "      <td>-0.186662</td>\n",
       "    </tr>\n",
       "    <tr>\n",
       "      <th>EducationField_Marketing</th>\n",
       "      <td>-0.188860</td>\n",
       "    </tr>\n",
       "    <tr>\n",
       "      <th>WorkLifeBalance</th>\n",
       "      <td>-0.284874</td>\n",
       "    </tr>\n",
       "    <tr>\n",
       "      <th>EducationField_Other</th>\n",
       "      <td>-0.327307</td>\n",
       "    </tr>\n",
       "    <tr>\n",
       "      <th>StockOptionLevel</th>\n",
       "      <td>-0.330906</td>\n",
       "    </tr>\n",
       "    <tr>\n",
       "      <th>Age</th>\n",
       "      <td>-0.343804</td>\n",
       "    </tr>\n",
       "    <tr>\n",
       "      <th>YearsInCurrentRole</th>\n",
       "      <td>-0.345620</td>\n",
       "    </tr>\n",
       "    <tr>\n",
       "      <th>YearsWithCurrManager</th>\n",
       "      <td>-0.353675</td>\n",
       "    </tr>\n",
       "    <tr>\n",
       "      <th>JobRole_Research Director</th>\n",
       "      <td>-0.393435</td>\n",
       "    </tr>\n",
       "    <tr>\n",
       "      <th>JobSatisfaction</th>\n",
       "      <td>-0.399978</td>\n",
       "    </tr>\n",
       "    <tr>\n",
       "      <th>RelationshipSatisfaction</th>\n",
       "      <td>-0.409175</td>\n",
       "    </tr>\n",
       "    <tr>\n",
       "      <th>EducationField_Medical</th>\n",
       "      <td>-0.422067</td>\n",
       "    </tr>\n",
       "    <tr>\n",
       "      <th>TotalWorkingYears</th>\n",
       "      <td>-0.431440</td>\n",
       "    </tr>\n",
       "    <tr>\n",
       "      <th>EducationField_Life Sciences</th>\n",
       "      <td>-0.460756</td>\n",
       "    </tr>\n",
       "    <tr>\n",
       "      <th>EnvironmentSatisfaction_2</th>\n",
       "      <td>-0.496376</td>\n",
       "    </tr>\n",
       "    <tr>\n",
       "      <th>JobInvolvement_2</th>\n",
       "      <td>-0.522126</td>\n",
       "    </tr>\n",
       "    <tr>\n",
       "      <th>EnvironmentSatisfaction_3</th>\n",
       "      <td>-0.536798</td>\n",
       "    </tr>\n",
       "    <tr>\n",
       "      <th>JobInvolvement_4</th>\n",
       "      <td>-0.544254</td>\n",
       "    </tr>\n",
       "    <tr>\n",
       "      <th>JobLevel_2</th>\n",
       "      <td>-0.556426</td>\n",
       "    </tr>\n",
       "    <tr>\n",
       "      <th>EnvironmentSatisfaction_4</th>\n",
       "      <td>-0.681224</td>\n",
       "    </tr>\n",
       "    <tr>\n",
       "      <th>JobInvolvement_3</th>\n",
       "      <td>-0.726708</td>\n",
       "    </tr>\n",
       "    <tr>\n",
       "      <th>MonthlyIncome</th>\n",
       "      <td>-0.747771</td>\n",
       "    </tr>\n",
       "  </tbody>\n",
       "</table>\n",
       "</div>\n",
       "      <button class=\"colab-df-convert\" onclick=\"convertToInteractive('df-011a6720-c281-4fa0-b835-5b90cc5a6352')\"\n",
       "              title=\"Convert this dataframe to an interactive table.\"\n",
       "              style=\"display:none;\">\n",
       "        \n",
       "  <svg xmlns=\"http://www.w3.org/2000/svg\" height=\"24px\"viewBox=\"0 0 24 24\"\n",
       "       width=\"24px\">\n",
       "    <path d=\"M0 0h24v24H0V0z\" fill=\"none\"/>\n",
       "    <path d=\"M18.56 5.44l.94 2.06.94-2.06 2.06-.94-2.06-.94-.94-2.06-.94 2.06-2.06.94zm-11 1L8.5 8.5l.94-2.06 2.06-.94-2.06-.94L8.5 2.5l-.94 2.06-2.06.94zm10 10l.94 2.06.94-2.06 2.06-.94-2.06-.94-.94-2.06-.94 2.06-2.06.94z\"/><path d=\"M17.41 7.96l-1.37-1.37c-.4-.4-.92-.59-1.43-.59-.52 0-1.04.2-1.43.59L10.3 9.45l-7.72 7.72c-.78.78-.78 2.05 0 2.83L4 21.41c.39.39.9.59 1.41.59.51 0 1.02-.2 1.41-.59l7.78-7.78 2.81-2.81c.8-.78.8-2.07 0-2.86zM5.41 20L4 18.59l7.72-7.72 1.47 1.35L5.41 20z\"/>\n",
       "  </svg>\n",
       "      </button>\n",
       "      \n",
       "  <style>\n",
       "    .colab-df-container {\n",
       "      display:flex;\n",
       "      flex-wrap:wrap;\n",
       "      gap: 12px;\n",
       "    }\n",
       "\n",
       "    .colab-df-convert {\n",
       "      background-color: #E8F0FE;\n",
       "      border: none;\n",
       "      border-radius: 50%;\n",
       "      cursor: pointer;\n",
       "      display: none;\n",
       "      fill: #1967D2;\n",
       "      height: 32px;\n",
       "      padding: 0 0 0 0;\n",
       "      width: 32px;\n",
       "    }\n",
       "\n",
       "    .colab-df-convert:hover {\n",
       "      background-color: #E2EBFA;\n",
       "      box-shadow: 0px 1px 2px rgba(60, 64, 67, 0.3), 0px 1px 3px 1px rgba(60, 64, 67, 0.15);\n",
       "      fill: #174EA6;\n",
       "    }\n",
       "\n",
       "    [theme=dark] .colab-df-convert {\n",
       "      background-color: #3B4455;\n",
       "      fill: #D2E3FC;\n",
       "    }\n",
       "\n",
       "    [theme=dark] .colab-df-convert:hover {\n",
       "      background-color: #434B5C;\n",
       "      box-shadow: 0px 1px 3px 1px rgba(0, 0, 0, 0.15);\n",
       "      filter: drop-shadow(0px 1px 2px rgba(0, 0, 0, 0.3));\n",
       "      fill: #FFFFFF;\n",
       "    }\n",
       "  </style>\n",
       "\n",
       "      <script>\n",
       "        const buttonEl =\n",
       "          document.querySelector('#df-011a6720-c281-4fa0-b835-5b90cc5a6352 button.colab-df-convert');\n",
       "        buttonEl.style.display =\n",
       "          google.colab.kernel.accessAllowed ? 'block' : 'none';\n",
       "\n",
       "        async function convertToInteractive(key) {\n",
       "          const element = document.querySelector('#df-011a6720-c281-4fa0-b835-5b90cc5a6352');\n",
       "          const dataTable =\n",
       "            await google.colab.kernel.invokeFunction('convertToInteractive',\n",
       "                                                     [key], {});\n",
       "          if (!dataTable) return;\n",
       "\n",
       "          const docLinkHtml = 'Like what you see? Visit the ' +\n",
       "            '<a target=\"_blank\" href=https://colab.research.google.com/notebooks/data_table.ipynb>data table notebook</a>'\n",
       "            + ' to learn more about interactive tables.';\n",
       "          element.innerHTML = '';\n",
       "          dataTable['output_type'] = 'display_data';\n",
       "          await google.colab.output.renderOutput(dataTable, element);\n",
       "          const docLink = document.createElement('div');\n",
       "          docLink.innerHTML = docLinkHtml;\n",
       "          element.appendChild(docLink);\n",
       "        }\n",
       "      </script>\n",
       "    </div>\n",
       "  </div>\n",
       "  "
      ],
      "text/plain": [
       "                                          0\n",
       "OverTime                           0.939628\n",
       "JobRole_Sales Executive            0.930115\n",
       "BusinessTravel_Travel_Frequently   0.704887\n",
       "YearsSinceLastPromotion            0.567641\n",
       "JobLevel_5                         0.557689\n",
       "NumCompaniesWorked                 0.520398\n",
       "MaritalStatus_Single               0.475136\n",
       "JobRole_Sales Representative       0.449643\n",
       "BusinessTravel_Travel_Rarely       0.420045\n",
       "DistanceFromHome                   0.412302\n",
       "Department_Research & Development  0.382533\n",
       "JobRole_Laboratory Technician      0.345436\n",
       "JobRole_Human Resources            0.292323\n",
       "JobLevel_3                         0.238740\n",
       "JobLevel_4                         0.181592\n",
       "Gender_Male                        0.163510\n",
       "MaritalStatus_Married              0.147386\n",
       "JobRole_Manager                    0.125871\n",
       "JobRole_Manufacturing Director     0.121596\n",
       "MonthlyRate                        0.121300\n",
       "Education_3                        0.070365\n",
       "Department_Sales                   0.054308\n",
       "PerformanceRating                  0.052786\n",
       "YearsAtCompany                     0.049825\n",
       "Education_4                        0.014820\n",
       "Education_2                        0.007390\n",
       "Education_5                       -0.005330\n",
       "HourlyRate                        -0.033292\n",
       "PercentSalaryHike                 -0.110582\n",
       "EducationField_Technical Degree   -0.131847\n",
       "DailyRate                         -0.166247\n",
       "TrainingTimesLastYear             -0.177122\n",
       "JobRole_Research Scientist        -0.186662\n",
       "EducationField_Marketing          -0.188860\n",
       "WorkLifeBalance                   -0.284874\n",
       "EducationField_Other              -0.327307\n",
       "StockOptionLevel                  -0.330906\n",
       "Age                               -0.343804\n",
       "YearsInCurrentRole                -0.345620\n",
       "YearsWithCurrManager              -0.353675\n",
       "JobRole_Research Director         -0.393435\n",
       "JobSatisfaction                   -0.399978\n",
       "RelationshipSatisfaction          -0.409175\n",
       "EducationField_Medical            -0.422067\n",
       "TotalWorkingYears                 -0.431440\n",
       "EducationField_Life Sciences      -0.460756\n",
       "EnvironmentSatisfaction_2         -0.496376\n",
       "JobInvolvement_2                  -0.522126\n",
       "EnvironmentSatisfaction_3         -0.536798\n",
       "JobInvolvement_4                  -0.544254\n",
       "JobLevel_2                        -0.556426\n",
       "EnvironmentSatisfaction_4         -0.681224\n",
       "JobInvolvement_3                  -0.726708\n",
       "MonthlyIncome                     -0.747771"
      ]
     },
     "execution_count": 24,
     "metadata": {},
     "output_type": "execute_result"
    }
   ],
   "source": [
    "# Printing the coefficients of logistic regression\n",
    "cols=X.columns\n",
    "\n",
    "coef_lg=lg.coef_\n",
    "\n",
    "pd.DataFrame(coef_lg,columns=cols).T.sort_values(by = 0,ascending = False)"
   ]
  },
  {
   "cell_type": "markdown",
   "id": "1a858131",
   "metadata": {
    "id": "1a858131"
   },
   "source": [
    "**Observations:**\n",
    "\n",
    "\n",
    "Features which **positively affect** on the attrition rate are:\n",
    "- OverTime\t\n",
    "- BusinessTravel_Travel_Frequently\t\n",
    "- Department_Research & Development\t\n",
    "- JobRole_Sales Executive\t\n",
    "- MaritalStatus_Single\t\n",
    "- Department_Sales\t\n",
    "- NumCompaniesWorked\t\n",
    "- YearsSinceLastPromotion\n",
    "- JobLevel_5\t\n",
    "- BusinessTravel_Travel_Rarely\n",
    "- DistanceFromHome\n",
    "- YearsAtCompany\t\n",
    "- JobRole_Human Resources\t\n",
    "- JobRole_Sales Representative\n",
    "\n",
    "Features which **negatively affect** on the attrition rate are:\n",
    "- MonthlyIncome\t\n",
    "- JobInvolvement_3\t\n",
    "- JobLevel_2\t\n",
    "- EnvironmentSatisfaction_4\t\n",
    "- JobInvolvement_4\t\n",
    "- JobInvolvement_2\t\n",
    "- EnvironmentSatisfaction_3\t\n",
    "- EducationField_Life Sciences\t\n",
    "- EnvironmentSatisfaction_2\t\n",
    "- YearsWithCurrManager\t\n",
    "- JobRole_Research Director\t\n",
    "- TotalWorkingYears\t\n",
    "- JobSatisfaction\t\n"
   ]
  },
  {
   "cell_type": "markdown",
   "id": "10ff3041",
   "metadata": {
    "id": "10ff3041"
   },
   "source": [
    "### **Precision-Recall Curve for logistic regression**\n",
    "\n",
    "**Precision-Recall curves summarize the trade-off between the true positive rate and the positive predictive value for a predictive model using different probability thresholds.**"
   ]
  },
  {
   "cell_type": "code",
   "execution_count": 25,
   "id": "759da759",
   "metadata": {
    "colab": {
     "base_uri": "https://localhost:8080/",
     "height": 446
    },
    "id": "759da759",
    "outputId": "d51c3a1c-db1f-4620-9350-33276d2bb4b7"
   },
   "outputs": [
    {
     "data": {
      "image/png": "[encoded data removed]",
      "text/plain": [
       "<Figure size 720x504 with 1 Axes>"
      ]
     },
     "metadata": {
      "needs_background": "light"
     },
     "output_type": "display_data"
    }
   ],
   "source": [
    "# Predict_proba gives the probability of each observation belonging to each class\n",
    "y_scores_lg=lg.predict_proba(X_train_scaled)\n",
    "\n",
    "precisions_lg, recalls_lg, thresholds_lg = precision_recall_curve(y_train, y_scores_lg[:,1])\n",
    "\n",
    "# Plot values of precisions, recalls, and thresholds\n",
    "plt.figure(figsize=(10,7))\n",
    "plt.plot(thresholds_lg, precisions_lg[:-1], 'b--', label='precision')\n",
    "plt.plot(thresholds_lg, recalls_lg[:-1], 'g--', label = 'recall')\n",
    "plt.xlabel('Threshold')\n",
    "plt.legend(loc='upper left')\n",
    "plt.ylim([0,1])\n",
    "plt.show()"
   ]
  },
  {
   "cell_type": "markdown",
   "id": "851083b4",
   "metadata": {
    "id": "851083b4"
   },
   "source": [
    "**Observation:**\n",
    "- We can see that precision and recall are balanced for a threshold of about ~**0.36**.\n",
    "\n",
    "**Let's find out the performance of the model at this threshold**"
   ]
  },
  {
   "cell_type": "code",
   "execution_count": 26,
   "id": "13f0848f",
   "metadata": {
    "colab": {
     "base_uri": "https://localhost:8080/"
    },
    "id": "13f0848f",
    "outputId": "7a7d864c-2d69-4ab9-e7bd-a9b5a7e7035b"
   },
   "outputs": [
    {
     "name": "stdout",
     "output_type": "stream",
     "text": [
      "0.3578427057180068\n"
     ]
    }
   ],
   "source": [
    "# Calculating the exact threshold where precision and recall are equal.\n",
    "\n",
    "for i in np.arange(len(thresholds_lg)):\n",
    "    if precisions_lg[i]==recalls_lg[i]:\n",
    "        print(thresholds_lg[i])"
   ]
  },
  {
   "cell_type": "code",
   "execution_count": 27,
   "id": "d47ba506",
   "metadata": {
    "colab": {
     "base_uri": "https://localhost:8080/",
     "height": 495
    },
    "id": "d47ba506",
    "outputId": "ad69c6fb-ce1c-4a9c-b73a-af5a0afeeb35"
   },
   "outputs": [
    {
     "name": "stdout",
     "output_type": "stream",
     "text": [
      "              precision    recall  f1-score   support\n",
      "\n",
      "           0       0.93      0.94      0.94       863\n",
      "           1       0.67      0.65      0.66       166\n",
      "\n",
      "    accuracy                           0.89      1029\n",
      "   macro avg       0.80      0.79      0.80      1029\n",
      "weighted avg       0.89      0.89      0.89      1029\n",
      "\n"
     ]
    },
    {
     "data": {
      "image/png": "[encoded data removed]",
      "text/plain": [
       "<Figure size 576x360 with 2 Axes>"
      ]
     },
     "metadata": {
      "needs_background": "light"
     },
     "output_type": "display_data"
    }
   ],
   "source": [
    "optimal_threshold=.36\n",
    "y_pred_train = lg.predict_proba(X_train_scaled)\n",
    "\n",
    "metrics_score(y_train, y_pred_train[:,1]>optimal_threshold)"
   ]
  },
  {
   "cell_type": "markdown",
   "id": "1e4dcf08",
   "metadata": {
    "id": "1e4dcf08"
   },
   "source": [
    "**Observations**\n",
    "- **The model performance has improved. The recall has increased significantly for class 1.**\n",
    "- Let's check the performance on the test data."
   ]
  },
  {
   "cell_type": "code",
   "execution_count": 28,
   "id": "45a053af",
   "metadata": {
    "colab": {
     "base_uri": "https://localhost:8080/",
     "height": 495
    },
    "id": "45a053af",
    "outputId": "f41fe8ca-18b4-4fbb-ad03-9718f649c080"
   },
   "outputs": [
    {
     "name": "stdout",
     "output_type": "stream",
     "text": [
      "              precision    recall  f1-score   support\n",
      "\n",
      "           0       0.91      0.93      0.92       370\n",
      "           1       0.59      0.55      0.57        71\n",
      "\n",
      "    accuracy                           0.87       441\n",
      "   macro avg       0.75      0.74      0.75       441\n",
      "weighted avg       0.86      0.87      0.86       441\n",
      "\n"
     ]
    },
    {
     "data": {
      "image/png": "[encoded data removed]",
      "text/plain": [
       "<Figure size 576x360 with 2 Axes>"
      ]
     },
     "metadata": {
      "needs_background": "light"
     },
     "output_type": "display_data"
    }
   ],
   "source": [
    "optimal_threshold=.36\n",
    "y_pred_test = lg.predict_proba(X_test_scaled)\n",
    "\n",
    "metrics_score(y_test, y_pred_test[:,1]>optimal_threshold)"
   ]
  },
  {
   "cell_type": "markdown",
   "id": "2622b665",
   "metadata": {
    "id": "2622b665"
   },
   "source": [
    "**Observation:**\n",
    "- The model is giving **similar performance on the test and train data** i.e. the model is giving a generalized performance.\n",
    "- **The recall of the test data has increased significantly** while at the same time, the precision has decreased, which is to be expected while adjusting the threshold.\n",
    "- The average recall and precision for the model are good but let's see if we can get better performance using  neural networks algorithm."
   ]
  },
  {
   "cell_type": "markdown",
   "id": "cd10bbcf",
   "metadata": {
    "id": "cd10bbcf"
   },
   "source": [
    "## **Neural Network Model Building**"
   ]
  },
  {
   "cell_type": "markdown",
   "id": "8a8cf920",
   "metadata": {
    "id": "8a8cf920"
   },
   "source": [
    "In neural networks, there are so many hyper-parameters that you can play around with and tune the network to get the best results. Some of them are - \n",
    "\n",
    "\n",
    "\n",
    "1.   Number of hidden layers\n",
    "2.   Number of neurons in each hidden layer\n",
    "3.   Activation functions in hidden layers\n",
    "4.   Optimizers\n",
    "5.   Learning rate\n",
    "6.  Dropout\n",
    "\n",
    "and so on..."
   ]
  },
  {
   "cell_type": "markdown",
   "id": "2c0750a6",
   "metadata": {
    "id": "2c0750a6"
   },
   "source": [
    "First, let's set the seed for random number generators in NumPy, Python, and TensorFlow to be able to reproduce the same results everytime we run the code."
   ]
  },
  {
   "cell_type": "code",
   "execution_count": 29,
   "id": "1dd59271",
   "metadata": {
    "id": "1dd59271"
   },
   "outputs": [],
   "source": [
    "# # Fixing the seed for random number generators\n",
    "np.random.seed(42)\n",
    "\n",
    "import random\n",
    "random.seed(42)\n",
    "\n",
    "tf.random.set_seed(42)"
   ]
  },
  {
   "cell_type": "markdown",
   "id": "5b5665b3",
   "metadata": {
    "id": "5b5665b3"
   },
   "source": [
    "**Let's build a feed forward neural network with 2 hidden layers and the output layer.**"
   ]
  },
  {
   "cell_type": "code",
   "execution_count": 30,
   "id": "546cefac",
   "metadata": {
    "id": "546cefac"
   },
   "outputs": [],
   "source": [
    "# # We will be adding the layers sequentially\n",
    "model_1 = Sequential()\n",
    "\n",
    "# First hidden layer with 128 neurons and relu activation function, the input shape tuple denotes number of independent variables\n",
    "model_1.add(Dense(128, activation='relu', input_shape=(54,)))\n",
    "\n",
    "# We will be switching 20% of neurons off randomly at each iteration to avoid overfitting\n",
    "model_1.add(Dropout(0.2))\n",
    "\n",
    "# Second hidden layer with 64 neurons and relu activation function\n",
    "model_1.add(Dense(64, activation='relu'))\n",
    "\n",
    "# We will be switching 10% of neurons off randomly at each iteration to avoid overfitting\n",
    "model_1.add(Dropout(0.1))\n",
    "\n",
    "# Output layer with only one neuron and sigmoid as activation function will give the probability of students getting admitted into UCLA  \n",
    "model_1.add(Dense(1, activation='sigmoid'))"
   ]
  },
  {
   "cell_type": "markdown",
   "id": "b059ea7c",
   "metadata": {
    "id": "b059ea7c"
   },
   "source": [
    "Once we are done with the model architecture, we need to compile the model, where we need to provide the loss function that we want to optimize, the optimization algorithm, and the evaluation metric that we are interested in to evaluate the model."
   ]
  },
  {
   "cell_type": "markdown",
   "id": "9a19a531",
   "metadata": {
    "id": "9a19a531"
   },
   "source": [
    "Since this is a binary classification task, we will be minimizing the **binary_crossentropy** and we try **adamax** optimizer with **accuracy** as the metric and see the model's summary.\n",
    "\n"
   ]
  },
  {
   "cell_type": "code",
   "execution_count": 31,
   "id": "9e373212",
   "metadata": {
    "colab": {
     "base_uri": "https://localhost:8080/"
    },
    "id": "9e373212",
    "outputId": "6aba3fa9-bdd9-4d98-d7cd-e30e7a6c70df"
   },
   "outputs": [
    {
     "name": "stdout",
     "output_type": "stream",
     "text": [
      "Model: \"sequential\"\n",
      "_________________________________________________________________\n",
      " Layer (type)                Output Shape              Param #   \n",
      "=================================================================\n",
      " dense (Dense)               (None, 128)               7040      \n",
      "                                                                 \n",
      " dropout (Dropout)           (None, 128)               0         \n",
      "                                                                 \n",
      " dense_1 (Dense)             (None, 64)                8256      \n",
      "                                                                 \n",
      " dropout_1 (Dropout)         (None, 64)                0         \n",
      "                                                                 \n",
      " dense_2 (Dense)             (None, 1)                 65        \n",
      "                                                                 \n",
      "=================================================================\n",
      "Total params: 15,361\n",
      "Trainable params: 15,361\n",
      "Non-trainable params: 0\n",
      "_________________________________________________________________\n"
     ]
    }
   ],
   "source": [
    "model_1.compile(loss = 'binary_crossentropy', optimizer='adamax', metrics=['accuracy'])\n",
    "\n",
    "model_1.summary()"
   ]
  },
  {
   "cell_type": "markdown",
   "id": "424e178f",
   "metadata": {
    "id": "424e178f"
   },
   "source": [
    "From the above summary, we can see that this architecture will train a total of **15,361** parameters i.e. weights and biases in the network."
   ]
  },
  {
   "cell_type": "markdown",
   "id": "370c7ffc",
   "metadata": {
    "id": "370c7ffc"
   },
   "source": [
    "### **Training the model**"
   ]
  },
  {
   "cell_type": "code",
   "execution_count": 32,
   "id": "080b4828",
   "metadata": {
    "colab": {
     "base_uri": "https://localhost:8080/"
    },
    "id": "080b4828",
    "outputId": "31bd3465-404b-4304-bcdb-d7407aca865c"
   },
   "outputs": [
    {
     "name": "stdout",
     "output_type": "stream",
     "text": [
      "Epoch 1/150\n",
      "29/29 - 1s - loss: 0.4977 - accuracy: 0.8164 - val_loss: 0.5137 - val_accuracy: 0.7961 - 1s/epoch - 39ms/step\n",
      "Epoch 2/150\n",
      "29/29 - 0s - loss: 0.4250 - accuracy: 0.8434 - val_loss: 0.4691 - val_accuracy: 0.7961 - 91ms/epoch - 3ms/step\n",
      "Epoch 3/150\n",
      "29/29 - 0s - loss: 0.3953 - accuracy: 0.8445 - val_loss: 0.4447 - val_accuracy: 0.7961 - 75ms/epoch - 3ms/step\n",
      "Epoch 4/150\n",
      "29/29 - 0s - loss: 0.3852 - accuracy: 0.8434 - val_loss: 0.4249 - val_accuracy: 0.7961 - 89ms/epoch - 3ms/step\n",
      "Epoch 5/150\n",
      "29/29 - 0s - loss: 0.3645 - accuracy: 0.8467 - val_loss: 0.4149 - val_accuracy: 0.7961 - 84ms/epoch - 3ms/step\n",
      "Epoch 6/150\n",
      "29/29 - 0s - loss: 0.3556 - accuracy: 0.8521 - val_loss: 0.4002 - val_accuracy: 0.7961 - 124ms/epoch - 4ms/step\n",
      "Epoch 7/150\n",
      "29/29 - 0s - loss: 0.3402 - accuracy: 0.8553 - val_loss: 0.3946 - val_accuracy: 0.8058 - 83ms/epoch - 3ms/step\n",
      "Epoch 8/150\n",
      "29/29 - 0s - loss: 0.3325 - accuracy: 0.8585 - val_loss: 0.3890 - val_accuracy: 0.8058 - 96ms/epoch - 3ms/step\n",
      "Epoch 9/150\n",
      "29/29 - 0s - loss: 0.3142 - accuracy: 0.8607 - val_loss: 0.3787 - val_accuracy: 0.8058 - 97ms/epoch - 3ms/step\n",
      "Epoch 10/150\n",
      "29/29 - 0s - loss: 0.3092 - accuracy: 0.8650 - val_loss: 0.3745 - val_accuracy: 0.7961 - 83ms/epoch - 3ms/step\n",
      "Epoch 11/150\n",
      "29/29 - 0s - loss: 0.2967 - accuracy: 0.8747 - val_loss: 0.3746 - val_accuracy: 0.8058 - 76ms/epoch - 3ms/step\n",
      "Epoch 12/150\n",
      "29/29 - 0s - loss: 0.2912 - accuracy: 0.8704 - val_loss: 0.3689 - val_accuracy: 0.8058 - 85ms/epoch - 3ms/step\n",
      "Epoch 13/150\n",
      "29/29 - 0s - loss: 0.2746 - accuracy: 0.8931 - val_loss: 0.3718 - val_accuracy: 0.7961 - 80ms/epoch - 3ms/step\n",
      "Epoch 14/150\n",
      "29/29 - 0s - loss: 0.2777 - accuracy: 0.8963 - val_loss: 0.3705 - val_accuracy: 0.8058 - 80ms/epoch - 3ms/step\n",
      "Epoch 15/150\n",
      "29/29 - 0s - loss: 0.2679 - accuracy: 0.8909 - val_loss: 0.3664 - val_accuracy: 0.8350 - 98ms/epoch - 3ms/step\n",
      "Epoch 16/150\n",
      "29/29 - 0s - loss: 0.2632 - accuracy: 0.8920 - val_loss: 0.3674 - val_accuracy: 0.8544 - 95ms/epoch - 3ms/step\n",
      "Epoch 17/150\n",
      "29/29 - 0s - loss: 0.2545 - accuracy: 0.9071 - val_loss: 0.3756 - val_accuracy: 0.8544 - 94ms/epoch - 3ms/step\n",
      "Epoch 18/150\n",
      "29/29 - 0s - loss: 0.2499 - accuracy: 0.8996 - val_loss: 0.3709 - val_accuracy: 0.8641 - 74ms/epoch - 3ms/step\n",
      "Epoch 19/150\n",
      "29/29 - 0s - loss: 0.2326 - accuracy: 0.9147 - val_loss: 0.3691 - val_accuracy: 0.8641 - 82ms/epoch - 3ms/step\n",
      "Epoch 20/150\n",
      "29/29 - 0s - loss: 0.2308 - accuracy: 0.9093 - val_loss: 0.3691 - val_accuracy: 0.8544 - 78ms/epoch - 3ms/step\n",
      "Epoch 21/150\n",
      "29/29 - 0s - loss: 0.2260 - accuracy: 0.9233 - val_loss: 0.3847 - val_accuracy: 0.8641 - 78ms/epoch - 3ms/step\n",
      "Epoch 22/150\n",
      "29/29 - 0s - loss: 0.2228 - accuracy: 0.9212 - val_loss: 0.3750 - val_accuracy: 0.8544 - 92ms/epoch - 3ms/step\n",
      "Epoch 23/150\n",
      "29/29 - 0s - loss: 0.2202 - accuracy: 0.9179 - val_loss: 0.3826 - val_accuracy: 0.8544 - 80ms/epoch - 3ms/step\n",
      "Epoch 24/150\n",
      "29/29 - 0s - loss: 0.2003 - accuracy: 0.9266 - val_loss: 0.3893 - val_accuracy: 0.8641 - 92ms/epoch - 3ms/step\n",
      "Epoch 25/150\n",
      "29/29 - 0s - loss: 0.2104 - accuracy: 0.9168 - val_loss: 0.3840 - val_accuracy: 0.8641 - 76ms/epoch - 3ms/step\n",
      "Epoch 26/150\n",
      "29/29 - 0s - loss: 0.2049 - accuracy: 0.9244 - val_loss: 0.3987 - val_accuracy: 0.8544 - 93ms/epoch - 3ms/step\n",
      "Epoch 27/150\n",
      "29/29 - 0s - loss: 0.1975 - accuracy: 0.9244 - val_loss: 0.3977 - val_accuracy: 0.8544 - 80ms/epoch - 3ms/step\n",
      "Epoch 28/150\n",
      "29/29 - 0s - loss: 0.1947 - accuracy: 0.9266 - val_loss: 0.3978 - val_accuracy: 0.8447 - 96ms/epoch - 3ms/step\n",
      "Epoch 29/150\n",
      "29/29 - 0s - loss: 0.1946 - accuracy: 0.9341 - val_loss: 0.4079 - val_accuracy: 0.8544 - 83ms/epoch - 3ms/step\n",
      "Epoch 30/150\n",
      "29/29 - 0s - loss: 0.1867 - accuracy: 0.9352 - val_loss: 0.4054 - val_accuracy: 0.8544 - 99ms/epoch - 3ms/step\n",
      "Epoch 31/150\n",
      "29/29 - 0s - loss: 0.1771 - accuracy: 0.9276 - val_loss: 0.4063 - val_accuracy: 0.8641 - 75ms/epoch - 3ms/step\n",
      "Epoch 32/150\n",
      "29/29 - 0s - loss: 0.1863 - accuracy: 0.9320 - val_loss: 0.4113 - val_accuracy: 0.8447 - 81ms/epoch - 3ms/step\n",
      "Epoch 33/150\n",
      "29/29 - 0s - loss: 0.1841 - accuracy: 0.9298 - val_loss: 0.4141 - val_accuracy: 0.8641 - 83ms/epoch - 3ms/step\n",
      "Epoch 34/150\n",
      "29/29 - 0s - loss: 0.1671 - accuracy: 0.9471 - val_loss: 0.4242 - val_accuracy: 0.8447 - 79ms/epoch - 3ms/step\n",
      "Epoch 35/150\n",
      "29/29 - 0s - loss: 0.1665 - accuracy: 0.9417 - val_loss: 0.4141 - val_accuracy: 0.8544 - 91ms/epoch - 3ms/step\n",
      "Epoch 36/150\n",
      "29/29 - 0s - loss: 0.1597 - accuracy: 0.9482 - val_loss: 0.4323 - val_accuracy: 0.8447 - 81ms/epoch - 3ms/step\n",
      "Epoch 37/150\n",
      "29/29 - 0s - loss: 0.1690 - accuracy: 0.9374 - val_loss: 0.4337 - val_accuracy: 0.8544 - 76ms/epoch - 3ms/step\n",
      "Epoch 38/150\n",
      "29/29 - 0s - loss: 0.1602 - accuracy: 0.9374 - val_loss: 0.4233 - val_accuracy: 0.8544 - 76ms/epoch - 3ms/step\n",
      "Epoch 39/150\n",
      "29/29 - 0s - loss: 0.1509 - accuracy: 0.9557 - val_loss: 0.4325 - val_accuracy: 0.8641 - 92ms/epoch - 3ms/step\n",
      "Epoch 40/150\n",
      "29/29 - 0s - loss: 0.1519 - accuracy: 0.9525 - val_loss: 0.4320 - val_accuracy: 0.8641 - 84ms/epoch - 3ms/step\n",
      "Epoch 41/150\n",
      "29/29 - 0s - loss: 0.1476 - accuracy: 0.9449 - val_loss: 0.4352 - val_accuracy: 0.8447 - 78ms/epoch - 3ms/step\n",
      "Epoch 42/150\n",
      "29/29 - 0s - loss: 0.1462 - accuracy: 0.9471 - val_loss: 0.4438 - val_accuracy: 0.8641 - 72ms/epoch - 2ms/step\n",
      "Epoch 43/150\n",
      "29/29 - 0s - loss: 0.1565 - accuracy: 0.9492 - val_loss: 0.4422 - val_accuracy: 0.8447 - 81ms/epoch - 3ms/step\n",
      "Epoch 44/150\n",
      "29/29 - 0s - loss: 0.1376 - accuracy: 0.9417 - val_loss: 0.4475 - val_accuracy: 0.8447 - 96ms/epoch - 3ms/step\n",
      "Epoch 45/150\n",
      "29/29 - 0s - loss: 0.1439 - accuracy: 0.9568 - val_loss: 0.4445 - val_accuracy: 0.8447 - 82ms/epoch - 3ms/step\n",
      "Epoch 46/150\n",
      "29/29 - 0s - loss: 0.1393 - accuracy: 0.9514 - val_loss: 0.4635 - val_accuracy: 0.8544 - 79ms/epoch - 3ms/step\n",
      "Epoch 47/150\n",
      "29/29 - 0s - loss: 0.1330 - accuracy: 0.9492 - val_loss: 0.4531 - val_accuracy: 0.8544 - 91ms/epoch - 3ms/step\n",
      "Epoch 48/150\n",
      "29/29 - 0s - loss: 0.1216 - accuracy: 0.9600 - val_loss: 0.4655 - val_accuracy: 0.8641 - 80ms/epoch - 3ms/step\n",
      "Epoch 49/150\n",
      "29/29 - 0s - loss: 0.1184 - accuracy: 0.9579 - val_loss: 0.4496 - val_accuracy: 0.8641 - 81ms/epoch - 3ms/step\n",
      "Epoch 50/150\n",
      "29/29 - 0s - loss: 0.1147 - accuracy: 0.9600 - val_loss: 0.4574 - val_accuracy: 0.8641 - 86ms/epoch - 3ms/step\n",
      "Epoch 51/150\n",
      "29/29 - 0s - loss: 0.1212 - accuracy: 0.9633 - val_loss: 0.4741 - val_accuracy: 0.8641 - 78ms/epoch - 3ms/step\n",
      "Epoch 52/150\n",
      "29/29 - 0s - loss: 0.1227 - accuracy: 0.9514 - val_loss: 0.4719 - val_accuracy: 0.8641 - 89ms/epoch - 3ms/step\n",
      "Epoch 53/150\n",
      "29/29 - 0s - loss: 0.1170 - accuracy: 0.9590 - val_loss: 0.4662 - val_accuracy: 0.8641 - 81ms/epoch - 3ms/step\n",
      "Epoch 54/150\n",
      "29/29 - 0s - loss: 0.1108 - accuracy: 0.9611 - val_loss: 0.4763 - val_accuracy: 0.8641 - 81ms/epoch - 3ms/step\n",
      "Epoch 55/150\n",
      "29/29 - 0s - loss: 0.1024 - accuracy: 0.9633 - val_loss: 0.4808 - val_accuracy: 0.8641 - 81ms/epoch - 3ms/step\n",
      "Epoch 56/150\n",
      "29/29 - 0s - loss: 0.1082 - accuracy: 0.9611 - val_loss: 0.4766 - val_accuracy: 0.8641 - 83ms/epoch - 3ms/step\n",
      "Epoch 57/150\n",
      "29/29 - 0s - loss: 0.1084 - accuracy: 0.9579 - val_loss: 0.4977 - val_accuracy: 0.8641 - 77ms/epoch - 3ms/step\n",
      "Epoch 58/150\n",
      "29/29 - 0s - loss: 0.1150 - accuracy: 0.9590 - val_loss: 0.4743 - val_accuracy: 0.8544 - 80ms/epoch - 3ms/step\n",
      "Epoch 59/150\n",
      "29/29 - 0s - loss: 0.1072 - accuracy: 0.9557 - val_loss: 0.4964 - val_accuracy: 0.8641 - 76ms/epoch - 3ms/step\n",
      "Epoch 60/150\n",
      "29/29 - 0s - loss: 0.1104 - accuracy: 0.9579 - val_loss: 0.5030 - val_accuracy: 0.8544 - 76ms/epoch - 3ms/step\n",
      "Epoch 61/150\n",
      "29/29 - 0s - loss: 0.1039 - accuracy: 0.9590 - val_loss: 0.5093 - val_accuracy: 0.8544 - 79ms/epoch - 3ms/step\n",
      "Epoch 62/150\n",
      "29/29 - 0s - loss: 0.1013 - accuracy: 0.9579 - val_loss: 0.4940 - val_accuracy: 0.8544 - 80ms/epoch - 3ms/step\n",
      "Epoch 63/150\n",
      "29/29 - 0s - loss: 0.1038 - accuracy: 0.9676 - val_loss: 0.4961 - val_accuracy: 0.8544 - 77ms/epoch - 3ms/step\n",
      "Epoch 64/150\n",
      "29/29 - 0s - loss: 0.0891 - accuracy: 0.9687 - val_loss: 0.5076 - val_accuracy: 0.8544 - 108ms/epoch - 4ms/step\n",
      "Epoch 65/150\n",
      "29/29 - 0s - loss: 0.0834 - accuracy: 0.9773 - val_loss: 0.5222 - val_accuracy: 0.8544 - 76ms/epoch - 3ms/step\n",
      "Epoch 66/150\n",
      "29/29 - 0s - loss: 0.0851 - accuracy: 0.9730 - val_loss: 0.5030 - val_accuracy: 0.8641 - 98ms/epoch - 3ms/step\n",
      "Epoch 67/150\n",
      "29/29 - 0s - loss: 0.0850 - accuracy: 0.9730 - val_loss: 0.5107 - val_accuracy: 0.8641 - 84ms/epoch - 3ms/step\n",
      "Epoch 68/150\n",
      "29/29 - 0s - loss: 0.0913 - accuracy: 0.9687 - val_loss: 0.5158 - val_accuracy: 0.8641 - 79ms/epoch - 3ms/step\n",
      "Epoch 69/150\n",
      "29/29 - 0s - loss: 0.0805 - accuracy: 0.9762 - val_loss: 0.5258 - val_accuracy: 0.8544 - 77ms/epoch - 3ms/step\n",
      "Epoch 70/150\n",
      "29/29 - 0s - loss: 0.0766 - accuracy: 0.9762 - val_loss: 0.5226 - val_accuracy: 0.8544 - 81ms/epoch - 3ms/step\n",
      "Epoch 71/150\n",
      "29/29 - 0s - loss: 0.0804 - accuracy: 0.9773 - val_loss: 0.5386 - val_accuracy: 0.8544 - 82ms/epoch - 3ms/step\n",
      "Epoch 72/150\n",
      "29/29 - 0s - loss: 0.0867 - accuracy: 0.9762 - val_loss: 0.5202 - val_accuracy: 0.8544 - 76ms/epoch - 3ms/step\n",
      "Epoch 73/150\n",
      "29/29 - 0s - loss: 0.0768 - accuracy: 0.9762 - val_loss: 0.5559 - val_accuracy: 0.8544 - 86ms/epoch - 3ms/step\n",
      "Epoch 74/150\n",
      "29/29 - 0s - loss: 0.0729 - accuracy: 0.9752 - val_loss: 0.5666 - val_accuracy: 0.8641 - 99ms/epoch - 3ms/step\n",
      "Epoch 75/150\n",
      "29/29 - 0s - loss: 0.0829 - accuracy: 0.9687 - val_loss: 0.5530 - val_accuracy: 0.8641 - 83ms/epoch - 3ms/step\n",
      "Epoch 76/150\n",
      "29/29 - 0s - loss: 0.0712 - accuracy: 0.9784 - val_loss: 0.5557 - val_accuracy: 0.8641 - 81ms/epoch - 3ms/step\n",
      "Epoch 77/150\n",
      "29/29 - 0s - loss: 0.0735 - accuracy: 0.9773 - val_loss: 0.5397 - val_accuracy: 0.8544 - 79ms/epoch - 3ms/step\n",
      "Epoch 78/150\n",
      "29/29 - 0s - loss: 0.0778 - accuracy: 0.9719 - val_loss: 0.5583 - val_accuracy: 0.8544 - 81ms/epoch - 3ms/step\n",
      "Epoch 79/150\n",
      "29/29 - 0s - loss: 0.0746 - accuracy: 0.9730 - val_loss: 0.5503 - val_accuracy: 0.8544 - 83ms/epoch - 3ms/step\n",
      "Epoch 80/150\n",
      "29/29 - 0s - loss: 0.0657 - accuracy: 0.9773 - val_loss: 0.5759 - val_accuracy: 0.8544 - 76ms/epoch - 3ms/step\n",
      "Epoch 81/150\n",
      "29/29 - 0s - loss: 0.0643 - accuracy: 0.9752 - val_loss: 0.5577 - val_accuracy: 0.8544 - 93ms/epoch - 3ms/step\n",
      "Epoch 82/150\n",
      "29/29 - 0s - loss: 0.0714 - accuracy: 0.9795 - val_loss: 0.5504 - val_accuracy: 0.8641 - 81ms/epoch - 3ms/step\n",
      "Epoch 83/150\n",
      "29/29 - 0s - loss: 0.0578 - accuracy: 0.9827 - val_loss: 0.5580 - val_accuracy: 0.8544 - 95ms/epoch - 3ms/step\n",
      "Epoch 84/150\n",
      "29/29 - 0s - loss: 0.0657 - accuracy: 0.9838 - val_loss: 0.5679 - val_accuracy: 0.8641 - 78ms/epoch - 3ms/step\n",
      "Epoch 85/150\n",
      "29/29 - 0s - loss: 0.0552 - accuracy: 0.9784 - val_loss: 0.6006 - val_accuracy: 0.8641 - 80ms/epoch - 3ms/step\n",
      "Epoch 86/150\n",
      "29/29 - 0s - loss: 0.0645 - accuracy: 0.9773 - val_loss: 0.5958 - val_accuracy: 0.8641 - 93ms/epoch - 3ms/step\n",
      "Epoch 87/150\n",
      "29/29 - 0s - loss: 0.0654 - accuracy: 0.9773 - val_loss: 0.5770 - val_accuracy: 0.8544 - 106ms/epoch - 4ms/step\n",
      "Epoch 88/150\n",
      "29/29 - 0s - loss: 0.0575 - accuracy: 0.9795 - val_loss: 0.5953 - val_accuracy: 0.8641 - 81ms/epoch - 3ms/step\n",
      "Epoch 89/150\n",
      "29/29 - 0s - loss: 0.0510 - accuracy: 0.9860 - val_loss: 0.5969 - val_accuracy: 0.8641 - 97ms/epoch - 3ms/step\n",
      "Epoch 90/150\n",
      "29/29 - 0s - loss: 0.0498 - accuracy: 0.9849 - val_loss: 0.6044 - val_accuracy: 0.8544 - 112ms/epoch - 4ms/step\n",
      "Epoch 91/150\n",
      "29/29 - 0s - loss: 0.0603 - accuracy: 0.9773 - val_loss: 0.5868 - val_accuracy: 0.8641 - 79ms/epoch - 3ms/step\n",
      "Epoch 92/150\n",
      "29/29 - 0s - loss: 0.0553 - accuracy: 0.9773 - val_loss: 0.6175 - val_accuracy: 0.8544 - 80ms/epoch - 3ms/step\n",
      "Epoch 93/150\n",
      "29/29 - 0s - loss: 0.0482 - accuracy: 0.9838 - val_loss: 0.6349 - val_accuracy: 0.8544 - 78ms/epoch - 3ms/step\n",
      "Epoch 94/150\n",
      "29/29 - 0s - loss: 0.0555 - accuracy: 0.9816 - val_loss: 0.6296 - val_accuracy: 0.8544 - 90ms/epoch - 3ms/step\n",
      "Epoch 95/150\n",
      "29/29 - 0s - loss: 0.0602 - accuracy: 0.9806 - val_loss: 0.6338 - val_accuracy: 0.8544 - 82ms/epoch - 3ms/step\n",
      "Epoch 96/150\n",
      "29/29 - 0s - loss: 0.0519 - accuracy: 0.9881 - val_loss: 0.6266 - val_accuracy: 0.8544 - 84ms/epoch - 3ms/step\n",
      "Epoch 97/150\n",
      "29/29 - 0s - loss: 0.0448 - accuracy: 0.9838 - val_loss: 0.6360 - val_accuracy: 0.8544 - 85ms/epoch - 3ms/step\n",
      "Epoch 98/150\n",
      "29/29 - 0s - loss: 0.0568 - accuracy: 0.9773 - val_loss: 0.6262 - val_accuracy: 0.8544 - 91ms/epoch - 3ms/step\n",
      "Epoch 99/150\n",
      "29/29 - 0s - loss: 0.0444 - accuracy: 0.9881 - val_loss: 0.6558 - val_accuracy: 0.8447 - 85ms/epoch - 3ms/step\n",
      "Epoch 100/150\n",
      "29/29 - 0s - loss: 0.0474 - accuracy: 0.9795 - val_loss: 0.6309 - val_accuracy: 0.8544 - 80ms/epoch - 3ms/step\n",
      "Epoch 101/150\n",
      "29/29 - 0s - loss: 0.0556 - accuracy: 0.9849 - val_loss: 0.6375 - val_accuracy: 0.8544 - 78ms/epoch - 3ms/step\n",
      "Epoch 102/150\n",
      "29/29 - 0s - loss: 0.0443 - accuracy: 0.9860 - val_loss: 0.6610 - val_accuracy: 0.8447 - 84ms/epoch - 3ms/step\n",
      "Epoch 103/150\n",
      "29/29 - 0s - loss: 0.0373 - accuracy: 0.9914 - val_loss: 0.6507 - val_accuracy: 0.8544 - 77ms/epoch - 3ms/step\n",
      "Epoch 104/150\n",
      "29/29 - 0s - loss: 0.0484 - accuracy: 0.9860 - val_loss: 0.6654 - val_accuracy: 0.8447 - 92ms/epoch - 3ms/step\n",
      "Epoch 105/150\n",
      "29/29 - 0s - loss: 0.0499 - accuracy: 0.9849 - val_loss: 0.6839 - val_accuracy: 0.8447 - 105ms/epoch - 4ms/step\n",
      "Epoch 106/150\n",
      "29/29 - 0s - loss: 0.0470 - accuracy: 0.9870 - val_loss: 0.6737 - val_accuracy: 0.8544 - 85ms/epoch - 3ms/step\n",
      "Epoch 107/150\n",
      "29/29 - 0s - loss: 0.0387 - accuracy: 0.9870 - val_loss: 0.6659 - val_accuracy: 0.8447 - 81ms/epoch - 3ms/step\n",
      "Epoch 108/150\n",
      "29/29 - 0s - loss: 0.0348 - accuracy: 0.9935 - val_loss: 0.6794 - val_accuracy: 0.8544 - 92ms/epoch - 3ms/step\n",
      "Epoch 109/150\n",
      "29/29 - 0s - loss: 0.0393 - accuracy: 0.9870 - val_loss: 0.6715 - val_accuracy: 0.8544 - 106ms/epoch - 4ms/step\n",
      "Epoch 110/150\n",
      "29/29 - 0s - loss: 0.0529 - accuracy: 0.9838 - val_loss: 0.6596 - val_accuracy: 0.8544 - 87ms/epoch - 3ms/step\n",
      "Epoch 111/150\n",
      "29/29 - 0s - loss: 0.0377 - accuracy: 0.9903 - val_loss: 0.6637 - val_accuracy: 0.8544 - 80ms/epoch - 3ms/step\n",
      "Epoch 112/150\n",
      "29/29 - 0s - loss: 0.0397 - accuracy: 0.9881 - val_loss: 0.6628 - val_accuracy: 0.8447 - 91ms/epoch - 3ms/step\n",
      "Epoch 113/150\n",
      "29/29 - 0s - loss: 0.0404 - accuracy: 0.9892 - val_loss: 0.6434 - val_accuracy: 0.8641 - 79ms/epoch - 3ms/step\n",
      "Epoch 114/150\n",
      "29/29 - 0s - loss: 0.0470 - accuracy: 0.9860 - val_loss: 0.6801 - val_accuracy: 0.8544 - 78ms/epoch - 3ms/step\n",
      "Epoch 115/150\n",
      "29/29 - 0s - loss: 0.0370 - accuracy: 0.9892 - val_loss: 0.6950 - val_accuracy: 0.8544 - 78ms/epoch - 3ms/step\n",
      "Epoch 116/150\n",
      "29/29 - 0s - loss: 0.0331 - accuracy: 0.9914 - val_loss: 0.6840 - val_accuracy: 0.8447 - 93ms/epoch - 3ms/step\n",
      "Epoch 117/150\n",
      "29/29 - 0s - loss: 0.0344 - accuracy: 0.9903 - val_loss: 0.6952 - val_accuracy: 0.8544 - 77ms/epoch - 3ms/step\n",
      "Epoch 118/150\n",
      "29/29 - 0s - loss: 0.0253 - accuracy: 0.9968 - val_loss: 0.7078 - val_accuracy: 0.8544 - 84ms/epoch - 3ms/step\n",
      "Epoch 119/150\n",
      "29/29 - 0s - loss: 0.0462 - accuracy: 0.9870 - val_loss: 0.7191 - val_accuracy: 0.8544 - 80ms/epoch - 3ms/step\n",
      "Epoch 120/150\n",
      "29/29 - 0s - loss: 0.0351 - accuracy: 0.9892 - val_loss: 0.7078 - val_accuracy: 0.8544 - 90ms/epoch - 3ms/step\n",
      "Epoch 121/150\n",
      "29/29 - 0s - loss: 0.0369 - accuracy: 0.9892 - val_loss: 0.7198 - val_accuracy: 0.8544 - 79ms/epoch - 3ms/step\n",
      "Epoch 122/150\n",
      "29/29 - 0s - loss: 0.0351 - accuracy: 0.9881 - val_loss: 0.7166 - val_accuracy: 0.8544 - 94ms/epoch - 3ms/step\n",
      "Epoch 123/150\n",
      "29/29 - 0s - loss: 0.0374 - accuracy: 0.9860 - val_loss: 0.7276 - val_accuracy: 0.8447 - 86ms/epoch - 3ms/step\n",
      "Epoch 124/150\n",
      "29/29 - 0s - loss: 0.0314 - accuracy: 0.9903 - val_loss: 0.7275 - val_accuracy: 0.8447 - 77ms/epoch - 3ms/step\n",
      "Epoch 125/150\n",
      "29/29 - 0s - loss: 0.0357 - accuracy: 0.9892 - val_loss: 0.7360 - val_accuracy: 0.8447 - 75ms/epoch - 3ms/step\n",
      "Epoch 126/150\n",
      "29/29 - 0s - loss: 0.0389 - accuracy: 0.9892 - val_loss: 0.7178 - val_accuracy: 0.8447 - 92ms/epoch - 3ms/step\n",
      "Epoch 127/150\n",
      "29/29 - 0s - loss: 0.0327 - accuracy: 0.9914 - val_loss: 0.7316 - val_accuracy: 0.8447 - 80ms/epoch - 3ms/step\n",
      "Epoch 128/150\n",
      "29/29 - 0s - loss: 0.0345 - accuracy: 0.9870 - val_loss: 0.7331 - val_accuracy: 0.8447 - 83ms/epoch - 3ms/step\n",
      "Epoch 129/150\n",
      "29/29 - 0s - loss: 0.0355 - accuracy: 0.9903 - val_loss: 0.7353 - val_accuracy: 0.8447 - 89ms/epoch - 3ms/step\n",
      "Epoch 130/150\n",
      "29/29 - 0s - loss: 0.0304 - accuracy: 0.9914 - val_loss: 0.7358 - val_accuracy: 0.8447 - 84ms/epoch - 3ms/step\n",
      "Epoch 131/150\n",
      "29/29 - 0s - loss: 0.0375 - accuracy: 0.9892 - val_loss: 0.7460 - val_accuracy: 0.8544 - 107ms/epoch - 4ms/step\n",
      "Epoch 132/150\n",
      "29/29 - 0s - loss: 0.0430 - accuracy: 0.9849 - val_loss: 0.7084 - val_accuracy: 0.8544 - 77ms/epoch - 3ms/step\n",
      "Epoch 133/150\n",
      "29/29 - 0s - loss: 0.0322 - accuracy: 0.9914 - val_loss: 0.7463 - val_accuracy: 0.8544 - 82ms/epoch - 3ms/step\n",
      "Epoch 134/150\n",
      "29/29 - 0s - loss: 0.0322 - accuracy: 0.9924 - val_loss: 0.7767 - val_accuracy: 0.8544 - 86ms/epoch - 3ms/step\n",
      "Epoch 135/150\n",
      "29/29 - 0s - loss: 0.0349 - accuracy: 0.9892 - val_loss: 0.7271 - val_accuracy: 0.8544 - 85ms/epoch - 3ms/step\n",
      "Epoch 136/150\n",
      "29/29 - 0s - loss: 0.0284 - accuracy: 0.9924 - val_loss: 0.7371 - val_accuracy: 0.8544 - 82ms/epoch - 3ms/step\n",
      "Epoch 137/150\n",
      "29/29 - 0s - loss: 0.0258 - accuracy: 0.9914 - val_loss: 0.7419 - val_accuracy: 0.8447 - 82ms/epoch - 3ms/step\n",
      "Epoch 138/150\n",
      "29/29 - 0s - loss: 0.0372 - accuracy: 0.9860 - val_loss: 0.7773 - val_accuracy: 0.8544 - 82ms/epoch - 3ms/step\n",
      "Epoch 139/150\n",
      "29/29 - 0s - loss: 0.0210 - accuracy: 0.9946 - val_loss: 0.7792 - val_accuracy: 0.8544 - 96ms/epoch - 3ms/step\n",
      "Epoch 140/150\n",
      "29/29 - 0s - loss: 0.0321 - accuracy: 0.9892 - val_loss: 0.7674 - val_accuracy: 0.8641 - 85ms/epoch - 3ms/step\n",
      "Epoch 141/150\n",
      "29/29 - 0s - loss: 0.0248 - accuracy: 0.9957 - val_loss: 0.7592 - val_accuracy: 0.8544 - 79ms/epoch - 3ms/step\n",
      "Epoch 142/150\n",
      "29/29 - 0s - loss: 0.0255 - accuracy: 0.9914 - val_loss: 0.7839 - val_accuracy: 0.8544 - 128ms/epoch - 4ms/step\n",
      "Epoch 143/150\n",
      "29/29 - 0s - loss: 0.0343 - accuracy: 0.9892 - val_loss: 0.7720 - val_accuracy: 0.8544 - 99ms/epoch - 3ms/step\n",
      "Epoch 144/150\n",
      "29/29 - 0s - loss: 0.0413 - accuracy: 0.9860 - val_loss: 0.7757 - val_accuracy: 0.8447 - 85ms/epoch - 3ms/step\n",
      "Epoch 145/150\n",
      "29/29 - 0s - loss: 0.0369 - accuracy: 0.9892 - val_loss: 0.7893 - val_accuracy: 0.8544 - 79ms/epoch - 3ms/step\n",
      "Epoch 146/150\n",
      "29/29 - 0s - loss: 0.0229 - accuracy: 0.9946 - val_loss: 0.8009 - val_accuracy: 0.8544 - 76ms/epoch - 3ms/step\n",
      "Epoch 147/150\n",
      "29/29 - 0s - loss: 0.0270 - accuracy: 0.9924 - val_loss: 0.7918 - val_accuracy: 0.8544 - 74ms/epoch - 3ms/step\n",
      "Epoch 148/150\n",
      "29/29 - 0s - loss: 0.0210 - accuracy: 0.9957 - val_loss: 0.7902 - val_accuracy: 0.8544 - 96ms/epoch - 3ms/step\n",
      "Epoch 149/150\n",
      "29/29 - 0s - loss: 0.0285 - accuracy: 0.9881 - val_loss: 0.7912 - val_accuracy: 0.8544 - 91ms/epoch - 3ms/step\n",
      "Epoch 150/150\n",
      "29/29 - 0s - loss: 0.0271 - accuracy: 0.9924 - val_loss: 0.8129 - val_accuracy: 0.8544 - 75ms/epoch - 3ms/step\n"
     ]
    }
   ],
   "source": [
    "history_1 = model_1.fit(X_train_scaled, \n",
    "                    y_train,\n",
    "                    validation_split=0.1, \n",
    "                    epochs=150, \n",
    "                    verbose=2)"
   ]
  },
  {
   "cell_type": "markdown",
   "id": "64db4b9e",
   "metadata": {
    "id": "64db4b9e"
   },
   "source": [
    "### **Plotting Accuracy vs Epoch Curve**"
   ]
  },
  {
   "cell_type": "code",
   "execution_count": 33,
   "id": "4eb86c27",
   "metadata": {
    "colab": {
     "base_uri": "https://localhost:8080/",
     "height": 295
    },
    "id": "4eb86c27",
    "outputId": "abf75c28-913e-4cbb-b935-a224f6202b8a"
   },
   "outputs": [
    {
     "data": {
      "image/png": "[encoded data removed]",
      "text/plain": [
       "<Figure size 432x288 with 1 Axes>"
      ]
     },
     "metadata": {
      "needs_background": "light"
     },
     "output_type": "display_data"
    }
   ],
   "source": [
    "plt.plot(history_1.history['accuracy'])\n",
    "plt.plot(history_1.history['val_accuracy'])\n",
    "plt.title('Accuracy vs Epochs')\n",
    "plt.ylabel('Accuracy')\n",
    "plt.xlabel('Epoch')\n",
    "plt.legend(['Train', 'Validation'], loc='lower right')\n",
    "plt.show()"
   ]
  },
  {
   "cell_type": "markdown",
   "id": "aa3e31d9",
   "metadata": {
    "id": "aa3e31d9"
   },
   "source": [
    "**Observations:**\n",
    "\n",
    "- The training accuracy is fluctuating but overall it is increasing with the increase in the epochs.\n",
    "- The validation accuracy is constantly fluctuating after 20 epochs."
   ]
  },
  {
   "cell_type": "markdown",
   "id": "764d3f67",
   "metadata": {
    "id": "764d3f67"
   },
   "source": [
    "Let's try to increase the model complexity by tuning some of the hyper-parameters mentioned earlier and check if we can improve the model performance. Out of all the options we have, let's try to change the number of hidden layers, the number of neurons in each hidden layer, the activation function in the hidden layer, and the optimizer from **adamax** to **adam**. Also, we have observed that validation accuracy became constant after some epochs, let's try less number of epochs which would also reduce the computation time. "
   ]
  },
  {
   "cell_type": "markdown",
   "id": "a596306b",
   "metadata": {
    "id": "a596306b"
   },
   "source": [
    "First, we need to clear the previous model's history from the session. In Keras, we need special command to clear the model's history otherwise the previous model history remains in the backend.\n",
    "Also, let's fix the seed again after clearing the backend."
   ]
  },
  {
   "cell_type": "code",
   "execution_count": 34,
   "id": "fc24937f",
   "metadata": {
    "id": "fc24937f"
   },
   "outputs": [],
   "source": [
    "# Clearing backend\n",
    "from tensorflow.keras import backend\n",
    "backend.clear_session()"
   ]
  },
  {
   "cell_type": "code",
   "execution_count": 35,
   "id": "8ac4292a",
   "metadata": {
    "id": "8ac4292a"
   },
   "outputs": [],
   "source": [
    "# # Fixing the seed for random number generators\n",
    "np.random.seed(42)\n",
    "\n",
    "import random\n",
    "random.seed(42)\n",
    "\n",
    "tf.random.set_seed(42)"
   ]
  },
  {
   "cell_type": "code",
   "execution_count": 36,
   "id": "4b146983",
   "metadata": {
    "id": "4b146983"
   },
   "outputs": [],
   "source": [
    "model_2 = Sequential()\n",
    "model_2.add(Dense(128, activation='tanh', input_shape=(54,)))\n",
    "model_2.add(Dropout(0.1))\n",
    "model_2.add(Dense(64, activation='tanh'))\n",
    "model_2.add(Dropout(0.1))\n",
    "model_2.add(Dense(32, activation='tanh'))\n",
    "model_2.add(Dense(1, activation='sigmoid'))"
   ]
  },
  {
   "cell_type": "code",
   "execution_count": 37,
   "id": "fa4fd45d",
   "metadata": {
    "colab": {
     "base_uri": "https://localhost:8080/"
    },
    "id": "fa4fd45d",
    "outputId": "8a24d4ca-8e07-4d25-9b66-140b4beed97d"
   },
   "outputs": [
    {
     "name": "stdout",
     "output_type": "stream",
     "text": [
      "Model: \"sequential\"\n",
      "_________________________________________________________________\n",
      " Layer (type)                Output Shape              Param #   \n",
      "=================================================================\n",
      " dense (Dense)               (None, 128)               7040      \n",
      "                                                                 \n",
      " dropout (Dropout)           (None, 128)               0         \n",
      "                                                                 \n",
      " dense_1 (Dense)             (None, 64)                8256      \n",
      "                                                                 \n",
      " dropout_1 (Dropout)         (None, 64)                0         \n",
      "                                                                 \n",
      " dense_2 (Dense)             (None, 32)                2080      \n",
      "                                                                 \n",
      " dense_3 (Dense)             (None, 1)                 33        \n",
      "                                                                 \n",
      "=================================================================\n",
      "Total params: 17,409\n",
      "Trainable params: 17,409\n",
      "Non-trainable params: 0\n",
      "_________________________________________________________________\n"
     ]
    }
   ],
   "source": [
    "model_2.compile(loss = 'binary_crossentropy', optimizer='adam', metrics=['accuracy'])\n",
    "model_2.summary()"
   ]
  },
  {
   "cell_type": "code",
   "execution_count": 38,
   "id": "7d253e3f",
   "metadata": {
    "colab": {
     "base_uri": "https://localhost:8080/"
    },
    "id": "7d253e3f",
    "outputId": "74b4c317-8725-4dc2-9109-25c52ffca5df"
   },
   "outputs": [
    {
     "name": "stdout",
     "output_type": "stream",
     "text": [
      "Epoch 1/100\n",
      "29/29 - 1s - loss: 0.6357 - accuracy: 0.6285 - val_loss: 0.5030 - val_accuracy: 0.8058 - 878ms/epoch - 30ms/step\n",
      "Epoch 2/100\n",
      "29/29 - 0s - loss: 0.4435 - accuracy: 0.8413 - val_loss: 0.3777 - val_accuracy: 0.8932 - 108ms/epoch - 4ms/step\n",
      "Epoch 3/100\n",
      "29/29 - 0s - loss: 0.3450 - accuracy: 0.8715 - val_loss: 0.3233 - val_accuracy: 0.8835 - 104ms/epoch - 4ms/step\n",
      "Epoch 4/100\n",
      "29/29 - 0s - loss: 0.2776 - accuracy: 0.9028 - val_loss: 0.3303 - val_accuracy: 0.8738 - 86ms/epoch - 3ms/step\n",
      "Epoch 5/100\n",
      "29/29 - 0s - loss: 0.2663 - accuracy: 0.8963 - val_loss: 0.3661 - val_accuracy: 0.8252 - 101ms/epoch - 3ms/step\n",
      "Epoch 6/100\n",
      "29/29 - 0s - loss: 0.2462 - accuracy: 0.9071 - val_loss: 0.3382 - val_accuracy: 0.8932 - 87ms/epoch - 3ms/step\n",
      "Epoch 7/100\n",
      "29/29 - 0s - loss: 0.2320 - accuracy: 0.9136 - val_loss: 0.3652 - val_accuracy: 0.8641 - 87ms/epoch - 3ms/step\n",
      "Epoch 8/100\n",
      "29/29 - 0s - loss: 0.2201 - accuracy: 0.9179 - val_loss: 0.3552 - val_accuracy: 0.8738 - 89ms/epoch - 3ms/step\n",
      "Epoch 9/100\n",
      "29/29 - 0s - loss: 0.2149 - accuracy: 0.9168 - val_loss: 0.3734 - val_accuracy: 0.8738 - 89ms/epoch - 3ms/step\n",
      "Epoch 10/100\n",
      "29/29 - 0s - loss: 0.1882 - accuracy: 0.9330 - val_loss: 0.3633 - val_accuracy: 0.8932 - 99ms/epoch - 3ms/step\n",
      "Epoch 11/100\n",
      "29/29 - 0s - loss: 0.1935 - accuracy: 0.9298 - val_loss: 0.3689 - val_accuracy: 0.8544 - 116ms/epoch - 4ms/step\n",
      "Epoch 12/100\n",
      "29/29 - 0s - loss: 0.1847 - accuracy: 0.9298 - val_loss: 0.3924 - val_accuracy: 0.8738 - 114ms/epoch - 4ms/step\n",
      "Epoch 13/100\n",
      "29/29 - 0s - loss: 0.1610 - accuracy: 0.9536 - val_loss: 0.3668 - val_accuracy: 0.8641 - 112ms/epoch - 4ms/step\n",
      "Epoch 14/100\n",
      "29/29 - 0s - loss: 0.1640 - accuracy: 0.9428 - val_loss: 0.4279 - val_accuracy: 0.8447 - 106ms/epoch - 4ms/step\n",
      "Epoch 15/100\n",
      "29/29 - 0s - loss: 0.1537 - accuracy: 0.9406 - val_loss: 0.4105 - val_accuracy: 0.8544 - 101ms/epoch - 3ms/step\n",
      "Epoch 16/100\n",
      "29/29 - 0s - loss: 0.1471 - accuracy: 0.9492 - val_loss: 0.4004 - val_accuracy: 0.8544 - 86ms/epoch - 3ms/step\n",
      "Epoch 17/100\n",
      "29/29 - 0s - loss: 0.1301 - accuracy: 0.9536 - val_loss: 0.3930 - val_accuracy: 0.8544 - 87ms/epoch - 3ms/step\n",
      "Epoch 18/100\n",
      "29/29 - 0s - loss: 0.1224 - accuracy: 0.9644 - val_loss: 0.4217 - val_accuracy: 0.8447 - 88ms/epoch - 3ms/step\n",
      "Epoch 19/100\n",
      "29/29 - 0s - loss: 0.1254 - accuracy: 0.9579 - val_loss: 0.4583 - val_accuracy: 0.8350 - 99ms/epoch - 3ms/step\n",
      "Epoch 20/100\n",
      "29/29 - 0s - loss: 0.1123 - accuracy: 0.9611 - val_loss: 0.4306 - val_accuracy: 0.8641 - 101ms/epoch - 3ms/step\n",
      "Epoch 21/100\n",
      "29/29 - 0s - loss: 0.1003 - accuracy: 0.9676 - val_loss: 0.4188 - val_accuracy: 0.8738 - 84ms/epoch - 3ms/step\n",
      "Epoch 22/100\n",
      "29/29 - 0s - loss: 0.0986 - accuracy: 0.9687 - val_loss: 0.4246 - val_accuracy: 0.8447 - 109ms/epoch - 4ms/step\n",
      "Epoch 23/100\n",
      "29/29 - 0s - loss: 0.0859 - accuracy: 0.9719 - val_loss: 0.4613 - val_accuracy: 0.8544 - 87ms/epoch - 3ms/step\n",
      "Epoch 24/100\n",
      "29/29 - 0s - loss: 0.0981 - accuracy: 0.9654 - val_loss: 0.4259 - val_accuracy: 0.8641 - 107ms/epoch - 4ms/step\n",
      "Epoch 25/100\n",
      "29/29 - 0s - loss: 0.0772 - accuracy: 0.9698 - val_loss: 0.4875 - val_accuracy: 0.8641 - 81ms/epoch - 3ms/step\n",
      "Epoch 26/100\n",
      "29/29 - 0s - loss: 0.0786 - accuracy: 0.9708 - val_loss: 0.3927 - val_accuracy: 0.8932 - 86ms/epoch - 3ms/step\n",
      "Epoch 27/100\n",
      "29/29 - 0s - loss: 0.0844 - accuracy: 0.9719 - val_loss: 0.4896 - val_accuracy: 0.8447 - 85ms/epoch - 3ms/step\n",
      "Epoch 28/100\n",
      "29/29 - 0s - loss: 0.0668 - accuracy: 0.9816 - val_loss: 0.5596 - val_accuracy: 0.8447 - 100ms/epoch - 3ms/step\n",
      "Epoch 29/100\n",
      "29/29 - 0s - loss: 0.0594 - accuracy: 0.9806 - val_loss: 0.4170 - val_accuracy: 0.8544 - 90ms/epoch - 3ms/step\n",
      "Epoch 30/100\n",
      "29/29 - 0s - loss: 0.0565 - accuracy: 0.9816 - val_loss: 0.3914 - val_accuracy: 0.8932 - 89ms/epoch - 3ms/step\n",
      "Epoch 31/100\n",
      "29/29 - 0s - loss: 0.0513 - accuracy: 0.9827 - val_loss: 0.4948 - val_accuracy: 0.8447 - 102ms/epoch - 4ms/step\n",
      "Epoch 32/100\n",
      "29/29 - 0s - loss: 0.0519 - accuracy: 0.9860 - val_loss: 0.5220 - val_accuracy: 0.8447 - 101ms/epoch - 3ms/step\n",
      "Epoch 33/100\n",
      "29/29 - 0s - loss: 0.0464 - accuracy: 0.9849 - val_loss: 0.4460 - val_accuracy: 0.8252 - 93ms/epoch - 3ms/step\n",
      "Epoch 34/100\n",
      "29/29 - 0s - loss: 0.0577 - accuracy: 0.9795 - val_loss: 0.4312 - val_accuracy: 0.8932 - 88ms/epoch - 3ms/step\n",
      "Epoch 35/100\n",
      "29/29 - 0s - loss: 0.0490 - accuracy: 0.9838 - val_loss: 0.5168 - val_accuracy: 0.8641 - 103ms/epoch - 4ms/step\n",
      "Epoch 36/100\n",
      "29/29 - 0s - loss: 0.0420 - accuracy: 0.9914 - val_loss: 0.5562 - val_accuracy: 0.8447 - 87ms/epoch - 3ms/step\n",
      "Epoch 37/100\n",
      "29/29 - 0s - loss: 0.0424 - accuracy: 0.9870 - val_loss: 0.4994 - val_accuracy: 0.8544 - 111ms/epoch - 4ms/step\n",
      "Epoch 38/100\n",
      "29/29 - 0s - loss: 0.0340 - accuracy: 0.9892 - val_loss: 0.5213 - val_accuracy: 0.8835 - 100ms/epoch - 3ms/step\n",
      "Epoch 39/100\n",
      "29/29 - 0s - loss: 0.0286 - accuracy: 0.9903 - val_loss: 0.5759 - val_accuracy: 0.8544 - 86ms/epoch - 3ms/step\n",
      "Epoch 40/100\n",
      "29/29 - 0s - loss: 0.0199 - accuracy: 0.9946 - val_loss: 0.5625 - val_accuracy: 0.8544 - 88ms/epoch - 3ms/step\n",
      "Epoch 41/100\n",
      "29/29 - 0s - loss: 0.0302 - accuracy: 0.9914 - val_loss: 0.4538 - val_accuracy: 0.8835 - 92ms/epoch - 3ms/step\n",
      "Epoch 42/100\n",
      "29/29 - 0s - loss: 0.0390 - accuracy: 0.9849 - val_loss: 0.5753 - val_accuracy: 0.8544 - 102ms/epoch - 4ms/step\n",
      "Epoch 43/100\n",
      "29/29 - 0s - loss: 0.0391 - accuracy: 0.9870 - val_loss: 0.5908 - val_accuracy: 0.8641 - 104ms/epoch - 4ms/step\n",
      "Epoch 44/100\n",
      "29/29 - 0s - loss: 0.0363 - accuracy: 0.9881 - val_loss: 0.5344 - val_accuracy: 0.8932 - 100ms/epoch - 3ms/step\n",
      "Epoch 45/100\n",
      "29/29 - 0s - loss: 0.0335 - accuracy: 0.9903 - val_loss: 0.5361 - val_accuracy: 0.8738 - 101ms/epoch - 3ms/step\n",
      "Epoch 46/100\n",
      "29/29 - 0s - loss: 0.0291 - accuracy: 0.9903 - val_loss: 0.5856 - val_accuracy: 0.8641 - 90ms/epoch - 3ms/step\n",
      "Epoch 47/100\n",
      "29/29 - 0s - loss: 0.0239 - accuracy: 0.9914 - val_loss: 0.5655 - val_accuracy: 0.8835 - 104ms/epoch - 4ms/step\n",
      "Epoch 48/100\n",
      "29/29 - 0s - loss: 0.0257 - accuracy: 0.9914 - val_loss: 0.5333 - val_accuracy: 0.8932 - 88ms/epoch - 3ms/step\n",
      "Epoch 49/100\n",
      "29/29 - 0s - loss: 0.0238 - accuracy: 0.9957 - val_loss: 0.5127 - val_accuracy: 0.8932 - 85ms/epoch - 3ms/step\n",
      "Epoch 50/100\n",
      "29/29 - 0s - loss: 0.0167 - accuracy: 0.9957 - val_loss: 0.5191 - val_accuracy: 0.8932 - 87ms/epoch - 3ms/step\n",
      "Epoch 51/100\n",
      "29/29 - 0s - loss: 0.0125 - accuracy: 0.9968 - val_loss: 0.5368 - val_accuracy: 0.8932 - 84ms/epoch - 3ms/step\n",
      "Epoch 52/100\n",
      "29/29 - 0s - loss: 0.0230 - accuracy: 0.9935 - val_loss: 0.6845 - val_accuracy: 0.8544 - 111ms/epoch - 4ms/step\n",
      "Epoch 53/100\n",
      "29/29 - 0s - loss: 0.0167 - accuracy: 0.9935 - val_loss: 0.6077 - val_accuracy: 0.8544 - 96ms/epoch - 3ms/step\n",
      "Epoch 54/100\n",
      "29/29 - 0s - loss: 0.0123 - accuracy: 0.9978 - val_loss: 0.5771 - val_accuracy: 0.8544 - 102ms/epoch - 4ms/step\n",
      "Epoch 55/100\n",
      "29/29 - 0s - loss: 0.0221 - accuracy: 0.9903 - val_loss: 0.6420 - val_accuracy: 0.8544 - 88ms/epoch - 3ms/step\n",
      "Epoch 56/100\n",
      "29/29 - 0s - loss: 0.0178 - accuracy: 0.9935 - val_loss: 0.6292 - val_accuracy: 0.8738 - 86ms/epoch - 3ms/step\n",
      "Epoch 57/100\n",
      "29/29 - 0s - loss: 0.0142 - accuracy: 0.9957 - val_loss: 0.7055 - val_accuracy: 0.8447 - 103ms/epoch - 4ms/step\n",
      "Epoch 58/100\n",
      "29/29 - 0s - loss: 0.0224 - accuracy: 0.9924 - val_loss: 0.7134 - val_accuracy: 0.8447 - 91ms/epoch - 3ms/step\n",
      "Epoch 59/100\n",
      "29/29 - 0s - loss: 0.0128 - accuracy: 0.9968 - val_loss: 0.6423 - val_accuracy: 0.8738 - 90ms/epoch - 3ms/step\n",
      "Epoch 60/100\n",
      "29/29 - 0s - loss: 0.0090 - accuracy: 0.9957 - val_loss: 0.6795 - val_accuracy: 0.8350 - 84ms/epoch - 3ms/step\n",
      "Epoch 61/100\n",
      "29/29 - 0s - loss: 0.0186 - accuracy: 0.9924 - val_loss: 0.6812 - val_accuracy: 0.8350 - 86ms/epoch - 3ms/step\n",
      "Epoch 62/100\n",
      "29/29 - 0s - loss: 0.0105 - accuracy: 0.9989 - val_loss: 0.6158 - val_accuracy: 0.8738 - 86ms/epoch - 3ms/step\n",
      "Epoch 63/100\n",
      "29/29 - 0s - loss: 0.0127 - accuracy: 0.9957 - val_loss: 0.5957 - val_accuracy: 0.8738 - 101ms/epoch - 3ms/step\n",
      "Epoch 64/100\n",
      "29/29 - 0s - loss: 0.0066 - accuracy: 0.9978 - val_loss: 0.6544 - val_accuracy: 0.8738 - 98ms/epoch - 3ms/step\n",
      "Epoch 65/100\n",
      "29/29 - 0s - loss: 0.0210 - accuracy: 0.9935 - val_loss: 0.6088 - val_accuracy: 0.8544 - 87ms/epoch - 3ms/step\n",
      "Epoch 66/100\n",
      "29/29 - 0s - loss: 0.0204 - accuracy: 0.9946 - val_loss: 0.6664 - val_accuracy: 0.8641 - 101ms/epoch - 3ms/step\n",
      "Epoch 67/100\n",
      "29/29 - 0s - loss: 0.0116 - accuracy: 0.9957 - val_loss: 0.6227 - val_accuracy: 0.8447 - 90ms/epoch - 3ms/step\n",
      "Epoch 68/100\n",
      "29/29 - 0s - loss: 0.0096 - accuracy: 0.9957 - val_loss: 0.6156 - val_accuracy: 0.8835 - 97ms/epoch - 3ms/step\n",
      "Epoch 69/100\n",
      "29/29 - 0s - loss: 0.0120 - accuracy: 0.9978 - val_loss: 0.6702 - val_accuracy: 0.8641 - 84ms/epoch - 3ms/step\n",
      "Epoch 70/100\n",
      "29/29 - 0s - loss: 0.0123 - accuracy: 0.9978 - val_loss: 0.6740 - val_accuracy: 0.8738 - 101ms/epoch - 3ms/step\n",
      "Epoch 71/100\n",
      "29/29 - 0s - loss: 0.0086 - accuracy: 0.9989 - val_loss: 0.8719 - val_accuracy: 0.8447 - 92ms/epoch - 3ms/step\n",
      "Epoch 72/100\n",
      "29/29 - 0s - loss: 0.0057 - accuracy: 1.0000 - val_loss: 0.8374 - val_accuracy: 0.8252 - 88ms/epoch - 3ms/step\n",
      "Epoch 73/100\n",
      "29/29 - 0s - loss: 0.0089 - accuracy: 0.9978 - val_loss: 0.6427 - val_accuracy: 0.8835 - 123ms/epoch - 4ms/step\n",
      "Epoch 74/100\n",
      "29/29 - 0s - loss: 0.0078 - accuracy: 0.9978 - val_loss: 0.6957 - val_accuracy: 0.8447 - 89ms/epoch - 3ms/step\n",
      "Epoch 75/100\n",
      "29/29 - 0s - loss: 0.0040 - accuracy: 0.9989 - val_loss: 0.7357 - val_accuracy: 0.8447 - 85ms/epoch - 3ms/step\n",
      "Epoch 76/100\n",
      "29/29 - 0s - loss: 0.0096 - accuracy: 0.9968 - val_loss: 0.7475 - val_accuracy: 0.8252 - 92ms/epoch - 3ms/step\n",
      "Epoch 77/100\n",
      "29/29 - 0s - loss: 0.0115 - accuracy: 0.9957 - val_loss: 0.7474 - val_accuracy: 0.8350 - 91ms/epoch - 3ms/step\n",
      "Epoch 78/100\n",
      "29/29 - 0s - loss: 0.0265 - accuracy: 0.9924 - val_loss: 0.8015 - val_accuracy: 0.8350 - 88ms/epoch - 3ms/step\n",
      "Epoch 79/100\n",
      "29/29 - 0s - loss: 0.0127 - accuracy: 0.9968 - val_loss: 0.8038 - val_accuracy: 0.8350 - 85ms/epoch - 3ms/step\n",
      "Epoch 80/100\n",
      "29/29 - 0s - loss: 0.0135 - accuracy: 0.9978 - val_loss: 0.6988 - val_accuracy: 0.8544 - 103ms/epoch - 4ms/step\n",
      "Epoch 81/100\n",
      "29/29 - 0s - loss: 0.0093 - accuracy: 0.9978 - val_loss: 0.6126 - val_accuracy: 0.8932 - 92ms/epoch - 3ms/step\n",
      "Epoch 82/100\n",
      "29/29 - 0s - loss: 0.0109 - accuracy: 0.9968 - val_loss: 0.6429 - val_accuracy: 0.8738 - 85ms/epoch - 3ms/step\n",
      "Epoch 83/100\n",
      "29/29 - 0s - loss: 0.0111 - accuracy: 0.9968 - val_loss: 0.8595 - val_accuracy: 0.8447 - 82ms/epoch - 3ms/step\n",
      "Epoch 84/100\n",
      "29/29 - 0s - loss: 0.0068 - accuracy: 0.9989 - val_loss: 0.7561 - val_accuracy: 0.8641 - 142ms/epoch - 5ms/step\n",
      "Epoch 85/100\n",
      "29/29 - 0s - loss: 0.0046 - accuracy: 0.9989 - val_loss: 0.7592 - val_accuracy: 0.8641 - 103ms/epoch - 4ms/step\n",
      "Epoch 86/100\n",
      "29/29 - 0s - loss: 0.0093 - accuracy: 0.9968 - val_loss: 0.8447 - val_accuracy: 0.8447 - 84ms/epoch - 3ms/step\n",
      "Epoch 87/100\n",
      "29/29 - 0s - loss: 0.0064 - accuracy: 0.9989 - val_loss: 0.6965 - val_accuracy: 0.8738 - 103ms/epoch - 4ms/step\n",
      "Epoch 88/100\n",
      "29/29 - 0s - loss: 0.0055 - accuracy: 0.9978 - val_loss: 0.6928 - val_accuracy: 0.8641 - 99ms/epoch - 3ms/step\n",
      "Epoch 89/100\n",
      "29/29 - 0s - loss: 0.0076 - accuracy: 0.9968 - val_loss: 0.7683 - val_accuracy: 0.8641 - 85ms/epoch - 3ms/step\n",
      "Epoch 90/100\n",
      "29/29 - 0s - loss: 0.0124 - accuracy: 0.9957 - val_loss: 0.9032 - val_accuracy: 0.8447 - 87ms/epoch - 3ms/step\n",
      "Epoch 91/100\n",
      "29/29 - 0s - loss: 0.0129 - accuracy: 0.9957 - val_loss: 0.7116 - val_accuracy: 0.8544 - 86ms/epoch - 3ms/step\n",
      "Epoch 92/100\n",
      "29/29 - 0s - loss: 0.0093 - accuracy: 0.9968 - val_loss: 0.6573 - val_accuracy: 0.8835 - 93ms/epoch - 3ms/step\n",
      "Epoch 93/100\n",
      "29/29 - 0s - loss: 0.0146 - accuracy: 0.9957 - val_loss: 0.8446 - val_accuracy: 0.8350 - 85ms/epoch - 3ms/step\n",
      "Epoch 94/100\n",
      "29/29 - 0s - loss: 0.0054 - accuracy: 1.0000 - val_loss: 0.7544 - val_accuracy: 0.8835 - 103ms/epoch - 4ms/step\n",
      "Epoch 95/100\n",
      "29/29 - 0s - loss: 0.0173 - accuracy: 0.9935 - val_loss: 0.6942 - val_accuracy: 0.8738 - 84ms/epoch - 3ms/step\n",
      "Epoch 96/100\n",
      "29/29 - 0s - loss: 0.0143 - accuracy: 0.9957 - val_loss: 0.6835 - val_accuracy: 0.8835 - 100ms/epoch - 3ms/step\n",
      "Epoch 97/100\n",
      "29/29 - 0s - loss: 0.0055 - accuracy: 1.0000 - val_loss: 0.7335 - val_accuracy: 0.8835 - 100ms/epoch - 3ms/step\n",
      "Epoch 98/100\n",
      "29/29 - 0s - loss: 0.0093 - accuracy: 0.9957 - val_loss: 0.7593 - val_accuracy: 0.8738 - 85ms/epoch - 3ms/step\n",
      "Epoch 99/100\n",
      "29/29 - 0s - loss: 0.0063 - accuracy: 0.9989 - val_loss: 0.6887 - val_accuracy: 0.8932 - 88ms/epoch - 3ms/step\n",
      "Epoch 100/100\n",
      "29/29 - 0s - loss: 0.0078 - accuracy: 0.9968 - val_loss: 0.7806 - val_accuracy: 0.8738 - 97ms/epoch - 3ms/step\n"
     ]
    }
   ],
   "source": [
    "history_2 = model_2.fit(X_train_scaled, \n",
    "                    y_train, \n",
    "                    validation_split=0.1, \n",
    "                    epochs=100, \n",
    "                    verbose=2)"
   ]
  },
  {
   "cell_type": "code",
   "execution_count": 39,
   "id": "d507aa44",
   "metadata": {
    "colab": {
     "base_uri": "https://localhost:8080/",
     "height": 295
    },
    "id": "d507aa44",
    "outputId": "d103d23d-5118-483e-d5fe-bbed7fa3663f"
   },
   "outputs": [
    {
     "data": {
      "image/png": "[encoded data removed]",
      "text/plain": [
       "<Figure size 432x288 with 1 Axes>"
      ]
     },
     "metadata": {
      "needs_background": "light"
     },
     "output_type": "display_data"
    }
   ],
   "source": [
    "plt.plot(history_2.history['accuracy'])\n",
    "plt.plot(history_2.history['val_accuracy'])\n",
    "plt.title('Accuracy vs Epochs')\n",
    "plt.ylabel('Accuracy')\n",
    "plt.xlabel('Epoch')\n",
    "plt.legend(['Train', 'Validation'], loc='lower right')\n",
    "plt.show()"
   ]
  },
  {
   "cell_type": "markdown",
   "id": "c22555ef",
   "metadata": {
    "id": "c22555ef"
   },
   "source": [
    "**Observations:** \n",
    "\n",
    "- We are able to slightly improve the model performance on the training data - accuracy has increased but the validation accuracy has been constantly fluctuating between the accuracy of **80%** and **90%**"
   ]
  },
  {
   "cell_type": "markdown",
   "id": "3b62c5dd",
   "metadata": {
    "id": "3b62c5dd"
   },
   "source": [
    "**Let's try to further tune some of the hyper-parameters and check if we can improve the model performance.**\n",
    "\n",
    "We will use learning_rate = 0.0003 for the optimizer in the training process and increase the model complexity by further increasing the number of layers, the number of nodes in each layer, and the epochs."
   ]
  },
  {
   "cell_type": "code",
   "execution_count": 40,
   "id": "ee91f104",
   "metadata": {
    "id": "ee91f104"
   },
   "outputs": [],
   "source": [
    "# # Clearing the backend\n",
    "from tensorflow.keras import backend\n",
    "backend.clear_session()"
   ]
  },
  {
   "cell_type": "code",
   "execution_count": 41,
   "id": "bf45d464",
   "metadata": {
    "id": "bf45d464"
   },
   "outputs": [],
   "source": [
    "# # Fixing the seed for random number generators\n",
    "np.random.seed(42)\n",
    "\n",
    "import random\n",
    "random.seed(42)\n",
    "\n",
    "tf.random.set_seed(42)"
   ]
  },
  {
   "cell_type": "code",
   "execution_count": 42,
   "id": "d29537c6",
   "metadata": {
    "id": "d29537c6"
   },
   "outputs": [],
   "source": [
    "model_3 = Sequential()\n",
    "model_3.add(Dense(256, activation='tanh', input_shape=(54,)))\n",
    "model_3.add(Dropout(0.1))\n",
    "model_3.add(Dense(128, activation='tanh'))\n",
    "model_3.add(Dropout(0.1))\n",
    "model_3.add(Dense(64, activation='tanh'))\n",
    "model_3.add(Dropout(0.1))\n",
    "model_3.add(Dense(32, activation='tanh'))\n",
    "model_3.add(Dense(1, activation='sigmoid'))"
   ]
  },
  {
   "cell_type": "code",
   "execution_count": 43,
   "id": "b0533090",
   "metadata": {
    "colab": {
     "base_uri": "https://localhost:8080/"
    },
    "id": "b0533090",
    "outputId": "75c3da6f-321b-401a-dd60-20aa7f4599b6"
   },
   "outputs": [
    {
     "name": "stdout",
     "output_type": "stream",
     "text": [
      "Model: \"sequential\"\n",
      "_________________________________________________________________\n",
      " Layer (type)                Output Shape              Param #   \n",
      "=================================================================\n",
      " dense (Dense)               (None, 256)               14080     \n",
      "                                                                 \n",
      " dropout (Dropout)           (None, 256)               0         \n",
      "                                                                 \n",
      " dense_1 (Dense)             (None, 128)               32896     \n",
      "                                                                 \n",
      " dropout_1 (Dropout)         (None, 128)               0         \n",
      "                                                                 \n",
      " dense_2 (Dense)             (None, 64)                8256      \n",
      "                                                                 \n",
      " dropout_2 (Dropout)         (None, 64)                0         \n",
      "                                                                 \n",
      " dense_3 (Dense)             (None, 32)                2080      \n",
      "                                                                 \n",
      " dense_4 (Dense)             (None, 1)                 33        \n",
      "                                                                 \n",
      "=================================================================\n",
      "Total params: 57,345\n",
      "Trainable params: 57,345\n",
      "Non-trainable params: 0\n",
      "_________________________________________________________________\n"
     ]
    }
   ],
   "source": [
    "model_3.compile(loss = 'binary_crossentropy', optimizer=tf.keras.optimizers.Adam(learning_rate=0.0003), metrics=['accuracy'])\n",
    "model_3.summary()"
   ]
  },
  {
   "cell_type": "markdown",
   "id": "ec4f175d",
   "metadata": {
    "id": "ec4f175d"
   },
   "source": [
    "- Notice that the number of trainable parameters has increased substantially as compared to previous models."
   ]
  },
  {
   "cell_type": "code",
   "execution_count": 44,
   "id": "685e0225",
   "metadata": {
    "colab": {
     "base_uri": "https://localhost:8080/"
    },
    "id": "685e0225",
    "outputId": "9f35dbc0-1c36-4af3-f737-2aa7c2fbf46d"
   },
   "outputs": [
    {
     "name": "stdout",
     "output_type": "stream",
     "text": [
      "Epoch 1/300\n",
      "29/29 - 1s - loss: 0.6395 - accuracy: 0.6415 - val_loss: 0.5441 - val_accuracy: 0.7476 - 970ms/epoch - 33ms/step\n",
      "Epoch 2/300\n",
      "29/29 - 0s - loss: 0.5217 - accuracy: 0.7711 - val_loss: 0.4395 - val_accuracy: 0.8738 - 121ms/epoch - 4ms/step\n",
      "Epoch 3/300\n",
      "29/29 - 0s - loss: 0.4308 - accuracy: 0.8348 - val_loss: 0.3784 - val_accuracy: 0.8641 - 126ms/epoch - 4ms/step\n",
      "Epoch 4/300\n",
      "29/29 - 0s - loss: 0.3540 - accuracy: 0.8650 - val_loss: 0.3462 - val_accuracy: 0.8641 - 105ms/epoch - 4ms/step\n",
      "Epoch 5/300\n",
      "29/29 - 0s - loss: 0.3244 - accuracy: 0.8866 - val_loss: 0.3339 - val_accuracy: 0.8835 - 106ms/epoch - 4ms/step\n",
      "Epoch 6/300\n",
      "29/29 - 0s - loss: 0.2859 - accuracy: 0.8898 - val_loss: 0.3204 - val_accuracy: 0.8738 - 108ms/epoch - 4ms/step\n",
      "Epoch 7/300\n",
      "29/29 - 0s - loss: 0.2809 - accuracy: 0.8920 - val_loss: 0.3244 - val_accuracy: 0.8932 - 108ms/epoch - 4ms/step\n",
      "Epoch 8/300\n",
      "29/29 - 0s - loss: 0.2682 - accuracy: 0.8974 - val_loss: 0.3323 - val_accuracy: 0.8835 - 128ms/epoch - 4ms/step\n",
      "Epoch 9/300\n",
      "29/29 - 0s - loss: 0.2517 - accuracy: 0.9082 - val_loss: 0.3526 - val_accuracy: 0.8738 - 111ms/epoch - 4ms/step\n",
      "Epoch 10/300\n",
      "29/29 - 0s - loss: 0.2453 - accuracy: 0.9082 - val_loss: 0.3324 - val_accuracy: 0.8932 - 115ms/epoch - 4ms/step\n",
      "Epoch 11/300\n",
      "29/29 - 0s - loss: 0.2288 - accuracy: 0.9093 - val_loss: 0.3334 - val_accuracy: 0.8932 - 131ms/epoch - 5ms/step\n",
      "Epoch 12/300\n",
      "29/29 - 0s - loss: 0.2362 - accuracy: 0.9093 - val_loss: 0.3436 - val_accuracy: 0.8641 - 134ms/epoch - 5ms/step\n",
      "Epoch 13/300\n",
      "29/29 - 0s - loss: 0.2179 - accuracy: 0.9114 - val_loss: 0.3243 - val_accuracy: 0.9029 - 106ms/epoch - 4ms/step\n",
      "Epoch 14/300\n",
      "29/29 - 0s - loss: 0.2236 - accuracy: 0.9212 - val_loss: 0.3596 - val_accuracy: 0.8544 - 108ms/epoch - 4ms/step\n",
      "Epoch 15/300\n",
      "29/29 - 0s - loss: 0.2197 - accuracy: 0.9136 - val_loss: 0.3441 - val_accuracy: 0.8738 - 103ms/epoch - 4ms/step\n",
      "Epoch 16/300\n",
      "29/29 - 0s - loss: 0.2029 - accuracy: 0.9136 - val_loss: 0.3511 - val_accuracy: 0.8835 - 113ms/epoch - 4ms/step\n",
      "Epoch 17/300\n",
      "29/29 - 0s - loss: 0.2002 - accuracy: 0.9287 - val_loss: 0.3547 - val_accuracy: 0.8835 - 116ms/epoch - 4ms/step\n",
      "Epoch 18/300\n",
      "29/29 - 0s - loss: 0.2022 - accuracy: 0.9222 - val_loss: 0.3417 - val_accuracy: 0.8835 - 121ms/epoch - 4ms/step\n",
      "Epoch 19/300\n",
      "29/29 - 0s - loss: 0.1923 - accuracy: 0.9266 - val_loss: 0.3510 - val_accuracy: 0.8641 - 126ms/epoch - 4ms/step\n",
      "Epoch 20/300\n",
      "29/29 - 0s - loss: 0.1978 - accuracy: 0.9266 - val_loss: 0.3712 - val_accuracy: 0.8738 - 115ms/epoch - 4ms/step\n",
      "Epoch 21/300\n",
      "29/29 - 0s - loss: 0.1862 - accuracy: 0.9276 - val_loss: 0.3464 - val_accuracy: 0.8738 - 107ms/epoch - 4ms/step\n",
      "Epoch 22/300\n",
      "29/29 - 0s - loss: 0.1956 - accuracy: 0.9255 - val_loss: 0.3405 - val_accuracy: 0.8932 - 102ms/epoch - 4ms/step\n",
      "Epoch 23/300\n",
      "29/29 - 0s - loss: 0.1789 - accuracy: 0.9320 - val_loss: 0.3691 - val_accuracy: 0.8738 - 103ms/epoch - 4ms/step\n",
      "Epoch 24/300\n",
      "29/29 - 0s - loss: 0.1608 - accuracy: 0.9482 - val_loss: 0.3506 - val_accuracy: 0.9029 - 110ms/epoch - 4ms/step\n",
      "Epoch 25/300\n",
      "29/29 - 0s - loss: 0.1625 - accuracy: 0.9384 - val_loss: 0.3594 - val_accuracy: 0.8738 - 115ms/epoch - 4ms/step\n",
      "Epoch 26/300\n",
      "29/29 - 0s - loss: 0.1570 - accuracy: 0.9363 - val_loss: 0.3545 - val_accuracy: 0.8932 - 120ms/epoch - 4ms/step\n",
      "Epoch 27/300\n",
      "29/29 - 0s - loss: 0.1609 - accuracy: 0.9428 - val_loss: 0.3487 - val_accuracy: 0.8738 - 122ms/epoch - 4ms/step\n",
      "Epoch 28/300\n",
      "29/29 - 0s - loss: 0.1526 - accuracy: 0.9536 - val_loss: 0.3755 - val_accuracy: 0.8932 - 105ms/epoch - 4ms/step\n",
      "Epoch 29/300\n",
      "29/29 - 0s - loss: 0.1478 - accuracy: 0.9438 - val_loss: 0.3569 - val_accuracy: 0.8641 - 115ms/epoch - 4ms/step\n",
      "Epoch 30/300\n",
      "29/29 - 0s - loss: 0.1430 - accuracy: 0.9525 - val_loss: 0.3586 - val_accuracy: 0.8835 - 107ms/epoch - 4ms/step\n",
      "Epoch 31/300\n",
      "29/29 - 0s - loss: 0.1296 - accuracy: 0.9557 - val_loss: 0.3620 - val_accuracy: 0.8932 - 117ms/epoch - 4ms/step\n",
      "Epoch 32/300\n",
      "29/29 - 0s - loss: 0.1289 - accuracy: 0.9600 - val_loss: 0.3756 - val_accuracy: 0.8835 - 104ms/epoch - 4ms/step\n",
      "Epoch 33/300\n",
      "29/29 - 0s - loss: 0.1280 - accuracy: 0.9568 - val_loss: 0.4035 - val_accuracy: 0.8641 - 110ms/epoch - 4ms/step\n",
      "Epoch 34/300\n",
      "29/29 - 0s - loss: 0.1196 - accuracy: 0.9568 - val_loss: 0.3722 - val_accuracy: 0.8835 - 109ms/epoch - 4ms/step\n",
      "Epoch 35/300\n",
      "29/29 - 0s - loss: 0.1123 - accuracy: 0.9687 - val_loss: 0.3888 - val_accuracy: 0.8738 - 106ms/epoch - 4ms/step\n",
      "Epoch 36/300\n",
      "29/29 - 0s - loss: 0.1087 - accuracy: 0.9633 - val_loss: 0.3656 - val_accuracy: 0.8641 - 108ms/epoch - 4ms/step\n",
      "Epoch 37/300\n",
      "29/29 - 0s - loss: 0.1125 - accuracy: 0.9622 - val_loss: 0.3748 - val_accuracy: 0.8641 - 106ms/epoch - 4ms/step\n",
      "Epoch 38/300\n",
      "29/29 - 0s - loss: 0.1033 - accuracy: 0.9687 - val_loss: 0.3642 - val_accuracy: 0.8835 - 133ms/epoch - 5ms/step\n",
      "Epoch 39/300\n",
      "29/29 - 0s - loss: 0.0978 - accuracy: 0.9654 - val_loss: 0.3654 - val_accuracy: 0.8835 - 141ms/epoch - 5ms/step\n",
      "Epoch 40/300\n",
      "29/29 - 0s - loss: 0.1061 - accuracy: 0.9633 - val_loss: 0.4007 - val_accuracy: 0.8641 - 118ms/epoch - 4ms/step\n",
      "Epoch 41/300\n",
      "29/29 - 0s - loss: 0.0949 - accuracy: 0.9730 - val_loss: 0.3996 - val_accuracy: 0.8544 - 123ms/epoch - 4ms/step\n",
      "Epoch 42/300\n",
      "29/29 - 0s - loss: 0.0993 - accuracy: 0.9654 - val_loss: 0.3983 - val_accuracy: 0.8738 - 109ms/epoch - 4ms/step\n",
      "Epoch 43/300\n",
      "29/29 - 0s - loss: 0.0927 - accuracy: 0.9687 - val_loss: 0.4138 - val_accuracy: 0.8835 - 116ms/epoch - 4ms/step\n",
      "Epoch 44/300\n",
      "29/29 - 0s - loss: 0.0824 - accuracy: 0.9698 - val_loss: 0.3877 - val_accuracy: 0.8738 - 130ms/epoch - 4ms/step\n",
      "Epoch 45/300\n",
      "29/29 - 0s - loss: 0.0817 - accuracy: 0.9773 - val_loss: 0.4218 - val_accuracy: 0.8641 - 115ms/epoch - 4ms/step\n",
      "Epoch 46/300\n",
      "29/29 - 0s - loss: 0.0747 - accuracy: 0.9795 - val_loss: 0.4072 - val_accuracy: 0.8447 - 136ms/epoch - 5ms/step\n",
      "Epoch 47/300\n",
      "29/29 - 0s - loss: 0.0750 - accuracy: 0.9784 - val_loss: 0.4706 - val_accuracy: 0.8641 - 125ms/epoch - 4ms/step\n",
      "Epoch 48/300\n",
      "29/29 - 0s - loss: 0.0742 - accuracy: 0.9730 - val_loss: 0.4279 - val_accuracy: 0.8641 - 111ms/epoch - 4ms/step\n",
      "Epoch 49/300\n",
      "29/29 - 0s - loss: 0.0703 - accuracy: 0.9784 - val_loss: 0.5263 - val_accuracy: 0.8447 - 127ms/epoch - 4ms/step\n",
      "Epoch 50/300\n",
      "29/29 - 0s - loss: 0.0625 - accuracy: 0.9849 - val_loss: 0.4328 - val_accuracy: 0.8641 - 108ms/epoch - 4ms/step\n",
      "Epoch 51/300\n",
      "29/29 - 0s - loss: 0.0679 - accuracy: 0.9762 - val_loss: 0.4370 - val_accuracy: 0.8544 - 120ms/epoch - 4ms/step\n",
      "Epoch 52/300\n",
      "29/29 - 0s - loss: 0.0654 - accuracy: 0.9816 - val_loss: 0.4149 - val_accuracy: 0.8544 - 115ms/epoch - 4ms/step\n",
      "Epoch 53/300\n",
      "29/29 - 0s - loss: 0.0577 - accuracy: 0.9784 - val_loss: 0.4723 - val_accuracy: 0.8447 - 128ms/epoch - 4ms/step\n",
      "Epoch 54/300\n",
      "29/29 - 0s - loss: 0.0591 - accuracy: 0.9806 - val_loss: 0.4640 - val_accuracy: 0.8544 - 117ms/epoch - 4ms/step\n",
      "Epoch 55/300\n",
      "29/29 - 0s - loss: 0.0492 - accuracy: 0.9870 - val_loss: 0.4620 - val_accuracy: 0.8544 - 107ms/epoch - 4ms/step\n",
      "Epoch 56/300\n",
      "29/29 - 0s - loss: 0.0548 - accuracy: 0.9784 - val_loss: 0.4448 - val_accuracy: 0.8738 - 110ms/epoch - 4ms/step\n",
      "Epoch 57/300\n",
      "29/29 - 0s - loss: 0.0573 - accuracy: 0.9795 - val_loss: 0.4657 - val_accuracy: 0.8641 - 119ms/epoch - 4ms/step\n",
      "Epoch 58/300\n",
      "29/29 - 0s - loss: 0.0421 - accuracy: 0.9914 - val_loss: 0.4822 - val_accuracy: 0.8641 - 122ms/epoch - 4ms/step\n",
      "Epoch 59/300\n",
      "29/29 - 0s - loss: 0.0554 - accuracy: 0.9816 - val_loss: 0.4083 - val_accuracy: 0.8641 - 129ms/epoch - 4ms/step\n",
      "Epoch 60/300\n",
      "29/29 - 0s - loss: 0.0548 - accuracy: 0.9816 - val_loss: 0.4837 - val_accuracy: 0.8544 - 134ms/epoch - 5ms/step\n",
      "Epoch 61/300\n",
      "29/29 - 0s - loss: 0.0468 - accuracy: 0.9849 - val_loss: 0.4438 - val_accuracy: 0.8544 - 109ms/epoch - 4ms/step\n",
      "Epoch 62/300\n",
      "29/29 - 0s - loss: 0.0475 - accuracy: 0.9838 - val_loss: 0.4337 - val_accuracy: 0.8544 - 133ms/epoch - 5ms/step\n",
      "Epoch 63/300\n",
      "29/29 - 0s - loss: 0.0377 - accuracy: 0.9903 - val_loss: 0.4956 - val_accuracy: 0.8544 - 109ms/epoch - 4ms/step\n",
      "Epoch 64/300\n",
      "29/29 - 0s - loss: 0.0417 - accuracy: 0.9860 - val_loss: 0.4755 - val_accuracy: 0.8544 - 110ms/epoch - 4ms/step\n",
      "Epoch 65/300\n",
      "29/29 - 0s - loss: 0.0352 - accuracy: 0.9924 - val_loss: 0.4915 - val_accuracy: 0.8447 - 107ms/epoch - 4ms/step\n",
      "Epoch 66/300\n",
      "29/29 - 0s - loss: 0.0314 - accuracy: 0.9946 - val_loss: 0.4920 - val_accuracy: 0.8544 - 106ms/epoch - 4ms/step\n",
      "Epoch 67/300\n",
      "29/29 - 0s - loss: 0.0328 - accuracy: 0.9914 - val_loss: 0.5705 - val_accuracy: 0.8544 - 113ms/epoch - 4ms/step\n",
      "Epoch 68/300\n",
      "29/29 - 0s - loss: 0.0350 - accuracy: 0.9903 - val_loss: 0.4754 - val_accuracy: 0.8544 - 116ms/epoch - 4ms/step\n",
      "Epoch 69/300\n",
      "29/29 - 0s - loss: 0.0345 - accuracy: 0.9914 - val_loss: 0.5180 - val_accuracy: 0.8641 - 115ms/epoch - 4ms/step\n",
      "Epoch 70/300\n",
      "29/29 - 0s - loss: 0.0302 - accuracy: 0.9914 - val_loss: 0.5238 - val_accuracy: 0.8350 - 116ms/epoch - 4ms/step\n",
      "Epoch 71/300\n",
      "29/29 - 0s - loss: 0.0337 - accuracy: 0.9903 - val_loss: 0.5007 - val_accuracy: 0.8641 - 119ms/epoch - 4ms/step\n",
      "Epoch 72/300\n",
      "29/29 - 0s - loss: 0.0296 - accuracy: 0.9924 - val_loss: 0.5315 - val_accuracy: 0.8641 - 108ms/epoch - 4ms/step\n",
      "Epoch 73/300\n",
      "29/29 - 0s - loss: 0.0295 - accuracy: 0.9924 - val_loss: 0.5361 - val_accuracy: 0.8544 - 118ms/epoch - 4ms/step\n",
      "Epoch 74/300\n",
      "29/29 - 0s - loss: 0.0253 - accuracy: 0.9914 - val_loss: 0.5165 - val_accuracy: 0.8641 - 114ms/epoch - 4ms/step\n",
      "Epoch 75/300\n",
      "29/29 - 0s - loss: 0.0281 - accuracy: 0.9935 - val_loss: 0.5046 - val_accuracy: 0.8544 - 124ms/epoch - 4ms/step\n",
      "Epoch 76/300\n",
      "29/29 - 0s - loss: 0.0231 - accuracy: 0.9957 - val_loss: 0.5682 - val_accuracy: 0.8641 - 107ms/epoch - 4ms/step\n",
      "Epoch 77/300\n",
      "29/29 - 0s - loss: 0.0262 - accuracy: 0.9924 - val_loss: 0.4974 - val_accuracy: 0.8738 - 114ms/epoch - 4ms/step\n",
      "Epoch 78/300\n",
      "29/29 - 0s - loss: 0.0304 - accuracy: 0.9903 - val_loss: 0.6512 - val_accuracy: 0.8544 - 122ms/epoch - 4ms/step\n",
      "Epoch 79/300\n",
      "29/29 - 0s - loss: 0.0228 - accuracy: 0.9935 - val_loss: 0.5647 - val_accuracy: 0.8641 - 118ms/epoch - 4ms/step\n",
      "Epoch 80/300\n",
      "29/29 - 0s - loss: 0.0246 - accuracy: 0.9957 - val_loss: 0.5243 - val_accuracy: 0.8447 - 107ms/epoch - 4ms/step\n",
      "Epoch 81/300\n",
      "29/29 - 0s - loss: 0.0182 - accuracy: 0.9978 - val_loss: 0.5658 - val_accuracy: 0.8544 - 114ms/epoch - 4ms/step\n",
      "Epoch 82/300\n",
      "29/29 - 0s - loss: 0.0238 - accuracy: 0.9924 - val_loss: 0.5425 - val_accuracy: 0.8544 - 112ms/epoch - 4ms/step\n",
      "Epoch 83/300\n",
      "29/29 - 0s - loss: 0.0204 - accuracy: 0.9946 - val_loss: 0.6099 - val_accuracy: 0.8641 - 116ms/epoch - 4ms/step\n",
      "Epoch 84/300\n",
      "29/29 - 0s - loss: 0.0335 - accuracy: 0.9860 - val_loss: 0.6885 - val_accuracy: 0.8447 - 113ms/epoch - 4ms/step\n",
      "Epoch 85/300\n",
      "29/29 - 0s - loss: 0.0179 - accuracy: 0.9946 - val_loss: 0.5635 - val_accuracy: 0.8835 - 110ms/epoch - 4ms/step\n",
      "Epoch 86/300\n",
      "29/29 - 0s - loss: 0.0247 - accuracy: 0.9924 - val_loss: 0.6206 - val_accuracy: 0.8544 - 114ms/epoch - 4ms/step\n",
      "Epoch 87/300\n",
      "29/29 - 0s - loss: 0.0230 - accuracy: 0.9924 - val_loss: 0.5285 - val_accuracy: 0.8738 - 109ms/epoch - 4ms/step\n",
      "Epoch 88/300\n",
      "29/29 - 0s - loss: 0.0245 - accuracy: 0.9924 - val_loss: 0.5152 - val_accuracy: 0.8835 - 141ms/epoch - 5ms/step\n",
      "Epoch 89/300\n",
      "29/29 - 0s - loss: 0.0246 - accuracy: 0.9924 - val_loss: 0.5208 - val_accuracy: 0.8641 - 129ms/epoch - 4ms/step\n",
      "Epoch 90/300\n",
      "29/29 - 0s - loss: 0.0173 - accuracy: 0.9946 - val_loss: 0.6111 - val_accuracy: 0.8738 - 127ms/epoch - 4ms/step\n",
      "Epoch 91/300\n",
      "29/29 - 0s - loss: 0.0200 - accuracy: 0.9935 - val_loss: 0.5702 - val_accuracy: 0.8641 - 108ms/epoch - 4ms/step\n",
      "Epoch 92/300\n",
      "29/29 - 0s - loss: 0.0203 - accuracy: 0.9924 - val_loss: 0.5666 - val_accuracy: 0.8738 - 112ms/epoch - 4ms/step\n",
      "Epoch 93/300\n",
      "29/29 - 0s - loss: 0.0211 - accuracy: 0.9924 - val_loss: 0.5486 - val_accuracy: 0.8544 - 125ms/epoch - 4ms/step\n",
      "Epoch 94/300\n",
      "29/29 - 0s - loss: 0.0197 - accuracy: 0.9946 - val_loss: 0.4855 - val_accuracy: 0.8544 - 127ms/epoch - 4ms/step\n",
      "Epoch 95/300\n",
      "29/29 - 0s - loss: 0.0131 - accuracy: 0.9946 - val_loss: 0.6232 - val_accuracy: 0.8641 - 117ms/epoch - 4ms/step\n",
      "Epoch 96/300\n",
      "29/29 - 0s - loss: 0.0184 - accuracy: 0.9946 - val_loss: 0.5410 - val_accuracy: 0.8738 - 147ms/epoch - 5ms/step\n",
      "Epoch 97/300\n",
      "29/29 - 0s - loss: 0.0133 - accuracy: 0.9968 - val_loss: 0.6250 - val_accuracy: 0.8544 - 120ms/epoch - 4ms/step\n",
      "Epoch 98/300\n",
      "29/29 - 0s - loss: 0.0159 - accuracy: 0.9914 - val_loss: 0.6327 - val_accuracy: 0.8447 - 109ms/epoch - 4ms/step\n",
      "Epoch 99/300\n",
      "29/29 - 0s - loss: 0.0129 - accuracy: 0.9957 - val_loss: 0.6476 - val_accuracy: 0.8544 - 123ms/epoch - 4ms/step\n",
      "Epoch 100/300\n",
      "29/29 - 0s - loss: 0.0170 - accuracy: 0.9957 - val_loss: 0.5573 - val_accuracy: 0.8544 - 111ms/epoch - 4ms/step\n",
      "Epoch 101/300\n",
      "29/29 - 0s - loss: 0.0189 - accuracy: 0.9903 - val_loss: 0.6155 - val_accuracy: 0.8447 - 120ms/epoch - 4ms/step\n",
      "Epoch 102/300\n",
      "29/29 - 0s - loss: 0.0155 - accuracy: 0.9935 - val_loss: 0.7366 - val_accuracy: 0.8544 - 126ms/epoch - 4ms/step\n",
      "Epoch 103/300\n",
      "29/29 - 0s - loss: 0.0158 - accuracy: 0.9946 - val_loss: 0.6996 - val_accuracy: 0.8350 - 115ms/epoch - 4ms/step\n",
      "Epoch 104/300\n",
      "29/29 - 0s - loss: 0.0182 - accuracy: 0.9935 - val_loss: 0.6340 - val_accuracy: 0.8447 - 120ms/epoch - 4ms/step\n",
      "Epoch 105/300\n",
      "29/29 - 0s - loss: 0.0104 - accuracy: 0.9989 - val_loss: 0.6791 - val_accuracy: 0.8544 - 108ms/epoch - 4ms/step\n",
      "Epoch 106/300\n",
      "29/29 - 0s - loss: 0.0073 - accuracy: 1.0000 - val_loss: 0.6282 - val_accuracy: 0.8641 - 120ms/epoch - 4ms/step\n",
      "Epoch 107/300\n",
      "29/29 - 0s - loss: 0.0132 - accuracy: 0.9968 - val_loss: 0.6184 - val_accuracy: 0.8641 - 102ms/epoch - 4ms/step\n",
      "Epoch 108/300\n",
      "29/29 - 0s - loss: 0.0158 - accuracy: 0.9946 - val_loss: 0.7497 - val_accuracy: 0.8544 - 106ms/epoch - 4ms/step\n",
      "Epoch 109/300\n",
      "29/29 - 0s - loss: 0.0109 - accuracy: 0.9978 - val_loss: 0.7055 - val_accuracy: 0.8447 - 129ms/epoch - 4ms/step\n",
      "Epoch 110/300\n",
      "29/29 - 0s - loss: 0.0098 - accuracy: 0.9978 - val_loss: 0.6216 - val_accuracy: 0.8447 - 119ms/epoch - 4ms/step\n",
      "Epoch 111/300\n",
      "29/29 - 0s - loss: 0.0113 - accuracy: 0.9968 - val_loss: 0.6347 - val_accuracy: 0.8544 - 120ms/epoch - 4ms/step\n",
      "Epoch 112/300\n",
      "29/29 - 0s - loss: 0.0157 - accuracy: 0.9946 - val_loss: 0.7715 - val_accuracy: 0.8544 - 117ms/epoch - 4ms/step\n",
      "Epoch 113/300\n",
      "29/29 - 0s - loss: 0.0184 - accuracy: 0.9946 - val_loss: 0.6150 - val_accuracy: 0.8641 - 105ms/epoch - 4ms/step\n",
      "Epoch 114/300\n",
      "29/29 - 0s - loss: 0.0165 - accuracy: 0.9924 - val_loss: 0.6474 - val_accuracy: 0.8544 - 119ms/epoch - 4ms/step\n",
      "Epoch 115/300\n",
      "29/29 - 0s - loss: 0.0123 - accuracy: 0.9946 - val_loss: 0.6747 - val_accuracy: 0.8544 - 104ms/epoch - 4ms/step\n",
      "Epoch 116/300\n",
      "29/29 - 0s - loss: 0.0127 - accuracy: 0.9957 - val_loss: 0.7684 - val_accuracy: 0.8350 - 118ms/epoch - 4ms/step\n",
      "Epoch 117/300\n",
      "29/29 - 0s - loss: 0.0077 - accuracy: 0.9989 - val_loss: 0.7216 - val_accuracy: 0.8447 - 110ms/epoch - 4ms/step\n",
      "Epoch 118/300\n",
      "29/29 - 0s - loss: 0.0076 - accuracy: 0.9978 - val_loss: 0.6915 - val_accuracy: 0.8447 - 108ms/epoch - 4ms/step\n",
      "Epoch 119/300\n",
      "29/29 - 0s - loss: 0.0102 - accuracy: 0.9968 - val_loss: 0.7167 - val_accuracy: 0.8544 - 113ms/epoch - 4ms/step\n",
      "Epoch 120/300\n",
      "29/29 - 0s - loss: 0.0092 - accuracy: 0.9968 - val_loss: 0.6706 - val_accuracy: 0.8835 - 108ms/epoch - 4ms/step\n",
      "Epoch 121/300\n",
      "29/29 - 0s - loss: 0.0141 - accuracy: 0.9935 - val_loss: 0.6980 - val_accuracy: 0.8738 - 121ms/epoch - 4ms/step\n",
      "Epoch 122/300\n",
      "29/29 - 0s - loss: 0.0090 - accuracy: 0.9957 - val_loss: 0.6540 - val_accuracy: 0.8641 - 106ms/epoch - 4ms/step\n",
      "Epoch 123/300\n",
      "29/29 - 0s - loss: 0.0049 - accuracy: 1.0000 - val_loss: 0.6595 - val_accuracy: 0.8544 - 119ms/epoch - 4ms/step\n",
      "Epoch 124/300\n",
      "29/29 - 0s - loss: 0.0080 - accuracy: 0.9978 - val_loss: 0.5950 - val_accuracy: 0.8738 - 115ms/epoch - 4ms/step\n",
      "Epoch 125/300\n",
      "29/29 - 0s - loss: 0.0177 - accuracy: 0.9924 - val_loss: 0.7114 - val_accuracy: 0.8544 - 117ms/epoch - 4ms/step\n",
      "Epoch 126/300\n",
      "29/29 - 0s - loss: 0.0115 - accuracy: 0.9978 - val_loss: 0.7773 - val_accuracy: 0.8738 - 114ms/epoch - 4ms/step\n",
      "Epoch 127/300\n",
      "29/29 - 0s - loss: 0.0077 - accuracy: 0.9989 - val_loss: 0.6821 - val_accuracy: 0.8641 - 113ms/epoch - 4ms/step\n",
      "Epoch 128/300\n",
      "29/29 - 0s - loss: 0.0127 - accuracy: 0.9978 - val_loss: 0.8469 - val_accuracy: 0.8641 - 129ms/epoch - 4ms/step\n",
      "Epoch 129/300\n",
      "29/29 - 0s - loss: 0.0076 - accuracy: 0.9989 - val_loss: 0.6300 - val_accuracy: 0.8641 - 112ms/epoch - 4ms/step\n",
      "Epoch 130/300\n",
      "29/29 - 0s - loss: 0.0049 - accuracy: 0.9978 - val_loss: 0.6717 - val_accuracy: 0.8641 - 142ms/epoch - 5ms/step\n",
      "Epoch 131/300\n",
      "29/29 - 0s - loss: 0.0101 - accuracy: 0.9946 - val_loss: 0.7851 - val_accuracy: 0.8544 - 106ms/epoch - 4ms/step\n",
      "Epoch 132/300\n",
      "29/29 - 0s - loss: 0.0114 - accuracy: 0.9946 - val_loss: 0.7330 - val_accuracy: 0.8544 - 120ms/epoch - 4ms/step\n",
      "Epoch 133/300\n",
      "29/29 - 0s - loss: 0.0052 - accuracy: 1.0000 - val_loss: 0.7632 - val_accuracy: 0.8544 - 125ms/epoch - 4ms/step\n",
      "Epoch 134/300\n",
      "29/29 - 0s - loss: 0.0093 - accuracy: 0.9968 - val_loss: 0.7394 - val_accuracy: 0.8641 - 131ms/epoch - 5ms/step\n",
      "Epoch 135/300\n",
      "29/29 - 0s - loss: 0.0060 - accuracy: 0.9978 - val_loss: 0.8031 - val_accuracy: 0.8350 - 110ms/epoch - 4ms/step\n",
      "Epoch 136/300\n",
      "29/29 - 0s - loss: 0.0079 - accuracy: 0.9968 - val_loss: 0.7015 - val_accuracy: 0.8544 - 121ms/epoch - 4ms/step\n",
      "Epoch 137/300\n",
      "29/29 - 0s - loss: 0.0084 - accuracy: 0.9968 - val_loss: 0.7895 - val_accuracy: 0.8447 - 109ms/epoch - 4ms/step\n",
      "Epoch 138/300\n",
      "29/29 - 0s - loss: 0.0135 - accuracy: 0.9914 - val_loss: 0.9419 - val_accuracy: 0.8252 - 111ms/epoch - 4ms/step\n",
      "Epoch 139/300\n",
      "29/29 - 0s - loss: 0.0136 - accuracy: 0.9946 - val_loss: 0.7600 - val_accuracy: 0.8641 - 104ms/epoch - 4ms/step\n",
      "Epoch 140/300\n",
      "29/29 - 0s - loss: 0.0129 - accuracy: 0.9957 - val_loss: 0.7367 - val_accuracy: 0.8641 - 108ms/epoch - 4ms/step\n",
      "Epoch 141/300\n",
      "29/29 - 0s - loss: 0.0094 - accuracy: 0.9968 - val_loss: 0.6862 - val_accuracy: 0.8641 - 112ms/epoch - 4ms/step\n",
      "Epoch 142/300\n",
      "29/29 - 0s - loss: 0.0145 - accuracy: 0.9968 - val_loss: 0.6536 - val_accuracy: 0.8641 - 121ms/epoch - 4ms/step\n",
      "Epoch 143/300\n",
      "29/29 - 0s - loss: 0.0085 - accuracy: 0.9989 - val_loss: 0.6610 - val_accuracy: 0.8641 - 120ms/epoch - 4ms/step\n",
      "Epoch 144/300\n",
      "29/29 - 0s - loss: 0.0049 - accuracy: 0.9989 - val_loss: 0.7126 - val_accuracy: 0.8544 - 103ms/epoch - 4ms/step\n",
      "Epoch 145/300\n",
      "29/29 - 0s - loss: 0.0123 - accuracy: 0.9935 - val_loss: 0.5856 - val_accuracy: 0.8738 - 124ms/epoch - 4ms/step\n",
      "Epoch 146/300\n",
      "29/29 - 0s - loss: 0.0065 - accuracy: 0.9989 - val_loss: 0.6945 - val_accuracy: 0.8835 - 117ms/epoch - 4ms/step\n",
      "Epoch 147/300\n",
      "29/29 - 0s - loss: 0.0040 - accuracy: 0.9989 - val_loss: 0.6949 - val_accuracy: 0.8544 - 153ms/epoch - 5ms/step\n",
      "Epoch 148/300\n",
      "29/29 - 0s - loss: 0.0087 - accuracy: 0.9957 - val_loss: 0.7017 - val_accuracy: 0.8738 - 109ms/epoch - 4ms/step\n",
      "Epoch 149/300\n",
      "29/29 - 0s - loss: 0.0099 - accuracy: 0.9957 - val_loss: 0.7411 - val_accuracy: 0.8738 - 116ms/epoch - 4ms/step\n",
      "Epoch 150/300\n",
      "29/29 - 0s - loss: 0.0042 - accuracy: 1.0000 - val_loss: 0.8012 - val_accuracy: 0.8544 - 112ms/epoch - 4ms/step\n",
      "Epoch 151/300\n",
      "29/29 - 0s - loss: 0.0077 - accuracy: 0.9946 - val_loss: 0.8485 - val_accuracy: 0.8641 - 109ms/epoch - 4ms/step\n",
      "Epoch 152/300\n",
      "29/29 - 0s - loss: 0.0070 - accuracy: 0.9968 - val_loss: 0.7169 - val_accuracy: 0.8738 - 133ms/epoch - 5ms/step\n",
      "Epoch 153/300\n",
      "29/29 - 0s - loss: 0.0049 - accuracy: 0.9989 - val_loss: 0.6616 - val_accuracy: 0.8835 - 113ms/epoch - 4ms/step\n",
      "Epoch 154/300\n",
      "29/29 - 0s - loss: 0.0019 - accuracy: 1.0000 - val_loss: 0.6551 - val_accuracy: 0.8738 - 121ms/epoch - 4ms/step\n",
      "Epoch 155/300\n",
      "29/29 - 0s - loss: 0.0067 - accuracy: 0.9978 - val_loss: 0.6308 - val_accuracy: 0.8835 - 109ms/epoch - 4ms/step\n",
      "Epoch 156/300\n",
      "29/29 - 0s - loss: 0.0034 - accuracy: 1.0000 - val_loss: 0.7087 - val_accuracy: 0.8738 - 114ms/epoch - 4ms/step\n",
      "Epoch 157/300\n",
      "29/29 - 0s - loss: 0.0026 - accuracy: 1.0000 - val_loss: 0.7451 - val_accuracy: 0.8738 - 116ms/epoch - 4ms/step\n",
      "Epoch 158/300\n",
      "29/29 - 0s - loss: 0.0047 - accuracy: 0.9989 - val_loss: 0.7292 - val_accuracy: 0.8738 - 128ms/epoch - 4ms/step\n",
      "Epoch 159/300\n",
      "29/29 - 0s - loss: 0.0038 - accuracy: 0.9989 - val_loss: 0.7474 - val_accuracy: 0.8738 - 108ms/epoch - 4ms/step\n",
      "Epoch 160/300\n",
      "29/29 - 0s - loss: 0.0051 - accuracy: 0.9968 - val_loss: 0.7128 - val_accuracy: 0.8738 - 109ms/epoch - 4ms/step\n",
      "Epoch 161/300\n",
      "29/29 - 0s - loss: 0.0051 - accuracy: 0.9989 - val_loss: 0.7458 - val_accuracy: 0.8738 - 110ms/epoch - 4ms/step\n",
      "Epoch 162/300\n",
      "29/29 - 0s - loss: 0.0084 - accuracy: 0.9968 - val_loss: 0.8660 - val_accuracy: 0.8641 - 127ms/epoch - 4ms/step\n",
      "Epoch 163/300\n",
      "29/29 - 0s - loss: 0.0061 - accuracy: 0.9989 - val_loss: 0.6898 - val_accuracy: 0.8447 - 122ms/epoch - 4ms/step\n",
      "Epoch 164/300\n",
      "29/29 - 0s - loss: 0.0087 - accuracy: 0.9968 - val_loss: 0.8541 - val_accuracy: 0.8447 - 115ms/epoch - 4ms/step\n",
      "Epoch 165/300\n",
      "29/29 - 0s - loss: 0.0019 - accuracy: 1.0000 - val_loss: 0.8254 - val_accuracy: 0.8544 - 116ms/epoch - 4ms/step\n",
      "Epoch 166/300\n",
      "29/29 - 0s - loss: 0.0046 - accuracy: 0.9989 - val_loss: 0.8197 - val_accuracy: 0.8447 - 128ms/epoch - 4ms/step\n",
      "Epoch 167/300\n",
      "29/29 - 0s - loss: 0.0030 - accuracy: 0.9989 - val_loss: 0.8324 - val_accuracy: 0.8641 - 116ms/epoch - 4ms/step\n",
      "Epoch 168/300\n",
      "29/29 - 0s - loss: 0.0042 - accuracy: 0.9989 - val_loss: 0.8186 - val_accuracy: 0.8641 - 126ms/epoch - 4ms/step\n",
      "Epoch 169/300\n",
      "29/29 - 0s - loss: 0.0018 - accuracy: 1.0000 - val_loss: 0.7762 - val_accuracy: 0.8641 - 108ms/epoch - 4ms/step\n",
      "Epoch 170/300\n",
      "29/29 - 0s - loss: 0.0023 - accuracy: 0.9989 - val_loss: 0.8149 - val_accuracy: 0.8641 - 110ms/epoch - 4ms/step\n",
      "Epoch 171/300\n",
      "29/29 - 0s - loss: 0.0073 - accuracy: 0.9968 - val_loss: 0.8566 - val_accuracy: 0.8447 - 123ms/epoch - 4ms/step\n",
      "Epoch 172/300\n",
      "29/29 - 0s - loss: 0.0047 - accuracy: 0.9978 - val_loss: 0.9630 - val_accuracy: 0.8447 - 116ms/epoch - 4ms/step\n",
      "Epoch 173/300\n",
      "29/29 - 0s - loss: 0.0049 - accuracy: 0.9978 - val_loss: 0.8198 - val_accuracy: 0.8641 - 116ms/epoch - 4ms/step\n",
      "Epoch 174/300\n",
      "29/29 - 0s - loss: 0.0052 - accuracy: 0.9978 - val_loss: 0.8585 - val_accuracy: 0.8641 - 126ms/epoch - 4ms/step\n",
      "Epoch 175/300\n",
      "29/29 - 0s - loss: 0.0020 - accuracy: 1.0000 - val_loss: 0.8253 - val_accuracy: 0.8544 - 137ms/epoch - 5ms/step\n",
      "Epoch 176/300\n",
      "29/29 - 0s - loss: 0.0031 - accuracy: 0.9989 - val_loss: 0.7128 - val_accuracy: 0.8738 - 111ms/epoch - 4ms/step\n",
      "Epoch 177/300\n",
      "29/29 - 0s - loss: 0.0042 - accuracy: 0.9989 - val_loss: 0.6621 - val_accuracy: 0.8835 - 117ms/epoch - 4ms/step\n",
      "Epoch 178/300\n",
      "29/29 - 0s - loss: 0.0030 - accuracy: 0.9989 - val_loss: 0.6744 - val_accuracy: 0.8641 - 127ms/epoch - 4ms/step\n",
      "Epoch 179/300\n",
      "29/29 - 0s - loss: 0.0081 - accuracy: 0.9989 - val_loss: 0.7054 - val_accuracy: 0.8447 - 124ms/epoch - 4ms/step\n",
      "Epoch 180/300\n",
      "29/29 - 0s - loss: 0.0038 - accuracy: 0.9989 - val_loss: 0.8352 - val_accuracy: 0.8350 - 114ms/epoch - 4ms/step\n",
      "Epoch 181/300\n",
      "29/29 - 0s - loss: 0.0015 - accuracy: 1.0000 - val_loss: 0.8239 - val_accuracy: 0.8350 - 109ms/epoch - 4ms/step\n",
      "Epoch 182/300\n",
      "29/29 - 0s - loss: 0.0017 - accuracy: 1.0000 - val_loss: 0.8401 - val_accuracy: 0.8350 - 107ms/epoch - 4ms/step\n",
      "Epoch 183/300\n",
      "29/29 - 0s - loss: 0.0012 - accuracy: 1.0000 - val_loss: 0.8158 - val_accuracy: 0.8447 - 127ms/epoch - 4ms/step\n",
      "Epoch 184/300\n",
      "29/29 - 0s - loss: 0.0015 - accuracy: 1.0000 - val_loss: 0.8090 - val_accuracy: 0.8447 - 106ms/epoch - 4ms/step\n",
      "Epoch 185/300\n",
      "29/29 - 0s - loss: 0.0014 - accuracy: 1.0000 - val_loss: 0.8231 - val_accuracy: 0.8544 - 122ms/epoch - 4ms/step\n",
      "Epoch 186/300\n",
      "29/29 - 0s - loss: 0.0013 - accuracy: 1.0000 - val_loss: 0.8271 - val_accuracy: 0.8641 - 108ms/epoch - 4ms/step\n",
      "Epoch 187/300\n",
      "29/29 - 0s - loss: 0.0051 - accuracy: 0.9989 - val_loss: 0.8565 - val_accuracy: 0.8641 - 122ms/epoch - 4ms/step\n",
      "Epoch 188/300\n",
      "29/29 - 0s - loss: 0.0025 - accuracy: 1.0000 - val_loss: 0.8087 - val_accuracy: 0.8447 - 113ms/epoch - 4ms/step\n",
      "Epoch 189/300\n",
      "29/29 - 0s - loss: 0.0045 - accuracy: 0.9978 - val_loss: 0.7749 - val_accuracy: 0.8641 - 122ms/epoch - 4ms/step\n",
      "Epoch 190/300\n",
      "29/29 - 0s - loss: 0.0031 - accuracy: 0.9989 - val_loss: 0.7966 - val_accuracy: 0.8738 - 120ms/epoch - 4ms/step\n",
      "Epoch 191/300\n",
      "29/29 - 0s - loss: 0.0047 - accuracy: 0.9989 - val_loss: 0.8495 - val_accuracy: 0.8641 - 109ms/epoch - 4ms/step\n",
      "Epoch 192/300\n",
      "29/29 - 0s - loss: 0.0050 - accuracy: 0.9978 - val_loss: 0.8070 - val_accuracy: 0.8835 - 108ms/epoch - 4ms/step\n",
      "Epoch 193/300\n",
      "29/29 - 0s - loss: 0.0111 - accuracy: 0.9946 - val_loss: 0.7606 - val_accuracy: 0.8544 - 104ms/epoch - 4ms/step\n",
      "Epoch 194/300\n",
      "29/29 - 0s - loss: 0.0032 - accuracy: 0.9989 - val_loss: 0.7371 - val_accuracy: 0.8641 - 110ms/epoch - 4ms/step\n",
      "Epoch 195/300\n",
      "29/29 - 0s - loss: 0.0053 - accuracy: 0.9978 - val_loss: 0.8468 - val_accuracy: 0.8252 - 106ms/epoch - 4ms/step\n",
      "Epoch 196/300\n",
      "29/29 - 0s - loss: 0.0093 - accuracy: 0.9968 - val_loss: 0.8637 - val_accuracy: 0.8447 - 130ms/epoch - 4ms/step\n",
      "Epoch 197/300\n",
      "29/29 - 0s - loss: 0.0076 - accuracy: 0.9968 - val_loss: 0.8446 - val_accuracy: 0.8835 - 111ms/epoch - 4ms/step\n",
      "Epoch 198/300\n",
      "29/29 - 0s - loss: 0.0026 - accuracy: 1.0000 - val_loss: 0.8474 - val_accuracy: 0.8641 - 112ms/epoch - 4ms/step\n",
      "Epoch 199/300\n",
      "29/29 - 0s - loss: 9.1307e-04 - accuracy: 1.0000 - val_loss: 0.8584 - val_accuracy: 0.8544 - 119ms/epoch - 4ms/step\n",
      "Epoch 200/300\n",
      "29/29 - 0s - loss: 0.0056 - accuracy: 0.9978 - val_loss: 1.0158 - val_accuracy: 0.8641 - 112ms/epoch - 4ms/step\n",
      "Epoch 201/300\n",
      "29/29 - 0s - loss: 0.0140 - accuracy: 0.9935 - val_loss: 0.7832 - val_accuracy: 0.8738 - 128ms/epoch - 4ms/step\n",
      "Epoch 202/300\n",
      "29/29 - 0s - loss: 0.0053 - accuracy: 0.9978 - val_loss: 0.7996 - val_accuracy: 0.8932 - 105ms/epoch - 4ms/step\n",
      "Epoch 203/300\n",
      "29/29 - 0s - loss: 0.0134 - accuracy: 0.9946 - val_loss: 0.6728 - val_accuracy: 0.8738 - 121ms/epoch - 4ms/step\n",
      "Epoch 204/300\n",
      "29/29 - 0s - loss: 0.0207 - accuracy: 0.9903 - val_loss: 0.9153 - val_accuracy: 0.8447 - 120ms/epoch - 4ms/step\n",
      "Epoch 205/300\n",
      "29/29 - 0s - loss: 0.0102 - accuracy: 0.9968 - val_loss: 0.9561 - val_accuracy: 0.8544 - 134ms/epoch - 5ms/step\n",
      "Epoch 206/300\n",
      "29/29 - 0s - loss: 0.0047 - accuracy: 0.9989 - val_loss: 0.9638 - val_accuracy: 0.8350 - 112ms/epoch - 4ms/step\n",
      "Epoch 207/300\n",
      "29/29 - 0s - loss: 0.0021 - accuracy: 0.9989 - val_loss: 0.9247 - val_accuracy: 0.8350 - 112ms/epoch - 4ms/step\n",
      "Epoch 208/300\n",
      "29/29 - 0s - loss: 0.0039 - accuracy: 0.9978 - val_loss: 0.7352 - val_accuracy: 0.8447 - 121ms/epoch - 4ms/step\n",
      "Epoch 209/300\n",
      "29/29 - 0s - loss: 0.0024 - accuracy: 0.9989 - val_loss: 0.7689 - val_accuracy: 0.8641 - 125ms/epoch - 4ms/step\n",
      "Epoch 210/300\n",
      "29/29 - 0s - loss: 0.0062 - accuracy: 0.9989 - val_loss: 0.7690 - val_accuracy: 0.8544 - 107ms/epoch - 4ms/step\n",
      "Epoch 211/300\n",
      "29/29 - 0s - loss: 0.0017 - accuracy: 1.0000 - val_loss: 0.6890 - val_accuracy: 0.8641 - 108ms/epoch - 4ms/step\n",
      "Epoch 212/300\n",
      "29/29 - 0s - loss: 0.0012 - accuracy: 1.0000 - val_loss: 0.6470 - val_accuracy: 0.8641 - 105ms/epoch - 4ms/step\n",
      "Epoch 213/300\n",
      "29/29 - 0s - loss: 0.0028 - accuracy: 0.9989 - val_loss: 0.6995 - val_accuracy: 0.8835 - 118ms/epoch - 4ms/step\n",
      "Epoch 214/300\n",
      "29/29 - 0s - loss: 0.0117 - accuracy: 0.9957 - val_loss: 0.7801 - val_accuracy: 0.8738 - 122ms/epoch - 4ms/step\n",
      "Epoch 215/300\n",
      "29/29 - 0s - loss: 0.0077 - accuracy: 0.9989 - val_loss: 0.9475 - val_accuracy: 0.8544 - 123ms/epoch - 4ms/step\n",
      "Epoch 216/300\n",
      "29/29 - 0s - loss: 0.0018 - accuracy: 1.0000 - val_loss: 0.9207 - val_accuracy: 0.8447 - 114ms/epoch - 4ms/step\n",
      "Epoch 217/300\n",
      "29/29 - 0s - loss: 0.0048 - accuracy: 0.9978 - val_loss: 0.8338 - val_accuracy: 0.8641 - 104ms/epoch - 4ms/step\n",
      "Epoch 218/300\n",
      "29/29 - 0s - loss: 0.0018 - accuracy: 1.0000 - val_loss: 0.7879 - val_accuracy: 0.8641 - 110ms/epoch - 4ms/step\n",
      "Epoch 219/300\n",
      "29/29 - 0s - loss: 0.0025 - accuracy: 0.9989 - val_loss: 0.8964 - val_accuracy: 0.8544 - 108ms/epoch - 4ms/step\n",
      "Epoch 220/300\n",
      "29/29 - 0s - loss: 0.0038 - accuracy: 0.9989 - val_loss: 0.6953 - val_accuracy: 0.8641 - 123ms/epoch - 4ms/step\n",
      "Epoch 221/300\n",
      "29/29 - 0s - loss: 0.0034 - accuracy: 0.9989 - val_loss: 0.7603 - val_accuracy: 0.8738 - 125ms/epoch - 4ms/step\n",
      "Epoch 222/300\n",
      "29/29 - 0s - loss: 0.0153 - accuracy: 0.9957 - val_loss: 0.7812 - val_accuracy: 0.8641 - 132ms/epoch - 5ms/step\n",
      "Epoch 223/300\n",
      "29/29 - 0s - loss: 0.0058 - accuracy: 0.9978 - val_loss: 0.8189 - val_accuracy: 0.8641 - 114ms/epoch - 4ms/step\n",
      "Epoch 224/300\n",
      "29/29 - 0s - loss: 0.0072 - accuracy: 0.9978 - val_loss: 0.8890 - val_accuracy: 0.8447 - 117ms/epoch - 4ms/step\n",
      "Epoch 225/300\n",
      "29/29 - 0s - loss: 0.0057 - accuracy: 0.9968 - val_loss: 0.8285 - val_accuracy: 0.8544 - 118ms/epoch - 4ms/step\n",
      "Epoch 226/300\n",
      "29/29 - 0s - loss: 0.0016 - accuracy: 1.0000 - val_loss: 0.8102 - val_accuracy: 0.8738 - 115ms/epoch - 4ms/step\n",
      "Epoch 227/300\n",
      "29/29 - 0s - loss: 0.0039 - accuracy: 0.9989 - val_loss: 0.7605 - val_accuracy: 0.8738 - 109ms/epoch - 4ms/step\n",
      "Epoch 228/300\n",
      "29/29 - 0s - loss: 0.0017 - accuracy: 1.0000 - val_loss: 0.7429 - val_accuracy: 0.8738 - 123ms/epoch - 4ms/step\n",
      "Epoch 229/300\n",
      "29/29 - 0s - loss: 0.0018 - accuracy: 1.0000 - val_loss: 0.7036 - val_accuracy: 0.8641 - 110ms/epoch - 4ms/step\n",
      "Epoch 230/300\n",
      "29/29 - 0s - loss: 0.0030 - accuracy: 0.9989 - val_loss: 0.8924 - val_accuracy: 0.8544 - 119ms/epoch - 4ms/step\n",
      "Epoch 231/300\n",
      "29/29 - 0s - loss: 0.0017 - accuracy: 1.0000 - val_loss: 0.8402 - val_accuracy: 0.8738 - 126ms/epoch - 4ms/step\n",
      "Epoch 232/300\n",
      "29/29 - 0s - loss: 4.1864e-04 - accuracy: 1.0000 - val_loss: 0.8163 - val_accuracy: 0.8738 - 104ms/epoch - 4ms/step\n",
      "Epoch 233/300\n",
      "29/29 - 0s - loss: 5.7807e-04 - accuracy: 1.0000 - val_loss: 0.8042 - val_accuracy: 0.8835 - 124ms/epoch - 4ms/step\n",
      "Epoch 234/300\n",
      "29/29 - 0s - loss: 0.0014 - accuracy: 1.0000 - val_loss: 0.8340 - val_accuracy: 0.8641 - 111ms/epoch - 4ms/step\n",
      "Epoch 235/300\n",
      "29/29 - 0s - loss: 0.0023 - accuracy: 0.9989 - val_loss: 0.9573 - val_accuracy: 0.8641 - 106ms/epoch - 4ms/step\n",
      "Epoch 236/300\n",
      "29/29 - 0s - loss: 0.0032 - accuracy: 0.9989 - val_loss: 0.8329 - val_accuracy: 0.8738 - 123ms/epoch - 4ms/step\n",
      "Epoch 237/300\n",
      "29/29 - 0s - loss: 0.0027 - accuracy: 0.9989 - val_loss: 0.8528 - val_accuracy: 0.8641 - 109ms/epoch - 4ms/step\n",
      "Epoch 238/300\n",
      "29/29 - 0s - loss: 0.0014 - accuracy: 1.0000 - val_loss: 0.9197 - val_accuracy: 0.8447 - 122ms/epoch - 4ms/step\n",
      "Epoch 239/300\n",
      "29/29 - 0s - loss: 0.0018 - accuracy: 1.0000 - val_loss: 0.9007 - val_accuracy: 0.8835 - 107ms/epoch - 4ms/step\n",
      "Epoch 240/300\n",
      "29/29 - 0s - loss: 0.0023 - accuracy: 0.9989 - val_loss: 0.9149 - val_accuracy: 0.8641 - 120ms/epoch - 4ms/step\n",
      "Epoch 241/300\n",
      "29/29 - 0s - loss: 0.0030 - accuracy: 0.9989 - val_loss: 0.9007 - val_accuracy: 0.8544 - 107ms/epoch - 4ms/step\n",
      "Epoch 242/300\n",
      "29/29 - 0s - loss: 0.0027 - accuracy: 1.0000 - val_loss: 0.9620 - val_accuracy: 0.8738 - 105ms/epoch - 4ms/step\n",
      "Epoch 243/300\n",
      "29/29 - 0s - loss: 0.0046 - accuracy: 0.9978 - val_loss: 0.7549 - val_accuracy: 0.8932 - 122ms/epoch - 4ms/step\n",
      "Epoch 244/300\n",
      "29/29 - 0s - loss: 0.0026 - accuracy: 0.9989 - val_loss: 0.8910 - val_accuracy: 0.8738 - 126ms/epoch - 4ms/step\n",
      "Epoch 245/300\n",
      "29/29 - 0s - loss: 0.0028 - accuracy: 0.9989 - val_loss: 0.8238 - val_accuracy: 0.8932 - 120ms/epoch - 4ms/step\n",
      "Epoch 246/300\n",
      "29/29 - 0s - loss: 0.0044 - accuracy: 0.9978 - val_loss: 0.8965 - val_accuracy: 0.8544 - 118ms/epoch - 4ms/step\n",
      "Epoch 247/300\n",
      "29/29 - 0s - loss: 0.0023 - accuracy: 0.9989 - val_loss: 0.8976 - val_accuracy: 0.8544 - 115ms/epoch - 4ms/step\n",
      "Epoch 248/300\n",
      "29/29 - 0s - loss: 0.0017 - accuracy: 1.0000 - val_loss: 0.8830 - val_accuracy: 0.8641 - 112ms/epoch - 4ms/step\n",
      "Epoch 249/300\n",
      "29/29 - 0s - loss: 0.0013 - accuracy: 1.0000 - val_loss: 0.8872 - val_accuracy: 0.8738 - 105ms/epoch - 4ms/step\n",
      "Epoch 250/300\n",
      "29/29 - 0s - loss: 0.0087 - accuracy: 0.9968 - val_loss: 0.9928 - val_accuracy: 0.8544 - 122ms/epoch - 4ms/step\n",
      "Epoch 251/300\n",
      "29/29 - 0s - loss: 0.0016 - accuracy: 1.0000 - val_loss: 0.9339 - val_accuracy: 0.8544 - 120ms/epoch - 4ms/step\n",
      "Epoch 252/300\n",
      "29/29 - 0s - loss: 0.0058 - accuracy: 0.9978 - val_loss: 0.8900 - val_accuracy: 0.8544 - 107ms/epoch - 4ms/step\n",
      "Epoch 253/300\n",
      "29/29 - 0s - loss: 0.0022 - accuracy: 1.0000 - val_loss: 0.9520 - val_accuracy: 0.8447 - 125ms/epoch - 4ms/step\n",
      "Epoch 254/300\n",
      "29/29 - 0s - loss: 0.0037 - accuracy: 0.9978 - val_loss: 0.8238 - val_accuracy: 0.8641 - 103ms/epoch - 4ms/step\n",
      "Epoch 255/300\n",
      "29/29 - 0s - loss: 0.0034 - accuracy: 0.9989 - val_loss: 0.8067 - val_accuracy: 0.8641 - 141ms/epoch - 5ms/step\n",
      "Epoch 256/300\n",
      "29/29 - 0s - loss: 0.0030 - accuracy: 0.9978 - val_loss: 0.8714 - val_accuracy: 0.8447 - 110ms/epoch - 4ms/step\n",
      "Epoch 257/300\n",
      "29/29 - 0s - loss: 7.3940e-04 - accuracy: 1.0000 - val_loss: 0.8544 - val_accuracy: 0.8641 - 110ms/epoch - 4ms/step\n",
      "Epoch 258/300\n",
      "29/29 - 0s - loss: 9.2508e-04 - accuracy: 1.0000 - val_loss: 0.8543 - val_accuracy: 0.8544 - 127ms/epoch - 4ms/step\n",
      "Epoch 259/300\n",
      "29/29 - 0s - loss: 8.1518e-04 - accuracy: 1.0000 - val_loss: 0.8529 - val_accuracy: 0.8738 - 119ms/epoch - 4ms/step\n",
      "Epoch 260/300\n",
      "29/29 - 0s - loss: 0.0023 - accuracy: 1.0000 - val_loss: 0.8627 - val_accuracy: 0.8641 - 106ms/epoch - 4ms/step\n",
      "Epoch 261/300\n",
      "29/29 - 0s - loss: 0.0017 - accuracy: 0.9989 - val_loss: 0.7773 - val_accuracy: 0.8835 - 115ms/epoch - 4ms/step\n",
      "Epoch 262/300\n",
      "29/29 - 0s - loss: 0.0012 - accuracy: 1.0000 - val_loss: 0.8568 - val_accuracy: 0.8932 - 105ms/epoch - 4ms/step\n",
      "Epoch 263/300\n",
      "29/29 - 0s - loss: 7.5843e-04 - accuracy: 1.0000 - val_loss: 0.8812 - val_accuracy: 0.8738 - 111ms/epoch - 4ms/step\n",
      "Epoch 264/300\n",
      "29/29 - 0s - loss: 0.0025 - accuracy: 0.9989 - val_loss: 0.8677 - val_accuracy: 0.8641 - 116ms/epoch - 4ms/step\n",
      "Epoch 265/300\n",
      "29/29 - 0s - loss: 0.0028 - accuracy: 0.9989 - val_loss: 0.7129 - val_accuracy: 0.8738 - 124ms/epoch - 4ms/step\n",
      "Epoch 266/300\n",
      "29/29 - 0s - loss: 0.0015 - accuracy: 1.0000 - val_loss: 0.8277 - val_accuracy: 0.8641 - 116ms/epoch - 4ms/step\n",
      "Epoch 267/300\n",
      "29/29 - 0s - loss: 0.0028 - accuracy: 0.9989 - val_loss: 0.7980 - val_accuracy: 0.8835 - 121ms/epoch - 4ms/step\n",
      "Epoch 268/300\n",
      "29/29 - 0s - loss: 0.0026 - accuracy: 0.9989 - val_loss: 0.7733 - val_accuracy: 0.8932 - 124ms/epoch - 4ms/step\n",
      "Epoch 269/300\n",
      "29/29 - 0s - loss: 0.0064 - accuracy: 0.9968 - val_loss: 0.7838 - val_accuracy: 0.8738 - 119ms/epoch - 4ms/step\n",
      "Epoch 270/300\n",
      "29/29 - 0s - loss: 8.9318e-04 - accuracy: 1.0000 - val_loss: 0.8293 - val_accuracy: 0.8544 - 122ms/epoch - 4ms/step\n",
      "Epoch 271/300\n",
      "29/29 - 0s - loss: 0.0012 - accuracy: 1.0000 - val_loss: 0.8688 - val_accuracy: 0.8447 - 124ms/epoch - 4ms/step\n",
      "Epoch 272/300\n",
      "29/29 - 0s - loss: 0.0026 - accuracy: 0.9978 - val_loss: 0.9426 - val_accuracy: 0.8350 - 120ms/epoch - 4ms/step\n",
      "Epoch 273/300\n",
      "29/29 - 0s - loss: 0.0021 - accuracy: 0.9989 - val_loss: 1.0663 - val_accuracy: 0.8252 - 124ms/epoch - 4ms/step\n",
      "Epoch 274/300\n",
      "29/29 - 0s - loss: 4.6081e-04 - accuracy: 1.0000 - val_loss: 0.9837 - val_accuracy: 0.8447 - 112ms/epoch - 4ms/step\n",
      "Epoch 275/300\n",
      "29/29 - 0s - loss: 0.0020 - accuracy: 0.9989 - val_loss: 0.8828 - val_accuracy: 0.8641 - 120ms/epoch - 4ms/step\n",
      "Epoch 276/300\n",
      "29/29 - 0s - loss: 0.0024 - accuracy: 0.9989 - val_loss: 0.9278 - val_accuracy: 0.8738 - 121ms/epoch - 4ms/step\n",
      "Epoch 277/300\n",
      "29/29 - 0s - loss: 0.0018 - accuracy: 0.9989 - val_loss: 0.9610 - val_accuracy: 0.8447 - 124ms/epoch - 4ms/step\n",
      "Epoch 278/300\n",
      "29/29 - 0s - loss: 0.0051 - accuracy: 0.9957 - val_loss: 0.9377 - val_accuracy: 0.8641 - 112ms/epoch - 4ms/step\n",
      "Epoch 279/300\n",
      "29/29 - 0s - loss: 0.0031 - accuracy: 0.9989 - val_loss: 0.9751 - val_accuracy: 0.8544 - 121ms/epoch - 4ms/step\n",
      "Epoch 280/300\n",
      "29/29 - 0s - loss: 0.0042 - accuracy: 0.9989 - val_loss: 0.9664 - val_accuracy: 0.8738 - 132ms/epoch - 5ms/step\n",
      "Epoch 281/300\n",
      "29/29 - 0s - loss: 0.0026 - accuracy: 0.9989 - val_loss: 1.0091 - val_accuracy: 0.8738 - 117ms/epoch - 4ms/step\n",
      "Epoch 282/300\n",
      "29/29 - 0s - loss: 0.0014 - accuracy: 1.0000 - val_loss: 1.0081 - val_accuracy: 0.8641 - 109ms/epoch - 4ms/step\n",
      "Epoch 283/300\n",
      "29/29 - 0s - loss: 0.0032 - accuracy: 0.9989 - val_loss: 0.7183 - val_accuracy: 0.8835 - 129ms/epoch - 4ms/step\n",
      "Epoch 284/300\n",
      "29/29 - 0s - loss: 0.0036 - accuracy: 0.9989 - val_loss: 0.9520 - val_accuracy: 0.8544 - 112ms/epoch - 4ms/step\n",
      "Epoch 285/300\n",
      "29/29 - 0s - loss: 0.0035 - accuracy: 0.9978 - val_loss: 0.9563 - val_accuracy: 0.8350 - 120ms/epoch - 4ms/step\n",
      "Epoch 286/300\n",
      "29/29 - 0s - loss: 0.0022 - accuracy: 1.0000 - val_loss: 0.9473 - val_accuracy: 0.8350 - 109ms/epoch - 4ms/step\n",
      "Epoch 287/300\n",
      "29/29 - 0s - loss: 9.7646e-04 - accuracy: 1.0000 - val_loss: 0.9605 - val_accuracy: 0.8350 - 110ms/epoch - 4ms/step\n",
      "Epoch 288/300\n",
      "29/29 - 0s - loss: 8.5753e-04 - accuracy: 1.0000 - val_loss: 0.9076 - val_accuracy: 0.8350 - 111ms/epoch - 4ms/step\n",
      "Epoch 289/300\n",
      "29/29 - 0s - loss: 2.4970e-04 - accuracy: 1.0000 - val_loss: 0.9169 - val_accuracy: 0.8447 - 117ms/epoch - 4ms/step\n",
      "Epoch 290/300\n",
      "29/29 - 0s - loss: 0.0015 - accuracy: 1.0000 - val_loss: 1.0217 - val_accuracy: 0.8252 - 105ms/epoch - 4ms/step\n",
      "Epoch 291/300\n",
      "29/29 - 0s - loss: 8.5588e-04 - accuracy: 1.0000 - val_loss: 0.9882 - val_accuracy: 0.8350 - 104ms/epoch - 4ms/step\n",
      "Epoch 292/300\n",
      "29/29 - 0s - loss: 9.7029e-04 - accuracy: 1.0000 - val_loss: 0.9478 - val_accuracy: 0.8447 - 111ms/epoch - 4ms/step\n",
      "Epoch 293/300\n",
      "29/29 - 0s - loss: 0.0023 - accuracy: 0.9989 - val_loss: 0.8719 - val_accuracy: 0.8738 - 120ms/epoch - 4ms/step\n",
      "Epoch 294/300\n",
      "29/29 - 0s - loss: 0.0029 - accuracy: 0.9989 - val_loss: 0.8817 - val_accuracy: 0.8641 - 122ms/epoch - 4ms/step\n",
      "Epoch 295/300\n",
      "29/29 - 0s - loss: 0.0037 - accuracy: 0.9978 - val_loss: 0.9094 - val_accuracy: 0.8641 - 107ms/epoch - 4ms/step\n",
      "Epoch 296/300\n",
      "29/29 - 0s - loss: 0.0029 - accuracy: 0.9978 - val_loss: 1.0868 - val_accuracy: 0.8447 - 108ms/epoch - 4ms/step\n",
      "Epoch 297/300\n",
      "29/29 - 0s - loss: 0.0032 - accuracy: 0.9989 - val_loss: 1.0056 - val_accuracy: 0.8447 - 121ms/epoch - 4ms/step\n",
      "Epoch 298/300\n",
      "29/29 - 0s - loss: 8.0155e-04 - accuracy: 1.0000 - val_loss: 0.9882 - val_accuracy: 0.8544 - 109ms/epoch - 4ms/step\n",
      "Epoch 299/300\n",
      "29/29 - 0s - loss: 0.0012 - accuracy: 1.0000 - val_loss: 1.0524 - val_accuracy: 0.8447 - 108ms/epoch - 4ms/step\n",
      "Epoch 300/300\n",
      "29/29 - 0s - loss: 0.0021 - accuracy: 1.0000 - val_loss: 0.9434 - val_accuracy: 0.8738 - 122ms/epoch - 4ms/step\n"
     ]
    }
   ],
   "source": [
    "history_3 = model_3.fit(X_train_scaled, \n",
    "                    y_train, \n",
    "                    validation_split=0.1, \n",
    "                    epochs=300,\n",
    "                    verbose=2)"
   ]
  },
  {
   "cell_type": "code",
   "execution_count": 45,
   "id": "a88574da",
   "metadata": {
    "colab": {
     "base_uri": "https://localhost:8080/",
     "height": 295
    },
    "id": "a88574da",
    "outputId": "6a0f94ad-18b5-4d2b-93e5-3bd07057d77a"
   },
   "outputs": [
    {
     "data": {
      "image/png": "[encoded data removed]",
      "text/plain": [
       "<Figure size 432x288 with 1 Axes>"
      ]
     },
     "metadata": {
      "needs_background": "light"
     },
     "output_type": "display_data"
    }
   ],
   "source": [
    "plt.plot(history_3.history['accuracy'])\n",
    "plt.plot(history_3.history['val_accuracy'])\n",
    "plt.title('Accuracy vs Epochs')\n",
    "plt.ylabel('Accuracy')\n",
    "plt.xlabel('Epoch')\n",
    "plt.legend(['Train', 'Validation'], loc='lower right')\n",
    "plt.show()"
   ]
  },
  {
   "cell_type": "markdown",
   "id": "10fb9b82",
   "metadata": {
    "id": "10fb9b82"
   },
   "source": [
    "**Observations:**\n",
    "\n",
    "- This model is giving a generalized performance with about 99% accuracy on the train and about 88% on the test data.\n",
    "- The validation accuracy and the training accuracy has improved significantly.\n",
    "- Among all three models, model 3 has given the best performance. Let's evaluate its performance on the train and test data."
   ]
  },
  {
   "cell_type": "markdown",
   "id": "011bb78a",
   "metadata": {
    "id": "011bb78a"
   },
   "source": [
    "### **Model evaluation on the train and test data**"
   ]
  },
  {
   "cell_type": "code",
   "execution_count": 46,
   "id": "eX25CdCy-MUo",
   "metadata": {
    "colab": {
     "base_uri": "https://localhost:8080/"
    },
    "id": "eX25CdCy-MUo",
    "outputId": "28cebdc2-b04c-47de-f251-f35a5f397e60"
   },
   "outputs": [
    {
     "name": "stdout",
     "output_type": "stream",
     "text": [
      "33/33 [==============================] - 0s 2ms/step - loss: 0.0945 - accuracy: 0.9874\n",
      "33/33 [==============================] - 0s 1ms/step\n"
     ]
    }
   ],
   "source": [
    "model_3.evaluate(X_train_scaled, y_train, verbose = 1)\n",
    "train_pred = np.round(model_3.predict(X_train_scaled))"
   ]
  },
  {
   "cell_type": "code",
   "execution_count": 47,
   "id": "b77a4629",
   "metadata": {
    "colab": {
     "base_uri": "https://localhost:8080/"
    },
    "id": "b77a4629",
    "outputId": "ae3c0735-bc37-47d1-ecdb-dd48b87b68c0"
   },
   "outputs": [
    {
     "name": "stdout",
     "output_type": "stream",
     "text": [
      "14/14 [==============================] - 0s 2ms/step - loss: 0.9982 - accuracy: 0.8844\n",
      "14/14 [==============================] - 0s 2ms/step\n"
     ]
    }
   ],
   "source": [
    "model_3.evaluate(X_test_scaled, y_test, verbose = 1)\n",
    "test_pred = np.round(model_3.predict(X_test_scaled))"
   ]
  },
  {
   "cell_type": "code",
   "execution_count": 49,
   "id": "76Ucsqt--C_x",
   "metadata": {
    "colab": {
     "base_uri": "https://localhost:8080/",
     "height": 495
    },
    "id": "76Ucsqt--C_x",
    "outputId": "6f8e75d1-3549-48f5-bbc1-4771bc4f94b5"
   },
   "outputs": [
    {
     "name": "stdout",
     "output_type": "stream",
     "text": [
      "              precision    recall  f1-score   support\n",
      "\n",
      "           0       0.99      1.00      0.99       863\n",
      "           1       1.00      0.92      0.96       166\n",
      "\n",
      "    accuracy                           0.99      1029\n",
      "   macro avg       0.99      0.96      0.98      1029\n",
      "weighted avg       0.99      0.99      0.99      1029\n",
      "\n"
     ]
    },
    {
     "data": {
      "image/png": "[encoded data removed]",
      "text/plain": [
       "<Figure size 576x360 with 2 Axes>"
      ]
     },
     "metadata": {
      "needs_background": "light"
     },
     "output_type": "display_data"
    }
   ],
   "source": [
    "metrics_score(y_train, train_pred)"
   ]
  },
  {
   "cell_type": "code",
   "execution_count": 50,
   "id": "TTbb5Gj-9a5Q",
   "metadata": {
    "colab": {
     "base_uri": "https://localhost:8080/",
     "height": 495
    },
    "id": "TTbb5Gj-9a5Q",
    "outputId": "56ccf1c4-6aae-4f94-aa35-b15fa6b31497"
   },
   "outputs": [
    {
     "name": "stdout",
     "output_type": "stream",
     "text": [
      "              precision    recall  f1-score   support\n",
      "\n",
      "           0       0.89      0.98      0.93       370\n",
      "           1       0.78      0.39      0.52        71\n",
      "\n",
      "    accuracy                           0.88       441\n",
      "   macro avg       0.84      0.69      0.73       441\n",
      "weighted avg       0.88      0.88      0.87       441\n",
      "\n"
     ]
    },
    {
     "data": {
      "image/png": "[encoded data removed]",
      "text/plain": [
       "<Figure size 576x360 with 2 Axes>"
      ]
     },
     "metadata": {
      "needs_background": "light"
     },
     "output_type": "display_data"
    }
   ],
   "source": [
    "metrics_score(y_test, test_pred)"
   ]
  },
  {
   "cell_type": "code",
   "execution_count": 75,
   "id": "468ff17f",
   "metadata": {
    "id": "468ff17f"
   },
   "outputs": [],
   "source": []
  }
 ],
 "metadata": {
  "colab": {
   "provenance": []
  },
  "kernelspec": {
   "display_name": "Python 3 (ipykernel)",
   "language": "python",
   "name": "python3"
  },
  "language_info": {
   "codemirror_mode": {
    "name": "ipython",
    "version": 3
   },
   "file_extension": ".py",
   "mimetype": "text/x-python",
   "name": "python",
   "nbconvert_exporter": "python",
   "pygments_lexer": "ipython3",
   "version": "3.9.12"
  }
 },
 "nbformat": 4,
 "nbformat_minor": 5
}
